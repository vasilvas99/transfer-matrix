{
 "cells": [
  {
   "cell_type": "code",
   "execution_count": 1,
   "id": "fe8ef83a",
   "metadata": {
    "scrolled": true
   },
   "outputs": [
    {
     "name": "stderr",
     "output_type": "stream",
     "text": [
      "\u001b[32m\u001b[1m    Updating\u001b[22m\u001b[39m registry at `~/.julia/registries/General.toml`\n",
      "\u001b[32m\u001b[1m   Resolving\u001b[22m\u001b[39m package versions...\n",
      "\u001b[32m\u001b[1m  No Changes\u001b[22m\u001b[39m to `~/.julia/environments/v1.8/Project.toml`\n",
      "\u001b[32m\u001b[1m  No Changes\u001b[22m\u001b[39m to `~/.julia/environments/v1.8/Manifest.toml`\n",
      "\u001b[32m\u001b[1m   Resolving\u001b[22m\u001b[39m package versions...\n",
      "\u001b[32m\u001b[1m  No Changes\u001b[22m\u001b[39m to `~/.julia/environments/v1.8/Project.toml`\n",
      "\u001b[32m\u001b[1m  No Changes\u001b[22m\u001b[39m to `~/.julia/environments/v1.8/Manifest.toml`\n",
      "\u001b[32m\u001b[1m   Resolving\u001b[22m\u001b[39m package versions...\n",
      "\u001b[32m\u001b[1m  No Changes\u001b[22m\u001b[39m to `~/.julia/environments/v1.8/Project.toml`\n",
      "\u001b[32m\u001b[1m  No Changes\u001b[22m\u001b[39m to `~/.julia/environments/v1.8/Manifest.toml`\n",
      "\u001b[32m\u001b[1m   Resolving\u001b[22m\u001b[39m package versions...\n",
      "\u001b[32m\u001b[1m  No Changes\u001b[22m\u001b[39m to `~/.julia/environments/v1.8/Project.toml`\n",
      "\u001b[32m\u001b[1m  No Changes\u001b[22m\u001b[39m to `~/.julia/environments/v1.8/Manifest.toml`\n",
      "\u001b[32m\u001b[1m   Resolving\u001b[22m\u001b[39m package versions...\n",
      "\u001b[32m\u001b[1m    Updating\u001b[22m\u001b[39m `~/.julia/environments/v1.8/Project.toml`\n",
      " \u001b[90m [b964fa9f] \u001b[39m\u001b[92m+ LaTeXStrings v1.3.0\u001b[39m\n",
      "\u001b[32m\u001b[1m  No Changes\u001b[22m\u001b[39m to `~/.julia/environments/v1.8/Manifest.toml`\n"
     ]
    },
    {
     "data": {
      "text/plain": [
       "true"
      ]
     },
     "execution_count": 1,
     "metadata": {},
     "output_type": "execute_result"
    }
   ],
   "source": [
    "if !@isdefined(PACKAGES)\n",
    "    using Pkg;\n",
    "    Pkg.add(\"Arpack\");\n",
    "    Pkg.add(\"CSV\");\n",
    "    Pkg.add(\"DataFrames\");\n",
    "    Pkg.add(\"Plots\");\n",
    "    Pkg.add(\"LaTeXStrings\");\n",
    "    using CSV;\n",
    "    using DataFrames;\n",
    "    using LinearAlgebra;\n",
    "    using Arpack;\n",
    "    using Plots;\n",
    "    using LaTeXStrings;\n",
    "    PACKAGES = true;\n",
    "end"
   ]
  },
  {
   "cell_type": "code",
   "execution_count": 2,
   "id": "4f6d6cd2",
   "metadata": {
    "scrolled": true
   },
   "outputs": [
    {
     "data": {
      "text/plain": [
       "spin_state (generic function with 1 method)"
      ]
     },
     "execution_count": 2,
     "metadata": {},
     "output_type": "execute_result"
    }
   ],
   "source": [
    "function spin_state(num_spins, chain_configuration, spin_number)\n",
    "    if spin_number > num_spins\n",
    "         throw(DomainError(spin_number, \"Spin number should be <= num_spins\"))\n",
    "    end\n",
    "    spin_number -= 1 # start counting of bits from 1\n",
    "    mask = 1 << spin_number\n",
    "    state = chain_configuration & mask\n",
    "    return state != 0 ? 1 : -1\n",
    "end"
   ]
  },
  {
   "cell_type": "code",
   "execution_count": 3,
   "id": "fbf1c3d0",
   "metadata": {
    "scrolled": true
   },
   "outputs": [
    {
     "data": {
      "text/plain": [
       "inter_chain_contribution (generic function with 1 method)"
      ]
     },
     "execution_count": 3,
     "metadata": {},
     "output_type": "execute_result"
    }
   ],
   "source": [
    "function inter_chain_contribution(num_spins, ch1, ch2)\n",
    "    hij = 0\n",
    "    for i in 1:num_spins\n",
    "        hij += spin_state(num_spins, ch1, i)*spin_state(num_spins, ch2, i)\n",
    "    end\n",
    "    return hij\n",
    "end"
   ]
  },
  {
   "cell_type": "code",
   "execution_count": 4,
   "id": "12d0004f",
   "metadata": {
    "scrolled": true
   },
   "outputs": [
    {
     "data": {
      "text/plain": [
       "chain_contribution (generic function with 1 method)"
      ]
     },
     "execution_count": 4,
     "metadata": {},
     "output_type": "execute_result"
    }
   ],
   "source": [
    "function chain_contribution(num_spins, chain_conf)\n",
    "    hij = 0\n",
    "    for i in 1:num_spins\n",
    "        hij += (spin_state(num_spins, chain_conf, i)\n",
    "        *spin_state(num_spins, chain_conf, i%num_spins + 1))\n",
    "    end\n",
    "    return hij\n",
    "end"
   ]
  },
  {
   "cell_type": "code",
   "execution_count": 5,
   "id": "f20d8c35",
   "metadata": {
    "scrolled": true
   },
   "outputs": [
    {
     "data": {
      "text/plain": [
       "hamiltonian (generic function with 1 method)"
      ]
     },
     "execution_count": 5,
     "metadata": {},
     "output_type": "execute_result"
    }
   ],
   "source": [
    "function hamiltonian(n, ch1, ch2, jnn)\n",
    "    hij = (\n",
    "        0.5*jnn*chain_contribution(n, ch1)\n",
    "        + 0.5*jnn*chain_contribution(n, ch2)\n",
    "        + jnn*inter_chain_contribution(n, ch1, ch2)\n",
    "    )\n",
    "    return hij\n",
    "end"
   ]
  },
  {
   "cell_type": "code",
   "execution_count": 6,
   "id": "520e27e1",
   "metadata": {
    "scrolled": true
   },
   "outputs": [
    {
     "data": {
      "text/plain": [
       "tm_element (generic function with 1 method)"
      ]
     },
     "execution_count": 6,
     "metadata": {},
     "output_type": "execute_result"
    }
   ],
   "source": [
    "function tm_element(n, ch1, ch2, jnn, temp)\n",
    "    return exp(-hamiltonian(n, ch1, ch2, jnn)/temp)\n",
    "end"
   ]
  },
  {
   "cell_type": "code",
   "execution_count": 7,
   "id": "b3a76b4d",
   "metadata": {
    "scrolled": false
   },
   "outputs": [
    {
     "data": {
      "text/plain": [
       "tm_n (generic function with 1 method)"
      ]
     },
     "execution_count": 7,
     "metadata": {},
     "output_type": "execute_result"
    }
   ],
   "source": [
    "function tm_n(n, temp)\n",
    "    n_states = 2^n\n",
    "    jnn = -1\n",
    "    \n",
    "    # fastest way to calculate a matrix in Julia is with a list-comprehension\n",
    "    tm_block = [tm_element(n, ch1, ch2, jnn, temp) for ch1 = 1:n_states, ch2 = 1:n_states]\n",
    "    \n",
    "    return tm_block\n",
    "end"
   ]
  },
  {
   "cell_type": "code",
   "execution_count": 8,
   "id": "e0b27e07",
   "metadata": {
    "scrolled": true
   },
   "outputs": [
    {
     "data": {
      "text/plain": [
       "corr_len (generic function with 1 method)"
      ]
     },
     "execution_count": 8,
     "metadata": {},
     "output_type": "execute_result"
    }
   ],
   "source": [
    "function corr_len(n_spins, temp)\n",
    "    tm_block = tm_n(n_spins, temp)\n",
    "    if n_spins > 2\n",
    "        # Arnoldi iteration can't find the smallest eigenvalue (only the n_states-1 largest),\n",
    "        # thus if n = 1, and n_states = 2 => the second eigenvalue won't be found\n",
    "        # ref: https://en.wikipedia.org/wiki/Arnoldi_iteration#Finding_eigenvalues_with_the_Arnoldi_iteration\n",
    "        eig_val, eig_vec = eigs(tm_block, nev=2); # first and second largest eigenvalues\n",
    "        cln = 1.0/(log(eig_val[1]/abs(eig_val[2])))\n",
    "    else\n",
    "        # the built-in Julia method finds ALL eigenvalues (not just the k largest), \n",
    "        # but is slower than ARPACK (ok for 2x2 matrices)\n",
    "        eig_val = sort(eigvals(tm_block), rev=true)\n",
    "        cln = 1.0/(log(eig_val[1]/abs(eig_val[2])))\n",
    "    end\n",
    "    \n",
    "    return cln\n",
    "end"
   ]
  },
  {
   "cell_type": "code",
   "execution_count": 9,
   "id": "874590b6",
   "metadata": {
    "scrolled": false
   },
   "outputs": [
    {
     "data": {
      "text/plain": [
       "38.095135405011604"
      ]
     },
     "execution_count": 9,
     "metadata": {},
     "output_type": "execute_result"
    }
   ],
   "source": [
    "corr_len(8, 2) # expected 38.09513540501129"
   ]
  },
  {
   "cell_type": "code",
   "execution_count": 10,
   "id": "a229c618",
   "metadata": {
    "scrolled": true
   },
   "outputs": [
    {
     "data": {
      "text/plain": [
       "calculate_ratios (generic function with 1 method)"
      ]
     },
     "execution_count": 10,
     "metadata": {},
     "output_type": "execute_result"
    }
   ],
   "source": [
    "function calculate_ratios(n_spins, temp)\n",
    "    r = [(corr_len(i, temp)*(i+1))/(corr_len(i+1, temp)*i) for i = 2:n_spins-1]\n",
    "    return r\n",
    "end"
   ]
  },
  {
   "cell_type": "code",
   "execution_count": 11,
   "id": "47c09020",
   "metadata": {
    "scrolled": true
   },
   "outputs": [
    {
     "data": {
      "text/plain": [
       "calculate_temp_range (generic function with 1 method)"
      ]
     },
     "execution_count": 11,
     "metadata": {},
     "output_type": "execute_result"
    }
   ],
   "source": [
    "function calculate_temp_range(; n_spins, temp0, tempinc, max_iter)\n",
    "    column_names =  [\"r$i$(i+1)\" for i = 2:n_spins-1]\n",
    "    prepend!(column_names, [\"MaxSpins\", \"temp\"])\n",
    "    rows = DataFrame([Float64[] for i in 1:length(column_names)], column_names)\n",
    "    for i in 0:max_iter\n",
    "        t = temp0+tempinc*i\n",
    "        ratios = calculate_ratios(n_spins, t)\n",
    "        row = [n_spins, t]\n",
    "        append!(row, ratios)\n",
    "        rows = push!(rows, row)\n",
    "    end\n",
    "    return rows\n",
    "end"
   ]
  },
  {
   "cell_type": "code",
   "execution_count": 34,
   "id": "e5826bcd",
   "metadata": {
    "scrolled": true
   },
   "outputs": [],
   "source": [
    "MAX_SPINS_CHAIN = 8;\n",
    "TEMP0 = 0.500;\n",
    "TEMP_INC = 0.006;\n",
    "MAX_ITER = 500;"
   ]
  },
  {
   "cell_type": "code",
   "execution_count": 35,
   "id": "42d5fb92",
   "metadata": {
    "scrolled": true
   },
   "outputs": [
    {
     "data": {
      "text/html": [
       "<div><div style = \"float: left;\"><span>501×8 DataFrame</span></div><div style = \"float: right;\"><span style = \"font-style: italic;\">476 rows omitted</span></div><div style = \"clear: both;\"></div></div><div class = \"data-frame\" style = \"overflow-x: scroll;\"><table class = \"data-frame\" style = \"margin-bottom: 6px;\"><thead><tr class = \"header\"><th class = \"rowNumber\" style = \"font-weight: bold; text-align: right;\">Row</th><th style = \"text-align: left;\">MaxSpins</th><th style = \"text-align: left;\">temp</th><th style = \"text-align: left;\">r23</th><th style = \"text-align: left;\">r34</th><th style = \"text-align: left;\">r45</th><th style = \"text-align: left;\">r56</th><th style = \"text-align: left;\">r67</th><th style = \"text-align: left;\">r78</th></tr><tr class = \"subheader headerLastRow\"><th class = \"rowNumber\" style = \"font-weight: bold; text-align: right;\"></th><th title = \"Float64\" style = \"text-align: left;\">Float64</th><th title = \"Float64\" style = \"text-align: left;\">Float64</th><th title = \"Float64\" style = \"text-align: left;\">Float64</th><th title = \"Float64\" style = \"text-align: left;\">Float64</th><th title = \"Float64\" style = \"text-align: left;\">Float64</th><th title = \"Float64\" style = \"text-align: left;\">Float64</th><th title = \"Float64\" style = \"text-align: left;\">Float64</th><th title = \"Float64\" style = \"text-align: left;\">Float64</th></tr></thead><tbody><tr><td class = \"rowNumber\" style = \"font-weight: bold; text-align: right;\">1</td><td style = \"text-align: right;\">8.0</td><td style = \"text-align: right;\">0.5</td><td style = \"text-align: right;\">0.0275103</td><td style = \"text-align: right;\">0.02447</td><td style = \"text-align: right;\">0.0229559</td><td style = \"text-align: right;\">0.0220524</td><td style = \"text-align: right;\">0.0214606</td><td style = \"text-align: right;\">0.0213483</td></tr><tr><td class = \"rowNumber\" style = \"font-weight: bold; text-align: right;\">2</td><td style = \"text-align: right;\">8.0</td><td style = \"text-align: right;\">0.506</td><td style = \"text-align: right;\">0.0288504</td><td style = \"text-align: right;\">0.0256637</td><td style = \"text-align: right;\">0.0240774</td><td style = \"text-align: right;\">0.0231311</td><td style = \"text-align: right;\">0.0225016</td><td style = \"text-align: right;\">0.0221675</td></tr><tr><td class = \"rowNumber\" style = \"font-weight: bold; text-align: right;\">3</td><td style = \"text-align: right;\">8.0</td><td style = \"text-align: right;\">0.512</td><td style = \"text-align: right;\">0.0302225</td><td style = \"text-align: right;\">0.0268861</td><td style = \"text-align: right;\">0.025226</td><td style = \"text-align: right;\">0.0242362</td><td style = \"text-align: right;\">0.0235847</td><td style = \"text-align: right;\">0.0231192</td></tr><tr><td class = \"rowNumber\" style = \"font-weight: bold; text-align: right;\">4</td><td style = \"text-align: right;\">8.0</td><td style = \"text-align: right;\">0.518</td><td style = \"text-align: right;\">0.0316262</td><td style = \"text-align: right;\">0.028137</td><td style = \"text-align: right;\">0.0264017</td><td style = \"text-align: right;\">0.0253678</td><td style = \"text-align: right;\">0.0246847</td><td style = \"text-align: right;\">0.0241017</td></tr><tr><td class = \"rowNumber\" style = \"font-weight: bold; text-align: right;\">5</td><td style = \"text-align: right;\">8.0</td><td style = \"text-align: right;\">0.524</td><td style = \"text-align: right;\">0.0330612</td><td style = \"text-align: right;\">0.0294161</td><td style = \"text-align: right;\">0.027604</td><td style = \"text-align: right;\">0.0265251</td><td style = \"text-align: right;\">0.0258137</td><td style = \"text-align: right;\">0.0252871</td></tr><tr><td class = \"rowNumber\" style = \"font-weight: bold; text-align: right;\">6</td><td style = \"text-align: right;\">8.0</td><td style = \"text-align: right;\">0.53</td><td style = \"text-align: right;\">0.0345271</td><td style = \"text-align: right;\">0.030723</td><td style = \"text-align: right;\">0.0288329</td><td style = \"text-align: right;\">0.0277083</td><td style = \"text-align: right;\">0.0269655</td><td style = \"text-align: right;\">0.0264181</td></tr><tr><td class = \"rowNumber\" style = \"font-weight: bold; text-align: right;\">7</td><td style = \"text-align: right;\">8.0</td><td style = \"text-align: right;\">0.536</td><td style = \"text-align: right;\">0.0360235</td><td style = \"text-align: right;\">0.0320575</td><td style = \"text-align: right;\">0.0300881</td><td style = \"text-align: right;\">0.0289171</td><td style = \"text-align: right;\">0.0281453</td><td style = \"text-align: right;\">0.0276487</td></tr><tr><td class = \"rowNumber\" style = \"font-weight: bold; text-align: right;\">8</td><td style = \"text-align: right;\">8.0</td><td style = \"text-align: right;\">0.542</td><td style = \"text-align: right;\">0.03755</td><td style = \"text-align: right;\">0.0334192</td><td style = \"text-align: right;\">0.0313692</td><td style = \"text-align: right;\">0.0301514</td><td style = \"text-align: right;\">0.029348</td><td style = \"text-align: right;\">0.0287925</td></tr><tr><td class = \"rowNumber\" style = \"font-weight: bold; text-align: right;\">9</td><td style = \"text-align: right;\">8.0</td><td style = \"text-align: right;\">0.548</td><td style = \"text-align: right;\">0.0391064</td><td style = \"text-align: right;\">0.034808</td><td style = \"text-align: right;\">0.0326761</td><td style = \"text-align: right;\">0.0314106</td><td style = \"text-align: right;\">0.0305781</td><td style = \"text-align: right;\">0.0299903</td></tr><tr><td class = \"rowNumber\" style = \"font-weight: bold; text-align: right;\">10</td><td style = \"text-align: right;\">8.0</td><td style = \"text-align: right;\">0.554</td><td style = \"text-align: right;\">0.0406921</td><td style = \"text-align: right;\">0.0362234</td><td style = \"text-align: right;\">0.0340085</td><td style = \"text-align: right;\">0.0326949</td><td style = \"text-align: right;\">0.0318315</td><td style = \"text-align: right;\">0.031169</td></tr><tr><td class = \"rowNumber\" style = \"font-weight: bold; text-align: right;\">11</td><td style = \"text-align: right;\">8.0</td><td style = \"text-align: right;\">0.56</td><td style = \"text-align: right;\">0.0423068</td><td style = \"text-align: right;\">0.0376652</td><td style = \"text-align: right;\">0.0353662</td><td style = \"text-align: right;\">0.034004</td><td style = \"text-align: right;\">0.0331102</td><td style = \"text-align: right;\">0.0325144</td></tr><tr><td class = \"rowNumber\" style = \"font-weight: bold; text-align: right;\">12</td><td style = \"text-align: right;\">8.0</td><td style = \"text-align: right;\">0.566</td><td style = \"text-align: right;\">0.0439502</td><td style = \"text-align: right;\">0.039133</td><td style = \"text-align: right;\">0.0367488</td><td style = \"text-align: right;\">0.0353376</td><td style = \"text-align: right;\">0.0344125</td><td style = \"text-align: right;\">0.0337561</td></tr><tr><td class = \"rowNumber\" style = \"font-weight: bold; text-align: right;\">13</td><td style = \"text-align: right;\">8.0</td><td style = \"text-align: right;\">0.572</td><td style = \"text-align: right;\">0.0456217</td><td style = \"text-align: right;\">0.0406265</td><td style = \"text-align: right;\">0.0381563</td><td style = \"text-align: right;\">0.0366955</td><td style = \"text-align: right;\">0.0357391</td><td style = \"text-align: right;\">0.0350585</td></tr><tr><td style = \"text-align: right;\">&vellip;</td><td style = \"text-align: right;\">&vellip;</td><td style = \"text-align: right;\">&vellip;</td><td style = \"text-align: right;\">&vellip;</td><td style = \"text-align: right;\">&vellip;</td><td style = \"text-align: right;\">&vellip;</td><td style = \"text-align: right;\">&vellip;</td><td style = \"text-align: right;\">&vellip;</td><td style = \"text-align: right;\">&vellip;</td></tr><tr><td class = \"rowNumber\" style = \"font-weight: bold; text-align: right;\">490</td><td style = \"text-align: right;\">8.0</td><td style = \"text-align: right;\">3.434</td><td style = \"text-align: right;\">1.29864</td><td style = \"text-align: right;\">1.26138</td><td style = \"text-align: right;\">1.22215</td><td style = \"text-align: right;\">1.1885</td><td style = \"text-align: right;\">1.1617</td><td style = \"text-align: right;\">1.14064</td></tr><tr><td class = \"rowNumber\" style = \"font-weight: bold; text-align: right;\">491</td><td style = \"text-align: right;\">8.0</td><td style = \"text-align: right;\">3.44</td><td style = \"text-align: right;\">1.29956</td><td style = \"text-align: right;\">1.2619</td><td style = \"text-align: right;\">1.22243</td><td style = \"text-align: right;\">1.18865</td><td style = \"text-align: right;\">1.16177</td><td style = \"text-align: right;\">1.14068</td></tr><tr><td class = \"rowNumber\" style = \"font-weight: bold; text-align: right;\">492</td><td style = \"text-align: right;\">8.0</td><td style = \"text-align: right;\">3.446</td><td style = \"text-align: right;\">1.30048</td><td style = \"text-align: right;\">1.26242</td><td style = \"text-align: right;\">1.22271</td><td style = \"text-align: right;\">1.18879</td><td style = \"text-align: right;\">1.16185</td><td style = \"text-align: right;\">1.14072</td></tr><tr><td class = \"rowNumber\" style = \"font-weight: bold; text-align: right;\">493</td><td style = \"text-align: right;\">8.0</td><td style = \"text-align: right;\">3.452</td><td style = \"text-align: right;\">1.30139</td><td style = \"text-align: right;\">1.26293</td><td style = \"text-align: right;\">1.22298</td><td style = \"text-align: right;\">1.18893</td><td style = \"text-align: right;\">1.16192</td><td style = \"text-align: right;\">1.14076</td></tr><tr><td class = \"rowNumber\" style = \"font-weight: bold; text-align: right;\">494</td><td style = \"text-align: right;\">8.0</td><td style = \"text-align: right;\">3.458</td><td style = \"text-align: right;\">1.3023</td><td style = \"text-align: right;\">1.26344</td><td style = \"text-align: right;\">1.22324</td><td style = \"text-align: right;\">1.18907</td><td style = \"text-align: right;\">1.16199</td><td style = \"text-align: right;\">1.14079</td></tr><tr><td class = \"rowNumber\" style = \"font-weight: bold; text-align: right;\">495</td><td style = \"text-align: right;\">8.0</td><td style = \"text-align: right;\">3.464</td><td style = \"text-align: right;\">1.30321</td><td style = \"text-align: right;\">1.26395</td><td style = \"text-align: right;\">1.22351</td><td style = \"text-align: right;\">1.18921</td><td style = \"text-align: right;\">1.16206</td><td style = \"text-align: right;\">1.14083</td></tr><tr><td class = \"rowNumber\" style = \"font-weight: bold; text-align: right;\">496</td><td style = \"text-align: right;\">8.0</td><td style = \"text-align: right;\">3.47</td><td style = \"text-align: right;\">1.3041</td><td style = \"text-align: right;\">1.26445</td><td style = \"text-align: right;\">1.22377</td><td style = \"text-align: right;\">1.18935</td><td style = \"text-align: right;\">1.16213</td><td style = \"text-align: right;\">1.14087</td></tr><tr><td class = \"rowNumber\" style = \"font-weight: bold; text-align: right;\">497</td><td style = \"text-align: right;\">8.0</td><td style = \"text-align: right;\">3.476</td><td style = \"text-align: right;\">1.30499</td><td style = \"text-align: right;\">1.26494</td><td style = \"text-align: right;\">1.22403</td><td style = \"text-align: right;\">1.18948</td><td style = \"text-align: right;\">1.1622</td><td style = \"text-align: right;\">1.1409</td></tr><tr><td class = \"rowNumber\" style = \"font-weight: bold; text-align: right;\">498</td><td style = \"text-align: right;\">8.0</td><td style = \"text-align: right;\">3.482</td><td style = \"text-align: right;\">1.30588</td><td style = \"text-align: right;\">1.26543</td><td style = \"text-align: right;\">1.22428</td><td style = \"text-align: right;\">1.18961</td><td style = \"text-align: right;\">1.16227</td><td style = \"text-align: right;\">1.14094</td></tr><tr><td class = \"rowNumber\" style = \"font-weight: bold; text-align: right;\">499</td><td style = \"text-align: right;\">8.0</td><td style = \"text-align: right;\">3.488</td><td style = \"text-align: right;\">1.30676</td><td style = \"text-align: right;\">1.26592</td><td style = \"text-align: right;\">1.22453</td><td style = \"text-align: right;\">1.18974</td><td style = \"text-align: right;\">1.16234</td><td style = \"text-align: right;\">1.14097</td></tr><tr><td class = \"rowNumber\" style = \"font-weight: bold; text-align: right;\">500</td><td style = \"text-align: right;\">8.0</td><td style = \"text-align: right;\">3.494</td><td style = \"text-align: right;\">1.30764</td><td style = \"text-align: right;\">1.2664</td><td style = \"text-align: right;\">1.22478</td><td style = \"text-align: right;\">1.18987</td><td style = \"text-align: right;\">1.1624</td><td style = \"text-align: right;\">1.141</td></tr><tr><td class = \"rowNumber\" style = \"font-weight: bold; text-align: right;\">501</td><td style = \"text-align: right;\">8.0</td><td style = \"text-align: right;\">3.5</td><td style = \"text-align: right;\">1.30851</td><td style = \"text-align: right;\">1.26687</td><td style = \"text-align: right;\">1.22503</td><td style = \"text-align: right;\">1.18999</td><td style = \"text-align: right;\">1.16246</td><td style = \"text-align: right;\">1.14104</td></tr></tbody></table></div>"
      ],
      "text/latex": [
       "\\begin{tabular}{r|cccccccc}\n",
       "\t& MaxSpins & temp & r23 & r34 & r45 & r56 & r67 & r78\\\\\n",
       "\t\\hline\n",
       "\t& Float64 & Float64 & Float64 & Float64 & Float64 & Float64 & Float64 & Float64\\\\\n",
       "\t\\hline\n",
       "\t1 & 8.0 & 0.5 & 0.0275103 & 0.02447 & 0.0229559 & 0.0220524 & 0.0214606 & 0.0213483 \\\\\n",
       "\t2 & 8.0 & 0.506 & 0.0288504 & 0.0256637 & 0.0240774 & 0.0231311 & 0.0225016 & 0.0221675 \\\\\n",
       "\t3 & 8.0 & 0.512 & 0.0302225 & 0.0268861 & 0.025226 & 0.0242362 & 0.0235847 & 0.0231192 \\\\\n",
       "\t4 & 8.0 & 0.518 & 0.0316262 & 0.028137 & 0.0264017 & 0.0253678 & 0.0246847 & 0.0241017 \\\\\n",
       "\t5 & 8.0 & 0.524 & 0.0330612 & 0.0294161 & 0.027604 & 0.0265251 & 0.0258137 & 0.0252871 \\\\\n",
       "\t6 & 8.0 & 0.53 & 0.0345271 & 0.030723 & 0.0288329 & 0.0277083 & 0.0269655 & 0.0264181 \\\\\n",
       "\t7 & 8.0 & 0.536 & 0.0360235 & 0.0320575 & 0.0300881 & 0.0289171 & 0.0281453 & 0.0276487 \\\\\n",
       "\t8 & 8.0 & 0.542 & 0.03755 & 0.0334192 & 0.0313692 & 0.0301514 & 0.029348 & 0.0287925 \\\\\n",
       "\t9 & 8.0 & 0.548 & 0.0391064 & 0.034808 & 0.0326761 & 0.0314106 & 0.0305781 & 0.0299903 \\\\\n",
       "\t10 & 8.0 & 0.554 & 0.0406921 & 0.0362234 & 0.0340085 & 0.0326949 & 0.0318315 & 0.031169 \\\\\n",
       "\t11 & 8.0 & 0.56 & 0.0423068 & 0.0376652 & 0.0353662 & 0.034004 & 0.0331102 & 0.0325144 \\\\\n",
       "\t12 & 8.0 & 0.566 & 0.0439502 & 0.039133 & 0.0367488 & 0.0353376 & 0.0344125 & 0.0337561 \\\\\n",
       "\t13 & 8.0 & 0.572 & 0.0456217 & 0.0406265 & 0.0381563 & 0.0366955 & 0.0357391 & 0.0350585 \\\\\n",
       "\t14 & 8.0 & 0.578 & 0.047321 & 0.0421455 & 0.0395882 & 0.0380776 & 0.0370899 & 0.0363982 \\\\\n",
       "\t15 & 8.0 & 0.584 & 0.0490477 & 0.0436897 & 0.0410444 & 0.0394836 & 0.0384645 & 0.0377452 \\\\\n",
       "\t16 & 8.0 & 0.59 & 0.0508015 & 0.0452586 & 0.0425246 & 0.0409134 & 0.0398629 & 0.0391326 \\\\\n",
       "\t17 & 8.0 & 0.596 & 0.0525819 & 0.0468521 & 0.0440286 & 0.0423668 & 0.0412849 & 0.0405341 \\\\\n",
       "\t18 & 8.0 & 0.602 & 0.0543884 & 0.0484698 & 0.0455561 & 0.0438435 & 0.0427306 & 0.0419583 \\\\\n",
       "\t19 & 8.0 & 0.608 & 0.0562209 & 0.0501115 & 0.047107 & 0.0453435 & 0.0441992 & 0.0434063 \\\\\n",
       "\t20 & 8.0 & 0.614 & 0.0580787 & 0.0517767 & 0.048681 & 0.0468665 & 0.0456913 & 0.0448809 \\\\\n",
       "\t21 & 8.0 & 0.62 & 0.0599616 & 0.0534654 & 0.0502778 & 0.0484123 & 0.0472062 & 0.0463721 \\\\\n",
       "\t22 & 8.0 & 0.626 & 0.0618693 & 0.0551771 & 0.0518974 & 0.0499809 & 0.0487443 & 0.0478941 \\\\\n",
       "\t23 & 8.0 & 0.632 & 0.0638012 & 0.0569117 & 0.0535394 & 0.051572 & 0.050305 & 0.0494362 \\\\\n",
       "\t24 & 8.0 & 0.638 & 0.065757 & 0.0586687 & 0.0552036 & 0.0531856 & 0.0518886 & 0.0510007 \\\\\n",
       "\t25 & 8.0 & 0.644 & 0.0677364 & 0.0604481 & 0.05689 & 0.0548214 & 0.0534948 & 0.0525897 \\\\\n",
       "\t26 & 8.0 & 0.65 & 0.0697391 & 0.0622495 & 0.0585982 & 0.0564793 & 0.0551235 & 0.0542007 \\\\\n",
       "\t27 & 8.0 & 0.656 & 0.0717646 & 0.0640726 & 0.0603282 & 0.0581593 & 0.0567746 & 0.0558344 \\\\\n",
       "\t28 & 8.0 & 0.662 & 0.0738126 & 0.0659173 & 0.0620797 & 0.0598611 & 0.0584481 & 0.0574914 \\\\\n",
       "\t29 & 8.0 & 0.668 & 0.0758828 & 0.0677833 & 0.0638525 & 0.0615848 & 0.0601439 & 0.0591714 \\\\\n",
       "\t30 & 8.0 & 0.674 & 0.0779749 & 0.0696704 & 0.0656466 & 0.06333 & 0.0618618 & 0.0608732 \\\\\n",
       "\t$\\dots$ & $\\dots$ & $\\dots$ & $\\dots$ & $\\dots$ & $\\dots$ & $\\dots$ & $\\dots$ & $\\dots$ \\\\\n",
       "\\end{tabular}\n"
      ],
      "text/plain": [
       "\u001b[1m501×8 DataFrame\u001b[0m\n",
       "\u001b[1m Row \u001b[0m│\u001b[1m MaxSpins \u001b[0m\u001b[1m temp    \u001b[0m\u001b[1m r23       \u001b[0m\u001b[1m r34       \u001b[0m\u001b[1m r45       \u001b[0m\u001b[1m r56       \u001b[0m\u001b[1m r67     \u001b[0m ⋯\n",
       "     │\u001b[90m Float64  \u001b[0m\u001b[90m Float64 \u001b[0m\u001b[90m Float64   \u001b[0m\u001b[90m Float64   \u001b[0m\u001b[90m Float64   \u001b[0m\u001b[90m Float64   \u001b[0m\u001b[90m Float64 \u001b[0m ⋯\n",
       "─────┼──────────────────────────────────────────────────────────────────────────\n",
       "   1 │      8.0    0.5    0.0275103  0.02447    0.0229559  0.0220524  0.021460 ⋯\n",
       "   2 │      8.0    0.506  0.0288504  0.0256637  0.0240774  0.0231311  0.022501\n",
       "   3 │      8.0    0.512  0.0302225  0.0268861  0.025226   0.0242362  0.023584\n",
       "   4 │      8.0    0.518  0.0316262  0.028137   0.0264017  0.0253678  0.024684\n",
       "   5 │      8.0    0.524  0.0330612  0.0294161  0.027604   0.0265251  0.025813 ⋯\n",
       "   6 │      8.0    0.53   0.0345271  0.030723   0.0288329  0.0277083  0.026965\n",
       "   7 │      8.0    0.536  0.0360235  0.0320575  0.0300881  0.0289171  0.028145\n",
       "   8 │      8.0    0.542  0.03755    0.0334192  0.0313692  0.0301514  0.029348\n",
       "   9 │      8.0    0.548  0.0391064  0.034808   0.0326761  0.0314106  0.030578 ⋯\n",
       "  10 │      8.0    0.554  0.0406921  0.0362234  0.0340085  0.0326949  0.031831\n",
       "  11 │      8.0    0.56   0.0423068  0.0376652  0.0353662  0.034004   0.033110\n",
       "  ⋮  │    ⋮         ⋮         ⋮          ⋮          ⋮          ⋮          ⋮    ⋱\n",
       " 492 │      8.0    3.446  1.30048    1.26242    1.22271    1.18879    1.16185\n",
       " 493 │      8.0    3.452  1.30139    1.26293    1.22298    1.18893    1.16192  ⋯\n",
       " 494 │      8.0    3.458  1.3023     1.26344    1.22324    1.18907    1.16199\n",
       " 495 │      8.0    3.464  1.30321    1.26395    1.22351    1.18921    1.16206\n",
       " 496 │      8.0    3.47   1.3041     1.26445    1.22377    1.18935    1.16213\n",
       " 497 │      8.0    3.476  1.30499    1.26494    1.22403    1.18948    1.1622   ⋯\n",
       " 498 │      8.0    3.482  1.30588    1.26543    1.22428    1.18961    1.16227\n",
       " 499 │      8.0    3.488  1.30676    1.26592    1.22453    1.18974    1.16234\n",
       " 500 │      8.0    3.494  1.30764    1.2664     1.22478    1.18987    1.1624\n",
       " 501 │      8.0    3.5    1.30851    1.26687    1.22503    1.18999    1.16246  ⋯\n",
       "\u001b[36m                                                  2 columns and 480 rows omitted\u001b[0m"
      ]
     },
     "execution_count": 35,
     "metadata": {},
     "output_type": "execute_result"
    }
   ],
   "source": [
    "temp_range = calculate_temp_range(n_spins=MAX_SPINS_CHAIN, temp0=TEMP0, tempinc=TEMP_INC, max_iter=MAX_ITER)"
   ]
  },
  {
   "cell_type": "code",
   "execution_count": 39,
   "id": "3950043c",
   "metadata": {
    "scrolled": false
   },
   "outputs": [
    {
     "data": {
      "text/plain": [
       "\"corr-len-output/corl-tmp-long_8_0.5_0.006.dat\""
      ]
     },
     "execution_count": 39,
     "metadata": {},
     "output_type": "execute_result"
    }
   ],
   "source": [
    "CSV.write(\"corr-len-output/corl-tmp-long_$(MAX_SPINS_CHAIN)_$(TEMP0)_$(TEMP_INC).dat\", temp_range, delim=\"\\t\")"
   ]
  },
  {
   "cell_type": "code",
   "execution_count": 42,
   "id": "ba92fdc8",
   "metadata": {
    "scrolled": true
   },
   "outputs": [
    {
     "data": {
      "image/svg+xml": [
       "<?xml version=\"1.0\" encoding=\"utf-8\"?>\n",
       "<svg xmlns=\"http://www.w3.org/2000/svg\" xmlns:xlink=\"http://www.w3.org/1999/xlink\" width=\"600\" height=\"400\" viewBox=\"0 0 2400 1600\">\n",
       "<defs>\n",
       "  <clipPath id=\"clip110\">\n",
       "    <rect x=\"0\" y=\"0\" width=\"2400\" height=\"1600\"/>\n",
       "  </clipPath>\n",
       "</defs>\n",
       "<path clip-path=\"url(#clip110)\" d=\"\n",
       "M0 1600 L2400 1600 L2400 0 L0 0  Z\n",
       "  \" fill=\"#ffffff\" fill-rule=\"evenodd\" fill-opacity=\"1\"/>\n",
       "<defs>\n",
       "  <clipPath id=\"clip111\">\n",
       "    <rect x=\"480\" y=\"0\" width=\"1681\" height=\"1600\"/>\n",
       "  </clipPath>\n",
       "</defs>\n",
       "<defs>\n",
       "  <clipPath id=\"clip112\">\n",
       "    <rect x=\"219\" y=\"47\" width=\"2134\" height=\"1377\"/>\n",
       "  </clipPath>\n",
       "</defs>\n",
       "<path clip-path=\"url(#clip110)\" d=\"\n",
       "M219.866 1423.18 L2352.76 1423.18 L2352.76 47.2441 L219.866 47.2441  Z\n",
       "  \" fill=\"#ffffff\" fill-rule=\"evenodd\" fill-opacity=\"1\"/>\n",
       "<polyline clip-path=\"url(#clip112)\" style=\"stroke:#000000; stroke-linecap:round; stroke-linejoin:round; stroke-width:2; stroke-opacity:0.1; fill:none\" points=\"\n",
       "  280.231,1423.18 280.231,47.2441 \n",
       "  \"/>\n",
       "<polyline clip-path=\"url(#clip112)\" style=\"stroke:#000000; stroke-linecap:round; stroke-linejoin:round; stroke-width:2; stroke-opacity:0.1; fill:none\" points=\"\n",
       "  615.591,1423.18 615.591,47.2441 \n",
       "  \"/>\n",
       "<polyline clip-path=\"url(#clip112)\" style=\"stroke:#000000; stroke-linecap:round; stroke-linejoin:round; stroke-width:2; stroke-opacity:0.1; fill:none\" points=\"\n",
       "  950.951,1423.18 950.951,47.2441 \n",
       "  \"/>\n",
       "<polyline clip-path=\"url(#clip112)\" style=\"stroke:#000000; stroke-linecap:round; stroke-linejoin:round; stroke-width:2; stroke-opacity:0.1; fill:none\" points=\"\n",
       "  1286.31,1423.18 1286.31,47.2441 \n",
       "  \"/>\n",
       "<polyline clip-path=\"url(#clip112)\" style=\"stroke:#000000; stroke-linecap:round; stroke-linejoin:round; stroke-width:2; stroke-opacity:0.1; fill:none\" points=\"\n",
       "  1621.67,1423.18 1621.67,47.2441 \n",
       "  \"/>\n",
       "<polyline clip-path=\"url(#clip112)\" style=\"stroke:#000000; stroke-linecap:round; stroke-linejoin:round; stroke-width:2; stroke-opacity:0.1; fill:none\" points=\"\n",
       "  1957.03,1423.18 1957.03,47.2441 \n",
       "  \"/>\n",
       "<polyline clip-path=\"url(#clip112)\" style=\"stroke:#000000; stroke-linecap:round; stroke-linejoin:round; stroke-width:2; stroke-opacity:0.1; fill:none\" points=\"\n",
       "  2292.39,1423.18 2292.39,47.2441 \n",
       "  \"/>\n",
       "<polyline clip-path=\"url(#clip110)\" style=\"stroke:#000000; stroke-linecap:round; stroke-linejoin:round; stroke-width:4; stroke-opacity:1; fill:none\" points=\"\n",
       "  219.866,1423.18 2352.76,1423.18 \n",
       "  \"/>\n",
       "<polyline clip-path=\"url(#clip110)\" style=\"stroke:#000000; stroke-linecap:round; stroke-linejoin:round; stroke-width:4; stroke-opacity:1; fill:none\" points=\"\n",
       "  280.231,1423.18 280.231,1404.28 \n",
       "  \"/>\n",
       "<polyline clip-path=\"url(#clip110)\" style=\"stroke:#000000; stroke-linecap:round; stroke-linejoin:round; stroke-width:4; stroke-opacity:1; fill:none\" points=\"\n",
       "  615.591,1423.18 615.591,1404.28 \n",
       "  \"/>\n",
       "<polyline clip-path=\"url(#clip110)\" style=\"stroke:#000000; stroke-linecap:round; stroke-linejoin:round; stroke-width:4; stroke-opacity:1; fill:none\" points=\"\n",
       "  950.951,1423.18 950.951,1404.28 \n",
       "  \"/>\n",
       "<polyline clip-path=\"url(#clip110)\" style=\"stroke:#000000; stroke-linecap:round; stroke-linejoin:round; stroke-width:4; stroke-opacity:1; fill:none\" points=\"\n",
       "  1286.31,1423.18 1286.31,1404.28 \n",
       "  \"/>\n",
       "<polyline clip-path=\"url(#clip110)\" style=\"stroke:#000000; stroke-linecap:round; stroke-linejoin:round; stroke-width:4; stroke-opacity:1; fill:none\" points=\"\n",
       "  1621.67,1423.18 1621.67,1404.28 \n",
       "  \"/>\n",
       "<polyline clip-path=\"url(#clip110)\" style=\"stroke:#000000; stroke-linecap:round; stroke-linejoin:round; stroke-width:4; stroke-opacity:1; fill:none\" points=\"\n",
       "  1957.03,1423.18 1957.03,1404.28 \n",
       "  \"/>\n",
       "<polyline clip-path=\"url(#clip110)\" style=\"stroke:#000000; stroke-linecap:round; stroke-linejoin:round; stroke-width:4; stroke-opacity:1; fill:none\" points=\"\n",
       "  2292.39,1423.18 2292.39,1404.28 \n",
       "  \"/>\n",
       "<path clip-path=\"url(#clip110)\" d=\"M258.113 1454.1 Q254.502 1454.1 252.673 1457.66 Q250.868 1461.2 250.868 1468.33 Q250.868 1475.44 252.673 1479.01 Q254.502 1482.55 258.113 1482.55 Q261.747 1482.55 263.553 1479.01 Q265.382 1475.44 265.382 1468.33 Q265.382 1461.2 263.553 1457.66 Q261.747 1454.1 258.113 1454.1 M258.113 1450.39 Q263.923 1450.39 266.979 1455 Q270.058 1459.58 270.058 1468.33 Q270.058 1477.06 266.979 1481.67 Q263.923 1486.25 258.113 1486.25 Q252.303 1486.25 249.224 1481.67 Q246.169 1477.06 246.169 1468.33 Q246.169 1459.58 249.224 1455 Q252.303 1450.39 258.113 1450.39 Z\" fill=\"#000000\" fill-rule=\"evenodd\" fill-opacity=\"1\" /><path clip-path=\"url(#clip110)\" d=\"M278.275 1479.7 L283.159 1479.7 L283.159 1485.58 L278.275 1485.58 L278.275 1479.7 Z\" fill=\"#000000\" fill-rule=\"evenodd\" fill-opacity=\"1\" /><path clip-path=\"url(#clip110)\" d=\"M293.391 1451.02 L311.747 1451.02 L311.747 1454.96 L297.673 1454.96 L297.673 1463.43 Q298.692 1463.08 299.71 1462.92 Q300.729 1462.73 301.747 1462.73 Q307.534 1462.73 310.914 1465.9 Q314.293 1469.08 314.293 1474.49 Q314.293 1480.07 310.821 1483.17 Q307.349 1486.25 301.03 1486.25 Q298.854 1486.25 296.585 1485.88 Q294.34 1485.51 291.932 1484.77 L291.932 1480.07 Q294.016 1481.2 296.238 1481.76 Q298.46 1482.32 300.937 1482.32 Q304.942 1482.32 307.28 1480.21 Q309.617 1478.1 309.617 1474.49 Q309.617 1470.88 307.28 1468.77 Q304.942 1466.67 300.937 1466.67 Q299.062 1466.67 297.187 1467.08 Q295.335 1467.5 293.391 1468.38 L293.391 1451.02 Z\" fill=\"#000000\" fill-rule=\"evenodd\" fill-opacity=\"1\" /><path clip-path=\"url(#clip110)\" d=\"M582.744 1481.64 L590.383 1481.64 L590.383 1455.28 L582.073 1456.95 L582.073 1452.69 L590.337 1451.02 L595.012 1451.02 L595.012 1481.64 L602.651 1481.64 L602.651 1485.58 L582.744 1485.58 L582.744 1481.64 Z\" fill=\"#000000\" fill-rule=\"evenodd\" fill-opacity=\"1\" /><path clip-path=\"url(#clip110)\" d=\"M612.096 1479.7 L616.98 1479.7 L616.98 1485.58 L612.096 1485.58 L612.096 1479.7 Z\" fill=\"#000000\" fill-rule=\"evenodd\" fill-opacity=\"1\" /><path clip-path=\"url(#clip110)\" d=\"M637.165 1454.1 Q633.554 1454.1 631.725 1457.66 Q629.92 1461.2 629.92 1468.33 Q629.92 1475.44 631.725 1479.01 Q633.554 1482.55 637.165 1482.55 Q640.799 1482.55 642.605 1479.01 Q644.434 1475.44 644.434 1468.33 Q644.434 1461.2 642.605 1457.66 Q640.799 1454.1 637.165 1454.1 M637.165 1450.39 Q642.975 1450.39 646.031 1455 Q649.109 1459.58 649.109 1468.33 Q649.109 1477.06 646.031 1481.67 Q642.975 1486.25 637.165 1486.25 Q631.355 1486.25 628.276 1481.67 Q625.221 1477.06 625.221 1468.33 Q625.221 1459.58 628.276 1455 Q631.355 1450.39 637.165 1450.39 Z\" fill=\"#000000\" fill-rule=\"evenodd\" fill-opacity=\"1\" /><path clip-path=\"url(#clip110)\" d=\"M918.602 1481.64 L926.241 1481.64 L926.241 1455.28 L917.93 1456.95 L917.93 1452.69 L926.194 1451.02 L930.87 1451.02 L930.87 1481.64 L938.509 1481.64 L938.509 1485.58 L918.602 1485.58 L918.602 1481.64 Z\" fill=\"#000000\" fill-rule=\"evenodd\" fill-opacity=\"1\" /><path clip-path=\"url(#clip110)\" d=\"M947.953 1479.7 L952.838 1479.7 L952.838 1485.58 L947.953 1485.58 L947.953 1479.7 Z\" fill=\"#000000\" fill-rule=\"evenodd\" fill-opacity=\"1\" /><path clip-path=\"url(#clip110)\" d=\"M963.069 1451.02 L981.425 1451.02 L981.425 1454.96 L967.351 1454.96 L967.351 1463.43 Q968.37 1463.08 969.388 1462.92 Q970.407 1462.73 971.426 1462.73 Q977.213 1462.73 980.592 1465.9 Q983.972 1469.08 983.972 1474.49 Q983.972 1480.07 980.5 1483.17 Q977.027 1486.25 970.708 1486.25 Q968.532 1486.25 966.263 1485.88 Q964.018 1485.51 961.611 1484.77 L961.611 1480.07 Q963.694 1481.2 965.916 1481.76 Q968.138 1482.32 970.615 1482.32 Q974.62 1482.32 976.958 1480.21 Q979.296 1478.1 979.296 1474.49 Q979.296 1470.88 976.958 1468.77 Q974.62 1466.67 970.615 1466.67 Q968.74 1466.67 966.865 1467.08 Q965.014 1467.5 963.069 1468.38 L963.069 1451.02 Z\" fill=\"#000000\" fill-rule=\"evenodd\" fill-opacity=\"1\" /><path clip-path=\"url(#clip110)\" d=\"M1257.55 1481.64 L1273.87 1481.64 L1273.87 1485.58 L1251.92 1485.58 L1251.92 1481.64 Q1254.59 1478.89 1259.17 1474.26 Q1263.78 1469.61 1264.96 1468.27 Q1267.2 1465.74 1268.08 1464.01 Q1268.98 1462.25 1268.98 1460.56 Q1268.98 1457.8 1267.04 1456.07 Q1265.12 1454.33 1262.02 1454.33 Q1259.82 1454.33 1257.36 1455.09 Q1254.93 1455.86 1252.16 1457.41 L1252.16 1452.69 Q1254.98 1451.55 1257.43 1450.97 Q1259.89 1450.39 1261.92 1450.39 Q1267.29 1450.39 1270.49 1453.08 Q1273.68 1455.77 1273.68 1460.26 Q1273.68 1462.39 1272.87 1464.31 Q1272.09 1466.2 1269.98 1468.8 Q1269.4 1469.47 1266.3 1472.69 Q1263.2 1475.88 1257.55 1481.64 Z\" fill=\"#000000\" fill-rule=\"evenodd\" fill-opacity=\"1\" /><path clip-path=\"url(#clip110)\" d=\"M1283.68 1479.7 L1288.57 1479.7 L1288.57 1485.58 L1283.68 1485.58 L1283.68 1479.7 Z\" fill=\"#000000\" fill-rule=\"evenodd\" fill-opacity=\"1\" /><path clip-path=\"url(#clip110)\" d=\"M1308.75 1454.1 Q1305.14 1454.1 1303.31 1457.66 Q1301.51 1461.2 1301.51 1468.33 Q1301.51 1475.44 1303.31 1479.01 Q1305.14 1482.55 1308.75 1482.55 Q1312.39 1482.55 1314.19 1479.01 Q1316.02 1475.44 1316.02 1468.33 Q1316.02 1461.2 1314.19 1457.66 Q1312.39 1454.1 1308.75 1454.1 M1308.75 1450.39 Q1314.56 1450.39 1317.62 1455 Q1320.7 1459.58 1320.7 1468.33 Q1320.7 1477.06 1317.62 1481.67 Q1314.56 1486.25 1308.75 1486.25 Q1302.94 1486.25 1299.86 1481.67 Q1296.81 1477.06 1296.81 1468.33 Q1296.81 1459.58 1299.86 1455 Q1302.94 1450.39 1308.75 1450.39 Z\" fill=\"#000000\" fill-rule=\"evenodd\" fill-opacity=\"1\" /><path clip-path=\"url(#clip110)\" d=\"M1593.41 1481.64 L1609.73 1481.64 L1609.73 1485.58 L1587.78 1485.58 L1587.78 1481.64 Q1590.44 1478.89 1595.03 1474.26 Q1599.63 1469.61 1600.81 1468.27 Q1603.06 1465.74 1603.94 1464.01 Q1604.84 1462.25 1604.84 1460.56 Q1604.84 1457.8 1602.9 1456.07 Q1600.98 1454.33 1597.87 1454.33 Q1595.68 1454.33 1593.22 1455.09 Q1590.79 1455.86 1588.01 1457.41 L1588.01 1452.69 Q1590.84 1451.55 1593.29 1450.97 Q1595.75 1450.39 1597.78 1450.39 Q1603.15 1450.39 1606.35 1453.08 Q1609.54 1455.77 1609.54 1460.26 Q1609.54 1462.39 1608.73 1464.31 Q1607.94 1466.2 1605.84 1468.8 Q1605.26 1469.47 1602.16 1472.69 Q1599.06 1475.88 1593.41 1481.64 Z\" fill=\"#000000\" fill-rule=\"evenodd\" fill-opacity=\"1\" /><path clip-path=\"url(#clip110)\" d=\"M1619.54 1479.7 L1624.43 1479.7 L1624.43 1485.58 L1619.54 1485.58 L1619.54 1479.7 Z\" fill=\"#000000\" fill-rule=\"evenodd\" fill-opacity=\"1\" /><path clip-path=\"url(#clip110)\" d=\"M1634.66 1451.02 L1653.01 1451.02 L1653.01 1454.96 L1638.94 1454.96 L1638.94 1463.43 Q1639.96 1463.08 1640.98 1462.92 Q1642 1462.73 1643.01 1462.73 Q1648.8 1462.73 1652.18 1465.9 Q1655.56 1469.08 1655.56 1474.49 Q1655.56 1480.07 1652.09 1483.17 Q1648.62 1486.25 1642.3 1486.25 Q1640.12 1486.25 1637.85 1485.88 Q1635.61 1485.51 1633.2 1484.77 L1633.2 1480.07 Q1635.28 1481.2 1637.5 1481.76 Q1639.73 1482.32 1642.2 1482.32 Q1646.21 1482.32 1648.55 1480.21 Q1650.88 1478.1 1650.88 1474.49 Q1650.88 1470.88 1648.55 1468.77 Q1646.21 1466.67 1642.2 1466.67 Q1640.33 1466.67 1638.45 1467.08 Q1636.6 1467.5 1634.66 1468.38 L1634.66 1451.02 Z\" fill=\"#000000\" fill-rule=\"evenodd\" fill-opacity=\"1\" /><path clip-path=\"url(#clip110)\" d=\"M1938.34 1466.95 Q1941.7 1467.66 1943.57 1469.93 Q1945.47 1472.2 1945.47 1475.53 Q1945.47 1480.65 1941.95 1483.45 Q1938.43 1486.25 1931.95 1486.25 Q1929.77 1486.25 1927.46 1485.81 Q1925.17 1485.39 1922.71 1484.54 L1922.71 1480.02 Q1924.66 1481.16 1926.97 1481.74 Q1929.29 1482.32 1931.81 1482.32 Q1936.21 1482.32 1938.5 1480.58 Q1940.82 1478.84 1940.82 1475.53 Q1940.82 1472.48 1938.66 1470.77 Q1936.53 1469.03 1932.71 1469.03 L1928.69 1469.03 L1928.69 1465.19 L1932.9 1465.19 Q1936.35 1465.19 1938.18 1463.82 Q1940.01 1462.43 1940.01 1459.84 Q1940.01 1457.18 1938.11 1455.77 Q1936.23 1454.33 1932.71 1454.33 Q1930.79 1454.33 1928.59 1454.75 Q1926.39 1455.16 1923.76 1456.04 L1923.76 1451.88 Q1926.42 1451.14 1928.73 1450.77 Q1931.07 1450.39 1933.13 1450.39 Q1938.45 1450.39 1941.56 1452.83 Q1944.66 1455.23 1944.66 1459.35 Q1944.66 1462.22 1943.01 1464.21 Q1941.37 1466.18 1938.34 1466.95 Z\" fill=\"#000000\" fill-rule=\"evenodd\" fill-opacity=\"1\" /><path clip-path=\"url(#clip110)\" d=\"M1954.33 1479.7 L1959.22 1479.7 L1959.22 1485.58 L1954.33 1485.58 L1954.33 1479.7 Z\" fill=\"#000000\" fill-rule=\"evenodd\" fill-opacity=\"1\" /><path clip-path=\"url(#clip110)\" d=\"M1979.4 1454.1 Q1975.79 1454.1 1973.96 1457.66 Q1972.16 1461.2 1972.16 1468.33 Q1972.16 1475.44 1973.96 1479.01 Q1975.79 1482.55 1979.4 1482.55 Q1983.04 1482.55 1984.84 1479.01 Q1986.67 1475.44 1986.67 1468.33 Q1986.67 1461.2 1984.84 1457.66 Q1983.04 1454.1 1979.4 1454.1 M1979.4 1450.39 Q1985.21 1450.39 1988.27 1455 Q1991.35 1459.58 1991.35 1468.33 Q1991.35 1477.06 1988.27 1481.67 Q1985.21 1486.25 1979.4 1486.25 Q1973.59 1486.25 1970.51 1481.67 Q1967.46 1477.06 1967.46 1468.33 Q1967.46 1459.58 1970.51 1455 Q1973.59 1450.39 1979.4 1450.39 Z\" fill=\"#000000\" fill-rule=\"evenodd\" fill-opacity=\"1\" /><path clip-path=\"url(#clip110)\" d=\"M2274.2 1466.95 Q2277.55 1467.66 2279.43 1469.93 Q2281.33 1472.2 2281.33 1475.53 Q2281.33 1480.65 2277.81 1483.45 Q2274.29 1486.25 2267.81 1486.25 Q2265.63 1486.25 2263.32 1485.81 Q2261.03 1485.39 2258.57 1484.54 L2258.57 1480.02 Q2260.52 1481.16 2262.83 1481.74 Q2265.15 1482.32 2267.67 1482.32 Q2272.07 1482.32 2274.36 1480.58 Q2276.67 1478.84 2276.67 1475.53 Q2276.67 1472.48 2274.52 1470.77 Q2272.39 1469.03 2268.57 1469.03 L2264.54 1469.03 L2264.54 1465.19 L2268.76 1465.19 Q2272.21 1465.19 2274.03 1463.82 Q2275.86 1462.43 2275.86 1459.84 Q2275.86 1457.18 2273.97 1455.77 Q2272.09 1454.33 2268.57 1454.33 Q2266.65 1454.33 2264.45 1454.75 Q2262.25 1455.16 2259.61 1456.04 L2259.61 1451.88 Q2262.28 1451.14 2264.59 1450.77 Q2266.93 1450.39 2268.99 1450.39 Q2274.31 1450.39 2277.41 1452.83 Q2280.52 1455.23 2280.52 1459.35 Q2280.52 1462.22 2278.87 1464.21 Q2277.23 1466.18 2274.2 1466.95 Z\" fill=\"#000000\" fill-rule=\"evenodd\" fill-opacity=\"1\" /><path clip-path=\"url(#clip110)\" d=\"M2290.19 1479.7 L2295.08 1479.7 L2295.08 1485.58 L2290.19 1485.58 L2290.19 1479.7 Z\" fill=\"#000000\" fill-rule=\"evenodd\" fill-opacity=\"1\" /><path clip-path=\"url(#clip110)\" d=\"M2305.31 1451.02 L2323.66 1451.02 L2323.66 1454.96 L2309.59 1454.96 L2309.59 1463.43 Q2310.61 1463.08 2311.63 1462.92 Q2312.65 1462.73 2313.66 1462.73 Q2319.45 1462.73 2322.83 1465.9 Q2326.21 1469.08 2326.21 1474.49 Q2326.21 1480.07 2322.74 1483.17 Q2319.27 1486.25 2312.95 1486.25 Q2310.77 1486.25 2308.5 1485.88 Q2306.26 1485.51 2303.85 1484.77 L2303.85 1480.07 Q2305.93 1481.2 2308.15 1481.76 Q2310.38 1482.32 2312.85 1482.32 Q2316.86 1482.32 2319.2 1480.21 Q2321.53 1478.1 2321.53 1474.49 Q2321.53 1470.88 2319.2 1468.77 Q2316.86 1466.67 2312.85 1466.67 Q2310.98 1466.67 2309.1 1467.08 Q2307.25 1467.5 2305.31 1468.38 L2305.31 1451.02 Z\" fill=\"#000000\" fill-rule=\"evenodd\" fill-opacity=\"1\" /><path clip-path=\"url(#clip110)\" d=\"M1266.21 1520.52 L1306.41 1520.52 L1306.41 1525.93 L1289.54 1525.93 L1289.54 1568.04 L1283.08 1568.04 L1283.08 1525.93 L1266.21 1525.93 L1266.21 1520.52 Z\" fill=\"#000000\" fill-rule=\"evenodd\" fill-opacity=\"1\" /><polyline clip-path=\"url(#clip112)\" style=\"stroke:#000000; stroke-linecap:round; stroke-linejoin:round; stroke-width:2; stroke-opacity:0.1; fill:none\" points=\"\n",
       "  219.866,1405.77 2352.76,1405.77 \n",
       "  \"/>\n",
       "<polyline clip-path=\"url(#clip112)\" style=\"stroke:#000000; stroke-linecap:round; stroke-linejoin:round; stroke-width:2; stroke-opacity:0.1; fill:none\" points=\"\n",
       "  219.866,1204.07 2352.76,1204.07 \n",
       "  \"/>\n",
       "<polyline clip-path=\"url(#clip112)\" style=\"stroke:#000000; stroke-linecap:round; stroke-linejoin:round; stroke-width:2; stroke-opacity:0.1; fill:none\" points=\"\n",
       "  219.866,1002.38 2352.76,1002.38 \n",
       "  \"/>\n",
       "<polyline clip-path=\"url(#clip112)\" style=\"stroke:#000000; stroke-linecap:round; stroke-linejoin:round; stroke-width:2; stroke-opacity:0.1; fill:none\" points=\"\n",
       "  219.866,800.689 2352.76,800.689 \n",
       "  \"/>\n",
       "<polyline clip-path=\"url(#clip112)\" style=\"stroke:#000000; stroke-linecap:round; stroke-linejoin:round; stroke-width:2; stroke-opacity:0.1; fill:none\" points=\"\n",
       "  219.866,598.996 2352.76,598.996 \n",
       "  \"/>\n",
       "<polyline clip-path=\"url(#clip112)\" style=\"stroke:#000000; stroke-linecap:round; stroke-linejoin:round; stroke-width:2; stroke-opacity:0.1; fill:none\" points=\"\n",
       "  219.866,397.304 2352.76,397.304 \n",
       "  \"/>\n",
       "<polyline clip-path=\"url(#clip112)\" style=\"stroke:#000000; stroke-linecap:round; stroke-linejoin:round; stroke-width:2; stroke-opacity:0.1; fill:none\" points=\"\n",
       "  219.866,195.611 2352.76,195.611 \n",
       "  \"/>\n",
       "<polyline clip-path=\"url(#clip110)\" style=\"stroke:#000000; stroke-linecap:round; stroke-linejoin:round; stroke-width:4; stroke-opacity:1; fill:none\" points=\"\n",
       "  219.866,1423.18 219.866,47.2441 \n",
       "  \"/>\n",
       "<polyline clip-path=\"url(#clip110)\" style=\"stroke:#000000; stroke-linecap:round; stroke-linejoin:round; stroke-width:4; stroke-opacity:1; fill:none\" points=\"\n",
       "  219.866,1405.77 238.764,1405.77 \n",
       "  \"/>\n",
       "<polyline clip-path=\"url(#clip110)\" style=\"stroke:#000000; stroke-linecap:round; stroke-linejoin:round; stroke-width:4; stroke-opacity:1; fill:none\" points=\"\n",
       "  219.866,1204.07 238.764,1204.07 \n",
       "  \"/>\n",
       "<polyline clip-path=\"url(#clip110)\" style=\"stroke:#000000; stroke-linecap:round; stroke-linejoin:round; stroke-width:4; stroke-opacity:1; fill:none\" points=\"\n",
       "  219.866,1002.38 238.764,1002.38 \n",
       "  \"/>\n",
       "<polyline clip-path=\"url(#clip110)\" style=\"stroke:#000000; stroke-linecap:round; stroke-linejoin:round; stroke-width:4; stroke-opacity:1; fill:none\" points=\"\n",
       "  219.866,800.689 238.764,800.689 \n",
       "  \"/>\n",
       "<polyline clip-path=\"url(#clip110)\" style=\"stroke:#000000; stroke-linecap:round; stroke-linejoin:round; stroke-width:4; stroke-opacity:1; fill:none\" points=\"\n",
       "  219.866,598.996 238.764,598.996 \n",
       "  \"/>\n",
       "<polyline clip-path=\"url(#clip110)\" style=\"stroke:#000000; stroke-linecap:round; stroke-linejoin:round; stroke-width:4; stroke-opacity:1; fill:none\" points=\"\n",
       "  219.866,397.304 238.764,397.304 \n",
       "  \"/>\n",
       "<polyline clip-path=\"url(#clip110)\" style=\"stroke:#000000; stroke-linecap:round; stroke-linejoin:round; stroke-width:4; stroke-opacity:1; fill:none\" points=\"\n",
       "  219.866,195.611 238.764,195.611 \n",
       "  \"/>\n",
       "<path clip-path=\"url(#clip110)\" d=\"M126.691 1391.57 Q123.08 1391.57 121.251 1395.13 Q119.445 1398.67 119.445 1405.8 Q119.445 1412.91 121.251 1416.47 Q123.08 1420.01 126.691 1420.01 Q130.325 1420.01 132.13 1416.47 Q133.959 1412.91 133.959 1405.8 Q133.959 1398.67 132.13 1395.13 Q130.325 1391.57 126.691 1391.57 M126.691 1387.86 Q132.501 1387.86 135.556 1392.47 Q138.635 1397.05 138.635 1405.8 Q138.635 1414.53 135.556 1419.14 Q132.501 1423.72 126.691 1423.72 Q120.88 1423.72 117.802 1419.14 Q114.746 1414.53 114.746 1405.8 Q114.746 1397.05 117.802 1392.47 Q120.88 1387.86 126.691 1387.86 Z\" fill=\"#000000\" fill-rule=\"evenodd\" fill-opacity=\"1\" /><path clip-path=\"url(#clip110)\" d=\"M146.853 1417.17 L151.737 1417.17 L151.737 1423.05 L146.853 1423.05 L146.853 1417.17 Z\" fill=\"#000000\" fill-rule=\"evenodd\" fill-opacity=\"1\" /><path clip-path=\"url(#clip110)\" d=\"M171.922 1391.57 Q168.311 1391.57 166.482 1395.13 Q164.677 1398.67 164.677 1405.8 Q164.677 1412.91 166.482 1416.47 Q168.311 1420.01 171.922 1420.01 Q175.556 1420.01 177.362 1416.47 Q179.19 1412.91 179.19 1405.8 Q179.19 1398.67 177.362 1395.13 Q175.556 1391.57 171.922 1391.57 M171.922 1387.86 Q177.732 1387.86 180.788 1392.47 Q183.866 1397.05 183.866 1405.8 Q183.866 1414.53 180.788 1419.14 Q177.732 1423.72 171.922 1423.72 Q166.112 1423.72 163.033 1419.14 Q159.978 1414.53 159.978 1405.8 Q159.978 1397.05 163.033 1392.47 Q166.112 1387.86 171.922 1387.86 Z\" fill=\"#000000\" fill-rule=\"evenodd\" fill-opacity=\"1\" /><path clip-path=\"url(#clip110)\" d=\"M128.288 1189.87 Q124.677 1189.87 122.848 1193.44 Q121.043 1196.98 121.043 1204.11 Q121.043 1211.22 122.848 1214.78 Q124.677 1218.32 128.288 1218.32 Q131.922 1218.32 133.728 1214.78 Q135.556 1211.22 135.556 1204.11 Q135.556 1196.98 133.728 1193.44 Q131.922 1189.87 128.288 1189.87 M128.288 1186.17 Q134.098 1186.17 137.154 1190.78 Q140.232 1195.36 140.232 1204.11 Q140.232 1212.84 137.154 1217.44 Q134.098 1222.03 128.288 1222.03 Q122.478 1222.03 119.399 1217.44 Q116.343 1212.84 116.343 1204.11 Q116.343 1195.36 119.399 1190.78 Q122.478 1186.17 128.288 1186.17 Z\" fill=\"#000000\" fill-rule=\"evenodd\" fill-opacity=\"1\" /><path clip-path=\"url(#clip110)\" d=\"M148.45 1215.47 L153.334 1215.47 L153.334 1221.35 L148.45 1221.35 L148.45 1215.47 Z\" fill=\"#000000\" fill-rule=\"evenodd\" fill-opacity=\"1\" /><path clip-path=\"url(#clip110)\" d=\"M167.547 1217.42 L183.866 1217.42 L183.866 1221.35 L161.922 1221.35 L161.922 1217.42 Q164.584 1214.66 169.167 1210.04 Q173.774 1205.38 174.954 1204.04 Q177.2 1201.52 178.079 1199.78 Q178.982 1198.02 178.982 1196.33 Q178.982 1193.58 177.038 1191.84 Q175.116 1190.1 172.014 1190.1 Q169.815 1190.1 167.362 1190.87 Q164.931 1191.63 162.153 1193.18 L162.153 1188.46 Q164.977 1187.33 167.431 1186.75 Q169.885 1186.17 171.922 1186.17 Q177.292 1186.17 180.487 1188.85 Q183.681 1191.54 183.681 1196.03 Q183.681 1198.16 182.871 1200.08 Q182.084 1201.98 179.977 1204.57 Q179.399 1205.24 176.297 1208.46 Q173.195 1211.66 167.547 1217.42 Z\" fill=\"#000000\" fill-rule=\"evenodd\" fill-opacity=\"1\" /><path clip-path=\"url(#clip110)\" d=\"M126.205 988.18 Q122.593 988.18 120.765 991.745 Q118.959 995.287 118.959 1002.42 Q118.959 1009.52 120.765 1013.09 Q122.593 1016.63 126.205 1016.63 Q129.839 1016.63 131.644 1013.09 Q133.473 1009.52 133.473 1002.42 Q133.473 995.287 131.644 991.745 Q129.839 988.18 126.205 988.18 M126.205 984.477 Q132.015 984.477 135.07 989.083 Q138.149 993.667 138.149 1002.42 Q138.149 1011.14 135.07 1015.75 Q132.015 1020.33 126.205 1020.33 Q120.394 1020.33 117.316 1015.75 Q114.26 1011.14 114.26 1002.42 Q114.26 993.667 117.316 989.083 Q120.394 984.477 126.205 984.477 Z\" fill=\"#000000\" fill-rule=\"evenodd\" fill-opacity=\"1\" /><path clip-path=\"url(#clip110)\" d=\"M146.366 1013.78 L151.251 1013.78 L151.251 1019.66 L146.366 1019.66 L146.366 1013.78 Z\" fill=\"#000000\" fill-rule=\"evenodd\" fill-opacity=\"1\" /><path clip-path=\"url(#clip110)\" d=\"M174.283 989.176 L162.477 1007.62 L174.283 1007.62 L174.283 989.176 M173.056 985.102 L178.936 985.102 L178.936 1007.62 L183.866 1007.62 L183.866 1011.51 L178.936 1011.51 L178.936 1019.66 L174.283 1019.66 L174.283 1011.51 L158.681 1011.51 L158.681 1007 L173.056 985.102 Z\" fill=\"#000000\" fill-rule=\"evenodd\" fill-opacity=\"1\" /><path clip-path=\"url(#clip110)\" d=\"M126.529 786.488 Q122.918 786.488 121.089 790.053 Q119.283 793.594 119.283 800.724 Q119.283 807.83 121.089 811.395 Q122.918 814.937 126.529 814.937 Q130.163 814.937 131.968 811.395 Q133.797 807.83 133.797 800.724 Q133.797 793.594 131.968 790.053 Q130.163 786.488 126.529 786.488 M126.529 782.784 Q132.339 782.784 135.394 787.391 Q138.473 791.974 138.473 800.724 Q138.473 809.451 135.394 814.057 Q132.339 818.64 126.529 818.64 Q120.718 818.64 117.64 814.057 Q114.584 809.451 114.584 800.724 Q114.584 791.974 117.64 787.391 Q120.718 782.784 126.529 782.784 Z\" fill=\"#000000\" fill-rule=\"evenodd\" fill-opacity=\"1\" /><path clip-path=\"url(#clip110)\" d=\"M146.691 812.089 L151.575 812.089 L151.575 817.969 L146.691 817.969 L146.691 812.089 Z\" fill=\"#000000\" fill-rule=\"evenodd\" fill-opacity=\"1\" /><path clip-path=\"url(#clip110)\" d=\"M172.339 798.826 Q169.19 798.826 167.339 800.978 Q165.51 803.131 165.51 806.881 Q165.51 810.608 167.339 812.784 Q169.19 814.937 172.339 814.937 Q175.487 814.937 177.315 812.784 Q179.167 810.608 179.167 806.881 Q179.167 803.131 177.315 800.978 Q175.487 798.826 172.339 798.826 M181.621 784.173 L181.621 788.432 Q179.862 787.599 178.056 787.159 Q176.274 786.719 174.514 786.719 Q169.885 786.719 167.431 789.844 Q165.001 792.969 164.653 799.289 Q166.019 797.275 168.079 796.21 Q170.139 795.122 172.616 795.122 Q177.825 795.122 180.834 798.293 Q183.866 801.441 183.866 806.881 Q183.866 812.205 180.718 815.423 Q177.57 818.64 172.339 818.64 Q166.343 818.64 163.172 814.057 Q160.001 809.451 160.001 800.724 Q160.001 792.529 163.89 787.668 Q167.778 782.784 174.329 782.784 Q176.089 782.784 177.871 783.131 Q179.676 783.478 181.621 784.173 Z\" fill=\"#000000\" fill-rule=\"evenodd\" fill-opacity=\"1\" /><path clip-path=\"url(#clip110)\" d=\"M126.783 584.795 Q123.172 584.795 121.343 588.36 Q119.538 591.901 119.538 599.031 Q119.538 606.137 121.343 609.702 Q123.172 613.244 126.783 613.244 Q130.417 613.244 132.223 609.702 Q134.052 606.137 134.052 599.031 Q134.052 591.901 132.223 588.36 Q130.417 584.795 126.783 584.795 M126.783 581.091 Q132.593 581.091 135.649 585.698 Q138.728 590.281 138.728 599.031 Q138.728 607.758 135.649 612.364 Q132.593 616.948 126.783 616.948 Q120.973 616.948 117.894 612.364 Q114.839 607.758 114.839 599.031 Q114.839 590.281 117.894 585.698 Q120.973 581.091 126.783 581.091 Z\" fill=\"#000000\" fill-rule=\"evenodd\" fill-opacity=\"1\" /><path clip-path=\"url(#clip110)\" d=\"M146.945 610.397 L151.829 610.397 L151.829 616.276 L146.945 616.276 L146.945 610.397 Z\" fill=\"#000000\" fill-rule=\"evenodd\" fill-opacity=\"1\" /><path clip-path=\"url(#clip110)\" d=\"M172.014 599.864 Q168.681 599.864 166.76 601.647 Q164.862 603.429 164.862 606.554 Q164.862 609.679 166.76 611.462 Q168.681 613.244 172.014 613.244 Q175.348 613.244 177.269 611.462 Q179.19 609.656 179.19 606.554 Q179.19 603.429 177.269 601.647 Q175.371 599.864 172.014 599.864 M167.339 597.874 Q164.329 597.133 162.64 595.073 Q160.973 593.013 160.973 590.05 Q160.973 585.906 163.913 583.499 Q166.876 581.091 172.014 581.091 Q177.176 581.091 180.116 583.499 Q183.056 585.906 183.056 590.05 Q183.056 593.013 181.366 595.073 Q179.7 597.133 176.714 597.874 Q180.093 598.661 181.968 600.952 Q183.866 603.244 183.866 606.554 Q183.866 611.577 180.788 614.262 Q177.732 616.948 172.014 616.948 Q166.297 616.948 163.218 614.262 Q160.163 611.577 160.163 606.554 Q160.163 603.244 162.061 600.952 Q163.959 598.661 167.339 597.874 M165.626 590.489 Q165.626 593.175 167.292 594.679 Q168.982 596.184 172.014 596.184 Q175.024 596.184 176.714 594.679 Q178.426 593.175 178.426 590.489 Q178.426 587.804 176.714 586.3 Q175.024 584.795 172.014 584.795 Q168.982 584.795 167.292 586.3 Q165.626 587.804 165.626 590.489 Z\" fill=\"#000000\" fill-rule=\"evenodd\" fill-opacity=\"1\" /><path clip-path=\"url(#clip110)\" d=\"M117.501 410.648 L125.14 410.648 L125.14 384.283 L116.83 385.949 L116.83 381.69 L125.093 380.024 L129.769 380.024 L129.769 410.648 L137.408 410.648 L137.408 414.584 L117.501 414.584 L117.501 410.648 Z\" fill=\"#000000\" fill-rule=\"evenodd\" fill-opacity=\"1\" /><path clip-path=\"url(#clip110)\" d=\"M146.853 408.704 L151.737 408.704 L151.737 414.584 L146.853 414.584 L146.853 408.704 Z\" fill=\"#000000\" fill-rule=\"evenodd\" fill-opacity=\"1\" /><path clip-path=\"url(#clip110)\" d=\"M171.922 383.102 Q168.311 383.102 166.482 386.667 Q164.677 390.209 164.677 397.338 Q164.677 404.445 166.482 408.01 Q168.311 411.551 171.922 411.551 Q175.556 411.551 177.362 408.01 Q179.19 404.445 179.19 397.338 Q179.19 390.209 177.362 386.667 Q175.556 383.102 171.922 383.102 M171.922 379.399 Q177.732 379.399 180.788 384.005 Q183.866 388.588 183.866 397.338 Q183.866 406.065 180.788 410.672 Q177.732 415.255 171.922 415.255 Q166.112 415.255 163.033 410.672 Q159.978 406.065 159.978 397.338 Q159.978 388.588 163.033 384.005 Q166.112 379.399 171.922 379.399 Z\" fill=\"#000000\" fill-rule=\"evenodd\" fill-opacity=\"1\" /><path clip-path=\"url(#clip110)\" d=\"M119.098 208.956 L126.737 208.956 L126.737 182.59 L118.427 184.257 L118.427 179.998 L126.691 178.331 L131.367 178.331 L131.367 208.956 L139.005 208.956 L139.005 212.891 L119.098 212.891 L119.098 208.956 Z\" fill=\"#000000\" fill-rule=\"evenodd\" fill-opacity=\"1\" /><path clip-path=\"url(#clip110)\" d=\"M148.45 207.011 L153.334 207.011 L153.334 212.891 L148.45 212.891 L148.45 207.011 Z\" fill=\"#000000\" fill-rule=\"evenodd\" fill-opacity=\"1\" /><path clip-path=\"url(#clip110)\" d=\"M167.547 208.956 L183.866 208.956 L183.866 212.891 L161.922 212.891 L161.922 208.956 Q164.584 206.201 169.167 201.571 Q173.774 196.919 174.954 195.576 Q177.2 193.053 178.079 191.317 Q178.982 189.558 178.982 187.868 Q178.982 185.113 177.038 183.377 Q175.116 181.641 172.014 181.641 Q169.815 181.641 167.362 182.405 Q164.931 183.169 162.153 184.72 L162.153 179.998 Q164.977 178.863 167.431 178.285 Q169.885 177.706 171.922 177.706 Q177.292 177.706 180.487 180.391 Q183.681 183.076 183.681 187.567 Q183.681 189.697 182.871 191.618 Q182.084 193.516 179.977 196.109 Q179.399 196.78 176.297 199.997 Q173.195 203.192 167.547 208.956 Z\" fill=\"#000000\" fill-rule=\"evenodd\" fill-opacity=\"1\" /><path clip-path=\"url(#clip110)\" d=\"M29.7248 1078.07 L35.1993 1078.07 Q33.8307 1080.55 33.1623 1083.07 Q32.4621 1085.55 32.4621 1088.09 Q32.4621 1093.79 36.0905 1096.94 Q39.6872 1100.09 46.212 1100.09 Q52.7369 1100.09 56.3653 1096.94 Q59.9619 1093.79 59.9619 1088.09 Q59.9619 1085.55 59.2935 1083.07 Q58.5933 1080.55 57.2247 1078.07 L62.6355 1078.07 Q63.7814 1080.52 64.3543 1083.16 Q64.9272 1085.77 64.9272 1088.73 Q64.9272 1096.78 59.8664 1101.53 Q54.8057 1106.27 46.212 1106.27 Q37.491 1106.27 32.4939 1101.49 Q27.4968 1096.69 27.4968 1088.35 Q27.4968 1085.64 28.0697 1083.07 Q28.6108 1080.49 29.7248 1078.07 Z\" fill=\"#000000\" fill-rule=\"evenodd\" fill-opacity=\"1\" /><path clip-path=\"url(#clip110)\" d=\"M32.4621 1054.07 Q32.4621 1058.78 36.1542 1061.52 Q39.8145 1064.26 46.212 1064.26 Q52.6095 1064.26 56.3017 1061.55 Q59.9619 1058.81 59.9619 1054.07 Q59.9619 1049.39 56.2698 1046.65 Q52.5777 1043.92 46.212 1043.92 Q39.8781 1043.92 36.186 1046.65 Q32.4621 1049.39 32.4621 1054.07 M27.4968 1054.07 Q27.4968 1046.43 32.4621 1042.07 Q37.4273 1037.71 46.212 1037.71 Q54.9649 1037.71 59.9619 1042.07 Q64.9272 1046.43 64.9272 1054.07 Q64.9272 1061.74 59.9619 1066.1 Q54.9649 1070.43 46.212 1070.43 Q37.4273 1070.43 32.4621 1066.1 Q27.4968 1061.74 27.4968 1054.07 Z\" fill=\"#000000\" fill-rule=\"evenodd\" fill-opacity=\"1\" /><path clip-path=\"url(#clip110)\" d=\"M33.8307 1007.35 Q33.2578 1008.33 33.0032 1009.51 Q32.7167 1010.66 32.7167 1012.06 Q32.7167 1017.02 35.9632 1019.7 Q39.1779 1022.34 45.2253 1022.34 L64.0042 1022.34 L64.0042 1028.23 L28.3562 1028.23 L28.3562 1022.34 L33.8944 1022.34 Q30.6479 1020.49 29.0883 1017.53 Q27.4968 1014.57 27.4968 1010.34 Q27.4968 1009.73 27.5923 1009 Q27.656 1008.27 27.8151 1007.38 L33.8307 1007.35 Z\" fill=\"#000000\" fill-rule=\"evenodd\" fill-opacity=\"1\" /><path clip-path=\"url(#clip110)\" d=\"M33.8307 981.692 Q33.2578 982.679 33.0032 983.856 Q32.7167 985.002 32.7167 986.403 Q32.7167 991.368 35.9632 994.042 Q39.1779 996.683 45.2253 996.683 L64.0042 996.683 L64.0042 1002.57 L28.3562 1002.57 L28.3562 996.683 L33.8944 996.683 Q30.6479 994.837 29.0883 991.877 Q27.4968 988.917 27.4968 984.684 Q27.4968 984.079 27.5923 983.347 Q27.656 982.615 27.8151 981.724 L33.8307 981.692 Z\" fill=\"#000000\" fill-rule=\"evenodd\" fill-opacity=\"1\" /><path clip-path=\"url(#clip110)\" d=\"M44.7161 946.49 L47.5806 946.49 L47.5806 973.417 Q53.6281 973.035 56.8109 969.788 Q59.9619 966.51 59.9619 960.685 Q59.9619 957.311 59.1344 954.16 Q58.3069 950.978 56.6518 947.858 L62.1899 947.858 Q63.5267 951.009 64.227 954.32 Q64.9272 957.63 64.9272 961.035 Q64.9272 969.565 59.9619 974.563 Q54.9967 979.528 46.5303 979.528 Q37.7774 979.528 32.6531 974.817 Q27.4968 970.075 27.4968 962.054 Q27.4968 954.861 32.1438 950.691 Q36.7589 946.49 44.7161 946.49 M42.9973 952.346 Q38.1912 952.41 35.3266 955.052 Q32.4621 957.662 32.4621 961.99 Q32.4621 966.892 35.2312 969.852 Q38.0002 972.78 43.0292 973.226 L42.9973 952.346 Z\" fill=\"#000000\" fill-rule=\"evenodd\" fill-opacity=\"1\" /><path clip-path=\"url(#clip110)\" d=\"M14.479 936.878 L14.479 931.021 L64.0042 931.021 L64.0042 936.878 L14.479 936.878 Z\" fill=\"#000000\" fill-rule=\"evenodd\" fill-opacity=\"1\" /><path clip-path=\"url(#clip110)\" d=\"M46.0847 902.566 Q46.0847 909.664 47.7079 912.401 Q49.3312 915.139 53.2461 915.139 Q56.3653 915.139 58.2114 913.102 Q60.0256 911.033 60.0256 907.5 Q60.0256 902.63 56.5881 899.702 Q53.1188 896.742 47.3897 896.742 L46.0847 896.742 L46.0847 902.566 M43.6657 890.885 L64.0042 890.885 L64.0042 896.742 L58.5933 896.742 Q61.8398 898.747 63.3994 901.739 Q64.9272 904.731 64.9272 909.059 Q64.9272 914.534 61.8716 917.78 Q58.7843 920.995 53.6281 920.995 Q47.6125 920.995 44.5569 916.985 Q41.5014 912.942 41.5014 904.954 L41.5014 896.742 L40.9285 896.742 Q36.8862 896.742 34.6901 899.415 Q32.4621 902.057 32.4621 906.863 Q32.4621 909.919 33.1941 912.815 Q33.9262 915.712 35.3903 918.385 L29.9795 918.385 Q28.7381 915.17 28.1334 912.147 Q27.4968 909.123 27.4968 906.259 Q27.4968 898.524 31.5072 894.705 Q35.5176 890.885 43.6657 890.885 Z\" fill=\"#000000\" fill-rule=\"evenodd\" fill-opacity=\"1\" /><path clip-path=\"url(#clip110)\" d=\"M18.2347 873.03 L28.3562 873.03 L28.3562 860.967 L32.9077 860.967 L32.9077 873.03 L52.2594 873.03 Q56.6199 873.03 57.8613 871.852 Q59.1026 870.642 59.1026 866.982 L59.1026 860.967 L64.0042 860.967 L64.0042 866.982 Q64.0042 873.762 61.4897 876.34 Q58.9434 878.918 52.2594 878.918 L32.9077 878.918 L32.9077 883.215 L28.3562 883.215 L28.3562 878.918 L18.2347 878.918 L18.2347 873.03 Z\" fill=\"#000000\" fill-rule=\"evenodd\" fill-opacity=\"1\" /><path clip-path=\"url(#clip110)\" d=\"M28.3562 853.264 L28.3562 847.408 L64.0042 847.408 L64.0042 853.264 L28.3562 853.264 M14.479 853.264 L14.479 847.408 L21.895 847.408 L21.895 853.264 L14.479 853.264 Z\" fill=\"#000000\" fill-rule=\"evenodd\" fill-opacity=\"1\" /><path clip-path=\"url(#clip110)\" d=\"M32.4621 821.34 Q32.4621 826.051 36.1542 828.788 Q39.8145 831.525 46.212 831.525 Q52.6095 831.525 56.3017 828.82 Q59.9619 826.082 59.9619 821.34 Q59.9619 816.661 56.2698 813.924 Q52.5777 811.187 46.212 811.187 Q39.8781 811.187 36.186 813.924 Q32.4621 816.661 32.4621 821.34 M27.4968 821.34 Q27.4968 813.701 32.4621 809.341 Q37.4273 804.98 46.212 804.98 Q54.9649 804.98 59.9619 809.341 Q64.9272 813.701 64.9272 821.34 Q64.9272 829.011 59.9619 833.371 Q54.9649 837.7 46.212 837.7 Q37.4273 837.7 32.4621 833.371 Q27.4968 829.011 27.4968 821.34 Z\" fill=\"#000000\" fill-rule=\"evenodd\" fill-opacity=\"1\" /><path clip-path=\"url(#clip110)\" d=\"M42.4881 765.64 L64.0042 765.64 L64.0042 771.496 L42.679 771.496 Q37.6183 771.496 35.1038 773.47 Q32.5894 775.443 32.5894 779.39 Q32.5894 784.132 35.6131 786.87 Q38.6368 789.607 43.8567 789.607 L64.0042 789.607 L64.0042 795.495 L28.3562 795.495 L28.3562 789.607 L33.8944 789.607 Q30.6797 787.506 29.0883 784.674 Q27.4968 781.809 27.4968 778.085 Q27.4968 771.942 31.3163 768.791 Q35.1038 765.64 42.4881 765.64 Z\" fill=\"#000000\" fill-rule=\"evenodd\" fill-opacity=\"1\" /><path clip-path=\"url(#clip110)\" d=\"M14.479 733.239 L14.479 727.382 L64.0042 727.382 L64.0042 733.239 L14.479 733.239 Z\" fill=\"#000000\" fill-rule=\"evenodd\" fill-opacity=\"1\" /><path clip-path=\"url(#clip110)\" d=\"M44.7161 684.636 L47.5806 684.636 L47.5806 711.563 Q53.6281 711.181 56.8109 707.935 Q59.9619 704.657 59.9619 698.832 Q59.9619 695.458 59.1344 692.307 Q58.3069 689.124 56.6518 686.005 L62.1899 686.005 Q63.5267 689.156 64.227 692.466 Q64.9272 695.776 64.9272 699.182 Q64.9272 707.712 59.9619 712.709 Q54.9967 717.674 46.5303 717.674 Q37.7774 717.674 32.6531 712.964 Q27.4968 708.221 27.4968 700.201 Q27.4968 693.007 32.1438 688.838 Q36.7589 684.636 44.7161 684.636 M42.9973 690.493 Q38.1912 690.557 35.3266 693.198 Q32.4621 695.808 32.4621 700.137 Q32.4621 705.039 35.2312 707.999 Q38.0002 710.927 43.0292 711.372 L42.9973 690.493 Z\" fill=\"#000000\" fill-rule=\"evenodd\" fill-opacity=\"1\" /><path clip-path=\"url(#clip110)\" d=\"M42.4881 645.392 L64.0042 645.392 L64.0042 651.248 L42.679 651.248 Q37.6183 651.248 35.1038 653.222 Q32.5894 655.195 32.5894 659.142 Q32.5894 663.884 35.6131 666.621 Q38.6368 669.359 43.8567 669.359 L64.0042 669.359 L64.0042 675.247 L28.3562 675.247 L28.3562 669.359 L33.8944 669.359 Q30.6797 667.258 29.0883 664.425 Q27.4968 661.561 27.4968 657.837 Q27.4968 651.694 31.3163 648.543 Q35.1038 645.392 42.4881 645.392 Z\" fill=\"#000000\" fill-rule=\"evenodd\" fill-opacity=\"1\" /><path clip-path=\"url(#clip110)\" d=\"M45.7664 610.253 Q39.4007 610.253 35.8996 612.895 Q32.3984 615.505 32.3984 620.247 Q32.3984 624.958 35.8996 627.6 Q39.4007 630.21 45.7664 630.21 Q52.1003 630.21 55.6014 627.6 Q59.1026 624.958 59.1026 620.247 Q59.1026 615.505 55.6014 612.895 Q52.1003 610.253 45.7664 610.253 M59.58 604.397 Q68.683 604.397 73.1071 608.439 Q77.5631 612.481 77.5631 620.82 Q77.5631 623.908 77.0857 626.645 Q76.6401 629.382 75.6852 631.96 L69.9879 631.96 Q71.3884 629.382 72.0568 626.868 Q72.7252 624.353 72.7252 621.743 Q72.7252 615.982 69.7015 613.118 Q66.7096 610.253 60.6303 610.253 L57.7339 610.253 Q60.885 612.067 62.4446 614.9 Q64.0042 617.733 64.0042 621.68 Q64.0042 628.236 59.0071 632.247 Q54.01 636.257 45.7664 636.257 Q37.491 636.257 32.4939 632.247 Q27.4968 628.236 27.4968 621.68 Q27.4968 617.733 29.0564 614.9 Q30.616 612.067 33.7671 610.253 L28.3562 610.253 L28.3562 604.397 L59.58 604.397 Z\" fill=\"#000000\" fill-rule=\"evenodd\" fill-opacity=\"1\" /><path clip-path=\"url(#clip110)\" d=\"M18.2347 586.541 L28.3562 586.541 L28.3562 574.478 L32.9077 574.478 L32.9077 586.541 L52.2594 586.541 Q56.6199 586.541 57.8613 585.363 Q59.1026 584.154 59.1026 580.493 L59.1026 574.478 L64.0042 574.478 L64.0042 580.493 Q64.0042 587.273 61.4897 589.851 Q58.9434 592.429 52.2594 592.429 L32.9077 592.429 L32.9077 596.726 L28.3562 596.726 L28.3562 592.429 L18.2347 592.429 L18.2347 586.541 Z\" fill=\"#000000\" fill-rule=\"evenodd\" fill-opacity=\"1\" /><path clip-path=\"url(#clip110)\" d=\"M42.4881 537.143 L64.0042 537.143 L64.0042 542.999 L42.679 542.999 Q37.6183 542.999 35.1038 544.973 Q32.5894 546.946 32.5894 550.893 Q32.5894 555.635 35.6131 558.373 Q38.6368 561.11 43.8567 561.11 L64.0042 561.11 L64.0042 566.998 L14.479 566.998 L14.479 561.11 L33.8944 561.11 Q30.6797 559.009 29.0883 556.176 Q27.4968 553.312 27.4968 549.588 Q27.4968 543.445 31.3163 540.294 Q35.1038 537.143 42.4881 537.143 Z\" fill=\"#000000\" fill-rule=\"evenodd\" fill-opacity=\"1\" /><path clip-path=\"url(#clip110)\" d=\"M33.8307 484.085 Q33.2578 485.072 33.0032 486.249 Q32.7167 487.395 32.7167 488.795 Q32.7167 493.761 35.9632 496.434 Q39.1779 499.076 45.2253 499.076 L64.0042 499.076 L64.0042 504.964 L28.3562 504.964 L28.3562 499.076 L33.8944 499.076 Q30.6479 497.23 29.0883 494.27 Q27.4968 491.31 27.4968 487.077 Q27.4968 486.472 27.5923 485.74 Q27.656 485.008 27.8151 484.117 L33.8307 484.085 Z\" fill=\"#000000\" fill-rule=\"evenodd\" fill-opacity=\"1\" /><path clip-path=\"url(#clip110)\" d=\"M46.0847 461.741 Q46.0847 468.839 47.7079 471.576 Q49.3312 474.313 53.2461 474.313 Q56.3653 474.313 58.2114 472.276 Q60.0256 470.208 60.0256 466.675 Q60.0256 461.805 56.5881 458.877 Q53.1188 455.917 47.3897 455.917 L46.0847 455.917 L46.0847 461.741 M43.6657 450.06 L64.0042 450.06 L64.0042 455.917 L58.5933 455.917 Q61.8398 457.922 63.3994 460.914 Q64.9272 463.906 64.9272 468.234 Q64.9272 473.709 61.8716 476.955 Q58.7843 480.17 53.6281 480.17 Q47.6125 480.17 44.5569 476.16 Q41.5014 472.117 41.5014 464.128 L41.5014 455.917 L40.9285 455.917 Q36.8862 455.917 34.6901 458.59 Q32.4621 461.232 32.4621 466.038 Q32.4621 469.094 33.1941 471.99 Q33.9262 474.886 35.3903 477.56 L29.9795 477.56 Q28.7381 474.345 28.1334 471.322 Q27.4968 468.298 27.4968 465.433 Q27.4968 457.699 31.5072 453.88 Q35.5176 450.06 43.6657 450.06 Z\" fill=\"#000000\" fill-rule=\"evenodd\" fill-opacity=\"1\" /><path clip-path=\"url(#clip110)\" d=\"M18.2347 432.204 L28.3562 432.204 L28.3562 420.141 L32.9077 420.141 L32.9077 432.204 L52.2594 432.204 Q56.6199 432.204 57.8613 431.027 Q59.1026 429.817 59.1026 426.157 L59.1026 420.141 L64.0042 420.141 L64.0042 426.157 Q64.0042 432.936 61.4897 435.515 Q58.9434 438.093 52.2594 438.093 L32.9077 438.093 L32.9077 442.389 L28.3562 442.389 L28.3562 438.093 L18.2347 438.093 L18.2347 432.204 Z\" fill=\"#000000\" fill-rule=\"evenodd\" fill-opacity=\"1\" /><path clip-path=\"url(#clip110)\" d=\"M28.3562 412.439 L28.3562 406.582 L64.0042 406.582 L64.0042 412.439 L28.3562 412.439 M14.479 412.439 L14.479 406.582 L21.895 406.582 L21.895 412.439 L14.479 412.439 Z\" fill=\"#000000\" fill-rule=\"evenodd\" fill-opacity=\"1\" /><path clip-path=\"url(#clip110)\" d=\"M32.4621 380.515 Q32.4621 385.225 36.1542 387.963 Q39.8145 390.7 46.212 390.7 Q52.6095 390.7 56.3017 387.995 Q59.9619 385.257 59.9619 380.515 Q59.9619 375.836 56.2698 373.099 Q52.5777 370.361 46.212 370.361 Q39.8781 370.361 36.186 373.099 Q32.4621 375.836 32.4621 380.515 M27.4968 380.515 Q27.4968 372.876 32.4621 368.515 Q37.4273 364.155 46.212 364.155 Q54.9649 364.155 59.9619 368.515 Q64.9272 372.876 64.9272 380.515 Q64.9272 388.185 59.9619 392.546 Q54.9649 396.875 46.212 396.875 Q37.4273 396.875 32.4621 392.546 Q27.4968 388.185 27.4968 380.515 Z\" fill=\"#000000\" fill-rule=\"evenodd\" fill-opacity=\"1\" /><polyline clip-path=\"url(#clip112)\" style=\"stroke:#009af9; stroke-linecap:round; stroke-linejoin:round; stroke-width:4; stroke-opacity:1; fill:none\" points=\"\n",
       "  280.231,1378.02 284.255,1376.67 288.28,1375.29 292.304,1373.87 296.328,1372.43 300.353,1370.95 304.377,1369.44 308.401,1367.9 312.426,1366.33 316.45,1364.73 \n",
       "  320.474,1363.1 324.499,1361.45 328.523,1359.76 332.547,1358.05 336.572,1356.3 340.596,1354.54 344.62,1352.74 348.645,1350.92 352.669,1349.07 356.693,1347.2 \n",
       "  360.717,1345.3 364.742,1343.37 368.766,1341.43 372.79,1339.45 376.815,1337.46 380.839,1335.44 384.863,1333.4 388.888,1331.33 392.912,1329.24 396.936,1327.13 \n",
       "  400.961,1325 404.985,1322.85 409.009,1320.67 413.034,1318.48 417.058,1316.26 421.082,1314.03 425.107,1311.77 429.131,1309.5 433.155,1307.2 437.18,1304.89 \n",
       "  441.204,1302.56 445.228,1300.21 449.253,1297.84 453.277,1295.45 457.301,1293.05 461.325,1290.62 465.35,1288.18 469.374,1285.73 473.398,1283.25 477.423,1280.76 \n",
       "  481.447,1278.25 485.471,1275.73 489.496,1273.19 493.52,1270.63 497.544,1268.06 501.569,1265.47 505.593,1262.87 509.617,1260.25 513.642,1257.61 517.666,1254.96 \n",
       "  521.69,1252.3 525.715,1249.62 529.739,1246.92 533.763,1244.21 537.788,1241.49 541.812,1238.75 545.836,1235.99 549.861,1233.23 553.885,1230.45 557.909,1227.65 \n",
       "  561.933,1224.84 565.958,1222.02 569.982,1219.18 574.006,1216.33 578.031,1213.46 582.055,1210.59 586.079,1207.7 590.104,1204.79 594.128,1201.87 598.152,1198.94 \n",
       "  602.177,1196 606.201,1193.04 610.225,1190.07 614.25,1187.09 618.274,1184.09 622.298,1181.08 626.323,1178.06 630.347,1175.03 634.371,1171.98 638.396,1168.93 \n",
       "  642.42,1165.86 646.444,1162.77 650.469,1159.68 654.493,1156.57 658.517,1153.45 662.541,1150.32 666.566,1147.17 670.59,1144.02 674.614,1140.85 678.639,1137.67 \n",
       "  682.663,1134.48 686.687,1131.28 690.712,1128.07 694.736,1124.84 698.76,1121.6 702.785,1118.35 706.809,1115.1 710.833,1111.82 714.858,1108.54 718.882,1105.25 \n",
       "  722.906,1101.95 726.931,1098.63 730.955,1095.31 734.979,1091.97 739.004,1088.62 743.028,1085.26 747.052,1081.9 751.077,1078.52 755.101,1075.13 759.125,1071.73 \n",
       "  763.149,1068.32 767.174,1064.9 771.198,1061.47 775.222,1058.03 779.247,1054.58 783.271,1051.12 787.295,1047.65 791.32,1044.18 795.344,1040.69 799.368,1037.19 \n",
       "  803.393,1033.69 807.417,1030.17 811.441,1026.65 815.466,1023.11 819.49,1019.57 823.514,1016.02 827.539,1012.46 831.563,1008.89 835.587,1005.32 839.612,1001.73 \n",
       "  843.636,998.138 847.66,994.538 851.685,990.929 855.709,987.313 859.733,983.689 863.757,980.057 867.782,976.418 871.806,972.772 875.83,969.119 879.855,965.458 \n",
       "  883.879,961.791 887.903,958.117 891.928,954.437 895.952,950.75 899.976,947.057 904.001,943.357 908.025,939.652 912.049,935.941 916.074,932.224 920.098,928.501 \n",
       "  924.122,924.773 928.147,921.04 932.171,917.302 936.195,913.558 940.22,909.81 944.244,906.058 948.268,902.3 952.293,898.539 956.317,894.773 960.341,891.004 \n",
       "  964.365,887.23 968.39,883.453 972.414,879.672 976.438,875.888 980.463,872.101 984.487,868.311 988.511,864.519 992.536,860.723 996.56,856.925 1000.58,853.125 \n",
       "  1004.61,849.323 1008.63,845.519 1012.66,841.713 1016.68,837.906 1020.71,834.097 1024.73,830.287 1028.75,826.476 1032.78,822.664 1036.8,818.851 1040.83,815.039 \n",
       "  1044.85,811.225 1048.88,807.412 1052.9,803.599 1056.92,799.786 1060.95,795.974 1064.97,792.162 1069,788.351 1073.02,784.541 1077.05,780.732 1081.07,776.925 \n",
       "  1085.1,773.12 1089.12,769.316 1093.14,765.514 1097.17,761.714 1101.19,757.917 1105.22,754.122 1109.24,750.33 1113.27,746.541 1117.29,742.754 1121.31,738.972 \n",
       "  1125.34,735.192 1129.36,731.417 1133.39,727.645 1137.41,723.877 1141.44,720.113 1145.46,716.354 1149.48,712.599 1153.51,708.849 1157.53,705.104 1161.56,701.364 \n",
       "  1165.58,697.63 1169.61,693.901 1173.63,690.177 1177.65,686.46 1181.68,682.748 1185.7,679.042 1189.73,675.343 1193.75,671.65 1197.78,667.964 1201.8,664.285 \n",
       "  1205.82,660.613 1209.85,656.948 1213.87,653.29 1217.9,649.64 1221.92,645.998 1225.95,642.363 1229.97,638.736 1233.99,635.118 1238.02,631.507 1242.04,627.905 \n",
       "  1246.07,624.312 1250.09,620.728 1254.12,617.152 1258.14,613.585 1262.17,610.028 1266.19,606.479 1270.21,602.941 1274.24,599.411 1278.26,595.892 1282.29,592.382 \n",
       "  1286.31,588.882 1290.34,585.393 1294.36,581.914 1298.38,578.445 1302.41,574.986 1306.43,571.538 1310.46,568.101 1314.48,564.675 1318.51,561.259 1322.53,557.855 \n",
       "  1326.55,554.461 1330.58,551.08 1334.6,547.709 1338.63,544.35 1342.65,541.002 1346.68,537.666 1350.7,534.342 1354.72,531.03 1358.75,527.73 1362.77,524.442 \n",
       "  1366.8,521.165 1370.82,517.902 1374.85,514.65 1378.87,511.411 1382.89,508.184 1386.92,504.97 1390.94,501.768 1394.97,498.579 1398.99,495.403 1403.02,492.239 \n",
       "  1407.04,489.089 1411.07,485.951 1415.09,482.826 1419.11,479.715 1423.14,476.616 1427.16,473.531 1431.19,470.458 1435.21,467.399 1439.24,464.354 1443.26,461.321 \n",
       "  1447.28,458.302 1451.31,455.297 1455.33,452.305 1459.36,449.326 1463.38,446.361 1467.41,443.41 1471.43,440.472 1475.45,437.548 1479.48,434.637 1483.5,431.74 \n",
       "  1487.53,428.857 1491.55,425.987 1495.58,423.131 1499.6,420.289 1503.62,417.461 1507.65,414.646 1511.67,411.845 1515.7,409.058 1519.72,406.285 1523.75,403.526 \n",
       "  1527.77,400.78 1531.79,398.048 1535.82,395.33 1539.84,392.626 1543.87,389.935 1547.89,387.259 1551.92,384.596 1555.94,381.947 1559.96,379.312 1563.99,376.69 \n",
       "  1568.01,374.083 1572.04,371.489 1576.06,368.908 1580.09,366.342 1584.11,363.789 1588.14,361.25 1592.16,358.724 1596.18,356.213 1600.21,353.714 1604.23,351.23 \n",
       "  1608.26,348.759 1612.28,346.301 1616.31,343.857 1620.33,341.426 1624.35,339.009 1628.38,336.606 1632.4,334.215 1636.43,331.838 1640.45,329.475 1644.48,327.125 \n",
       "  1648.5,324.788 1652.52,322.464 1656.55,320.153 1660.57,317.856 1664.6,315.571 1668.62,313.3 1672.65,311.042 1676.67,308.797 1680.69,306.564 1684.72,304.345 \n",
       "  1688.74,302.138 1692.77,299.944 1696.79,297.763 1700.82,295.595 1704.84,293.44 1708.86,291.297 1712.89,289.166 1716.91,287.049 1720.94,284.943 1724.96,282.85 \n",
       "  1728.99,280.77 1733.01,278.702 1737.03,276.646 1741.06,274.602 1745.08,272.571 1749.11,270.551 1753.13,268.544 1757.16,266.549 1761.18,264.566 1765.21,262.595 \n",
       "  1769.23,260.635 1773.25,258.687 1777.28,256.752 1781.3,254.828 1785.33,252.915 1789.35,251.014 1793.38,249.125 1797.4,247.247 1801.42,245.38 1805.45,243.525 \n",
       "  1809.47,241.682 1813.5,239.849 1817.52,238.028 1821.55,236.218 1825.57,234.419 1829.59,232.631 1833.62,230.854 1837.64,229.088 1841.67,227.332 1845.69,225.588 \n",
       "  1849.72,223.854 1853.74,222.131 1857.76,220.419 1861.79,218.717 1865.81,217.026 1869.84,215.345 1873.86,213.674 1877.89,212.014 1881.91,210.364 1885.93,208.725 \n",
       "  1889.96,207.095 1893.98,205.476 1898.01,203.867 1902.03,202.268 1906.06,200.678 1910.08,199.099 1914.11,197.529 1918.13,195.969 1922.15,194.419 1926.18,192.878 \n",
       "  1930.2,191.348 1934.23,189.826 1938.25,188.314 1942.28,186.812 1946.3,185.319 1950.32,183.835 1954.35,182.36 1958.37,180.895 1962.4,179.438 1966.42,177.991 \n",
       "  1970.45,176.553 1974.47,175.124 1978.49,173.704 1982.52,172.292 1986.54,170.89 1990.57,169.496 1994.59,168.111 1998.62,166.734 2002.64,165.366 2006.66,164.007 \n",
       "  2010.69,162.656 2014.71,161.313 2018.74,159.979 2022.76,158.653 2026.79,157.336 2030.81,156.027 2034.83,154.725 2038.86,153.432 2042.88,152.147 2046.91,150.87 \n",
       "  2050.93,149.601 2054.96,148.34 2058.98,147.087 2063,145.841 2067.03,144.603 2071.05,143.373 2075.08,142.151 2079.1,140.936 2083.13,139.728 2087.15,138.529 \n",
       "  2091.18,137.336 2095.2,136.151 2099.22,134.973 2103.25,133.803 2107.27,132.64 2111.3,131.484 2115.32,130.335 2119.35,129.194 2123.37,128.059 2127.39,126.931 \n",
       "  2131.42,125.811 2135.44,124.697 2139.47,123.59 2143.49,122.49 2147.52,121.397 2151.54,120.31 2155.56,119.23 2159.59,118.157 2163.61,117.091 2167.64,116.03 \n",
       "  2171.66,114.977 2175.69,113.93 2179.71,112.889 2183.73,111.855 2187.76,110.827 2191.78,109.805 2195.81,108.79 2199.83,107.78 2203.86,106.777 2207.88,105.78 \n",
       "  2211.9,104.789 2215.93,103.805 2219.95,102.826 2223.98,101.853 2228,100.886 2232.03,99.9247 2236.05,98.9694 2240.07,98.0199 2244.1,97.0761 2248.12,96.1381 \n",
       "  2252.15,95.2057 2256.17,94.279 2260.2,93.3579 2264.22,92.4423 2268.25,91.5322 2272.27,90.6277 2276.29,89.7285 2280.32,88.8348 2284.34,87.9464 2288.37,87.0634 \n",
       "  2292.39,86.1857 \n",
       "  \"/>\n",
       "<polyline clip-path=\"url(#clip112)\" style=\"stroke:#e26f46; stroke-linecap:round; stroke-linejoin:round; stroke-width:4; stroke-opacity:1; fill:none\" points=\"\n",
       "  280.231,1381.09 284.255,1379.89 288.28,1378.65 292.304,1377.39 296.328,1376.1 300.353,1374.78 304.377,1373.44 308.401,1372.07 312.426,1370.66 316.45,1369.24 \n",
       "  320.474,1367.78 324.499,1366.3 328.523,1364.8 332.547,1363.26 336.572,1361.71 340.596,1360.13 344.62,1358.52 348.645,1356.89 352.669,1355.23 356.693,1353.55 \n",
       "  360.717,1351.85 364.742,1350.12 368.766,1348.37 372.79,1346.6 376.815,1344.81 380.839,1342.99 384.863,1341.15 388.888,1339.29 392.912,1337.41 396.936,1335.51 \n",
       "  400.961,1333.58 404.985,1331.64 409.009,1329.67 413.034,1327.69 417.058,1325.68 421.082,1323.65 425.107,1321.61 429.131,1319.54 433.155,1317.46 437.18,1315.35 \n",
       "  441.204,1313.23 445.228,1311.09 449.253,1308.93 453.277,1306.75 457.301,1304.55 461.325,1302.33 465.35,1300.09 469.374,1297.84 473.398,1295.57 477.423,1293.28 \n",
       "  481.447,1290.97 485.471,1288.65 489.496,1286.3 493.52,1283.94 497.544,1281.56 501.569,1279.17 505.593,1276.75 509.617,1274.32 513.642,1271.87 517.666,1269.41 \n",
       "  521.69,1266.92 525.715,1264.42 529.739,1261.91 533.763,1259.37 537.788,1256.82 541.812,1254.26 545.836,1251.67 549.861,1249.07 553.885,1246.45 557.909,1243.82 \n",
       "  561.933,1241.17 565.958,1238.5 569.982,1235.81 574.006,1233.11 578.031,1230.4 582.055,1227.66 586.079,1224.91 590.104,1222.14 594.128,1219.36 598.152,1216.56 \n",
       "  602.177,1213.75 606.201,1210.92 610.225,1208.07 614.25,1205.2 618.274,1202.32 622.298,1199.43 626.323,1196.52 630.347,1193.59 634.371,1190.64 638.396,1187.68 \n",
       "  642.42,1184.71 646.444,1181.72 650.469,1178.71 654.493,1175.69 658.517,1172.65 662.541,1169.59 666.566,1166.52 670.59,1163.44 674.614,1160.34 678.639,1157.22 \n",
       "  682.663,1154.09 686.687,1150.94 690.712,1147.78 694.736,1144.6 698.76,1141.41 702.785,1138.2 706.809,1134.98 710.833,1131.74 714.858,1128.49 718.882,1125.22 \n",
       "  722.906,1121.94 726.931,1118.64 730.955,1115.33 734.979,1112 739.004,1108.66 743.028,1105.31 747.052,1101.94 751.077,1098.55 755.101,1095.15 759.125,1091.74 \n",
       "  763.149,1088.32 767.174,1084.88 771.198,1081.42 775.222,1077.95 779.247,1074.47 783.271,1070.98 787.295,1067.47 791.32,1063.95 795.344,1060.41 799.368,1056.86 \n",
       "  803.393,1053.3 807.417,1049.72 811.441,1046.14 815.466,1042.54 819.49,1038.92 823.514,1035.3 827.539,1031.66 831.563,1028.01 835.587,1024.34 839.612,1020.67 \n",
       "  843.636,1016.98 847.66,1013.28 851.685,1009.57 855.709,1005.85 859.733,1002.11 863.757,998.366 867.782,994.608 871.806,990.84 875.83,987.06 879.855,983.269 \n",
       "  883.879,979.468 887.903,975.655 891.928,971.833 895.952,967.999 899.976,964.156 904.001,960.303 908.025,956.439 912.049,952.566 916.074,948.683 920.098,944.79 \n",
       "  924.122,940.889 928.147,936.978 932.171,933.058 936.195,929.129 940.22,925.191 944.244,921.245 948.268,917.29 952.293,913.328 956.317,909.357 960.341,905.378 \n",
       "  964.365,901.392 968.39,897.398 972.414,893.397 976.438,889.389 980.463,885.374 984.487,881.352 988.511,877.324 992.536,873.289 996.56,869.249 1000.58,865.202 \n",
       "  1004.61,861.149 1008.63,857.091 1012.66,853.028 1016.68,848.96 1020.71,844.886 1024.73,840.808 1028.75,836.726 1032.78,832.639 1036.8,828.548 1040.83,824.454 \n",
       "  1044.85,820.356 1048.88,816.255 1052.9,812.15 1056.92,808.043 1060.95,803.933 1064.97,799.821 1069,795.706 1073.02,791.59 1077.05,787.472 1081.07,783.353 \n",
       "  1085.1,779.233 1089.12,775.111 1093.14,770.99 1097.17,766.868 1101.19,762.745 1105.22,758.623 1109.24,754.502 1113.27,750.381 1117.29,746.261 1121.31,742.142 \n",
       "  1125.34,738.025 1129.36,733.91 1133.39,729.796 1137.41,725.685 1141.44,721.577 1145.46,717.472 1149.48,713.37 1153.51,709.271 1157.53,705.176 1161.56,701.085 \n",
       "  1165.58,696.999 1169.61,692.917 1173.63,688.84 1177.65,684.768 1181.68,680.701 1185.7,676.641 1189.73,672.586 1193.75,668.538 1197.78,664.496 1201.8,660.462 \n",
       "  1205.82,656.434 1209.85,652.414 1213.87,648.402 1217.9,644.398 1221.92,640.402 1225.95,636.415 1229.97,632.437 1233.99,628.468 1238.02,624.508 1242.04,620.558 \n",
       "  1246.07,616.618 1250.09,612.689 1254.12,608.77 1258.14,604.862 1262.17,600.965 1266.19,597.079 1270.21,593.205 1274.24,589.344 1278.26,585.494 1282.29,581.656 \n",
       "  1286.31,577.832 1290.34,574.02 1294.36,570.222 1298.38,566.437 1302.41,562.665 1306.43,558.908 1310.46,555.165 1314.48,551.436 1318.51,547.722 1322.53,544.023 \n",
       "  1326.55,540.338 1330.58,536.67 1334.6,533.016 1338.63,529.379 1342.65,525.757 1346.68,522.151 1350.7,518.562 1354.72,514.99 1358.75,511.434 1362.77,507.895 \n",
       "  1366.8,504.373 1370.82,500.868 1374.85,497.381 1378.87,493.911 1382.89,490.46 1386.92,487.026 1390.94,483.61 1394.97,480.213 1398.99,476.833 1403.02,473.473 \n",
       "  1407.04,470.131 1411.07,466.808 1415.09,463.503 1419.11,460.218 1423.14,456.952 1427.16,453.705 1431.19,450.478 1435.21,447.27 1439.24,444.081 1443.26,440.912 \n",
       "  1447.28,437.763 1451.31,434.634 1455.33,431.525 1459.36,428.435 1463.38,425.366 1467.41,422.316 1471.43,419.287 1475.45,416.278 1479.48,413.289 1483.5,410.32 \n",
       "  1487.53,407.372 1491.55,404.444 1495.58,401.537 1499.6,398.65 1503.62,395.783 1507.65,392.936 1511.67,390.111 1515.7,387.305 1519.72,384.52 1523.75,381.756 \n",
       "  1527.77,379.011 1531.79,376.288 1535.82,373.585 1539.84,370.902 1543.87,368.239 1547.89,365.597 1551.92,362.975 1555.94,360.374 1559.96,357.793 1563.99,355.232 \n",
       "  1568.01,352.691 1572.04,350.17 1576.06,347.669 1580.09,345.189 1584.11,342.728 1588.14,340.287 1592.16,337.867 1596.18,335.466 1600.21,333.084 1604.23,330.723 \n",
       "  1608.26,328.381 1612.28,326.058 1616.31,323.755 1620.33,321.471 1624.35,319.207 1628.38,316.961 1632.4,314.735 1636.43,312.528 1640.45,310.34 1644.48,308.171 \n",
       "  1648.5,306.02 1652.52,303.888 1656.55,301.775 1660.57,299.68 1664.6,297.603 1668.62,295.545 1672.65,293.505 1676.67,291.483 1680.69,289.478 1684.72,287.492 \n",
       "  1688.74,285.524 1692.77,283.573 1696.79,281.639 1700.82,279.723 1704.84,277.824 1708.86,275.943 1712.89,274.078 1716.91,272.231 1720.94,270.4 1724.96,268.586 \n",
       "  1728.99,266.789 1733.01,265.008 1737.03,263.243 1741.06,261.495 1745.08,259.763 1749.11,258.047 1753.13,256.347 1757.16,254.662 1761.18,252.994 1765.21,251.34 \n",
       "  1769.23,249.702 1773.25,248.08 1777.28,246.473 1781.3,244.88 1785.33,243.303 1789.35,241.74 1793.38,240.193 1797.4,238.659 1801.42,237.14 1805.45,235.636 \n",
       "  1809.47,234.146 1813.5,232.669 1817.52,231.207 1821.55,229.759 1825.57,228.324 1829.59,226.903 1833.62,225.496 1837.64,224.102 1841.67,222.721 1845.69,221.353 \n",
       "  1849.72,219.999 1853.74,218.657 1857.76,217.328 1861.79,216.012 1865.81,214.708 1869.84,213.417 1873.86,212.138 1877.89,210.871 1881.91,209.617 1885.93,208.374 \n",
       "  1889.96,207.143 1893.98,205.925 1898.01,204.717 1902.03,203.522 1906.06,202.338 1910.08,201.165 1914.11,200.003 1918.13,198.853 1922.15,197.713 1926.18,196.585 \n",
       "  1930.2,195.467 1934.23,194.36 1938.25,193.264 1942.28,192.178 1946.3,191.103 1950.32,190.038 1954.35,188.983 1958.37,187.938 1962.4,186.903 1966.42,185.878 \n",
       "  1970.45,184.863 1974.47,183.857 1978.49,182.862 1982.52,181.875 1986.54,180.899 1990.57,179.931 1994.59,178.973 1998.62,178.024 2002.64,177.084 2006.66,176.153 \n",
       "  2010.69,175.23 2014.71,174.317 2018.74,173.412 2022.76,172.516 2026.79,171.628 2030.81,170.749 2034.83,169.879 2038.86,169.016 2042.88,168.162 2046.91,167.315 \n",
       "  2050.93,166.477 2054.96,165.647 2058.98,164.824 2063,164.01 2067.03,163.203 2071.05,162.403 2075.08,161.612 2079.1,160.827 2083.13,160.05 2087.15,159.281 \n",
       "  2091.18,158.518 2095.2,157.763 2099.22,157.015 2103.25,156.274 2107.27,155.54 2111.3,154.812 2115.32,154.092 2119.35,153.378 2123.37,152.671 2127.39,151.97 \n",
       "  2131.42,151.276 2135.44,150.589 2139.47,149.908 2143.49,149.233 2147.52,148.564 2151.54,147.902 2155.56,147.246 2159.59,146.596 2163.61,145.952 2167.64,145.313 \n",
       "  2171.66,144.681 2175.69,144.055 2179.71,143.434 2183.73,142.819 2187.76,142.21 2191.78,141.606 2195.81,141.008 2199.83,140.415 2203.86,139.828 2207.88,139.246 \n",
       "  2211.9,138.669 2215.93,138.098 2219.95,137.531 2223.98,136.97 2228,136.414 2232.03,135.863 2236.05,135.317 2240.07,134.776 2244.1,134.24 2248.12,133.709 \n",
       "  2252.15,133.183 2256.17,132.661 2260.2,132.144 2264.22,131.631 2268.25,131.124 2272.27,130.62 2276.29,130.121 2280.32,129.627 2284.34,129.137 2288.37,128.652 \n",
       "  2292.39,128.17 \n",
       "  \"/>\n",
       "<polyline clip-path=\"url(#clip112)\" style=\"stroke:#3da44d; stroke-linecap:round; stroke-linejoin:round; stroke-width:4; stroke-opacity:1; fill:none\" points=\"\n",
       "  280.231,1382.62 284.255,1381.49 288.28,1380.33 292.304,1379.14 296.328,1377.93 300.353,1376.69 304.377,1375.42 308.401,1374.13 312.426,1372.81 316.45,1371.47 \n",
       "  320.474,1370.1 324.499,1368.71 328.523,1367.29 332.547,1365.84 336.572,1364.38 340.596,1362.88 344.62,1361.37 348.645,1359.83 352.669,1358.26 356.693,1356.67 \n",
       "  360.717,1355.06 364.742,1353.43 368.766,1351.77 372.79,1350.1 376.815,1348.4 380.839,1346.67 384.863,1344.93 388.888,1343.16 392.912,1341.37 396.936,1339.57 \n",
       "  400.961,1337.73 404.985,1335.88 409.009,1334.01 413.034,1332.12 417.058,1330.2 421.082,1328.27 425.107,1326.31 429.131,1324.34 433.155,1322.34 437.18,1320.33 \n",
       "  441.204,1318.29 445.228,1316.24 449.253,1314.16 453.277,1312.06 457.301,1309.95 461.325,1307.81 465.35,1305.66 469.374,1303.49 473.398,1301.29 477.423,1299.08 \n",
       "  481.447,1296.85 485.471,1294.6 489.496,1292.33 493.52,1290.04 497.544,1287.73 501.569,1285.4 505.593,1283.05 509.617,1280.69 513.642,1278.3 517.666,1275.9 \n",
       "  521.69,1273.47 525.715,1271.03 529.739,1268.57 533.763,1266.09 537.788,1263.59 541.812,1261.08 545.836,1258.54 549.861,1255.99 553.885,1253.41 557.909,1250.82 \n",
       "  561.933,1248.21 565.958,1245.58 569.982,1242.93 574.006,1240.27 578.031,1237.58 582.055,1234.88 586.079,1232.16 590.104,1229.42 594.128,1226.66 598.152,1223.89 \n",
       "  602.177,1221.09 606.201,1218.28 610.225,1215.45 614.25,1212.6 618.274,1209.73 622.298,1206.85 626.323,1203.95 630.347,1201.03 634.371,1198.09 638.396,1195.14 \n",
       "  642.42,1192.16 646.444,1189.17 650.469,1186.16 654.493,1183.14 658.517,1180.09 662.541,1177.03 666.566,1173.96 670.59,1170.86 674.614,1167.75 678.639,1164.62 \n",
       "  682.663,1161.48 686.687,1158.31 690.712,1155.13 694.736,1151.94 698.76,1148.73 702.785,1145.5 706.809,1142.25 710.833,1138.99 714.858,1135.71 718.882,1132.42 \n",
       "  722.906,1129.11 726.931,1125.78 730.955,1122.44 734.979,1119.08 739.004,1115.71 743.028,1112.32 747.052,1108.91 751.077,1105.49 755.101,1102.06 759.125,1098.61 \n",
       "  763.149,1095.14 767.174,1091.66 771.198,1088.16 775.222,1084.65 779.247,1081.13 783.271,1077.59 787.295,1074.03 791.32,1070.46 795.344,1066.88 799.368,1063.28 \n",
       "  803.393,1059.67 807.417,1056.05 811.441,1052.41 815.466,1048.76 819.49,1045.09 823.514,1041.41 827.539,1037.72 831.563,1034.01 835.587,1030.29 839.612,1026.56 \n",
       "  843.636,1022.81 847.66,1019.06 851.685,1015.29 855.709,1011.5 859.733,1007.71 863.757,1003.9 867.782,1000.08 871.806,996.248 875.83,992.404 879.855,988.549 \n",
       "  883.879,984.681 887.903,980.802 891.928,976.912 895.952,973.011 899.976,969.098 904.001,965.174 908.025,961.24 912.049,957.294 916.074,953.339 920.098,949.372 \n",
       "  924.122,945.396 928.147,941.409 932.171,937.412 936.195,933.405 940.22,929.388 944.244,925.362 948.268,921.326 952.293,917.281 956.317,913.227 960.341,909.164 \n",
       "  964.365,905.091 968.39,901.011 972.414,896.921 976.438,892.823 980.463,888.717 984.487,884.603 988.511,880.481 992.536,876.351 996.56,872.214 1000.58,868.069 \n",
       "  1004.61,863.917 1008.63,859.758 1012.66,855.592 1016.68,851.42 1020.71,847.241 1024.73,843.055 1028.75,838.864 1032.78,834.666 1036.8,830.463 1040.83,826.255 \n",
       "  1044.85,822.041 1048.88,817.822 1052.9,813.598 1056.92,809.369 1060.95,805.136 1064.97,800.899 1069,796.658 1073.02,792.413 1077.05,788.164 1081.07,783.912 \n",
       "  1085.1,779.657 1089.12,775.4 1093.14,771.14 1097.17,766.877 1101.19,762.612 1105.22,758.346 1109.24,754.078 1113.27,749.809 1117.29,745.539 1121.31,741.269 \n",
       "  1125.34,736.998 1129.36,732.727 1133.39,728.456 1137.41,724.185 1141.44,719.916 1145.46,715.647 1149.48,711.38 1153.51,707.115 1157.53,702.851 1161.56,698.59 \n",
       "  1165.58,694.332 1169.61,690.077 1173.63,685.825 1177.65,681.577 1181.68,677.333 1185.7,673.094 1189.73,668.859 1193.75,664.629 1197.78,660.405 1201.8,656.187 \n",
       "  1205.82,651.975 1209.85,647.769 1213.87,643.57 1217.9,639.379 1221.92,635.195 1225.95,631.02 1229.97,626.853 1233.99,622.694 1238.02,618.545 1242.04,614.406 \n",
       "  1246.07,610.277 1250.09,606.157 1254.12,602.049 1258.14,597.952 1262.17,593.866 1266.19,589.793 1270.21,585.731 1274.24,581.683 1278.26,577.647 1282.29,573.625 \n",
       "  1286.31,569.617 1290.34,565.623 1294.36,561.644 1298.38,557.68 1302.41,553.731 1306.43,549.798 1310.46,545.881 1314.48,541.981 1318.51,538.098 1322.53,534.231 \n",
       "  1326.55,530.383 1330.58,526.552 1334.6,522.74 1338.63,518.947 1342.65,515.172 1346.68,511.417 1350.7,507.682 1354.72,503.966 1358.75,500.271 1362.77,496.597 \n",
       "  1366.8,492.943 1370.82,489.311 1374.85,485.7 1378.87,482.112 1382.89,478.545 1386.92,475.001 1390.94,471.479 1394.97,467.98 1398.99,464.505 1403.02,461.052 \n",
       "  1407.04,457.624 1411.07,454.219 1415.09,450.839 1419.11,447.482 1423.14,444.15 1427.16,440.843 1431.19,437.561 1435.21,434.303 1439.24,431.071 1443.26,427.865 \n",
       "  1447.28,424.683 1451.31,421.527 1455.33,418.398 1459.36,415.293 1463.38,412.215 1467.41,409.163 1471.43,406.137 1475.45,403.138 1479.48,400.164 1483.5,397.217 \n",
       "  1487.53,394.297 1491.55,391.403 1495.58,388.535 1499.6,385.694 1503.62,382.88 1507.65,380.092 1511.67,377.331 1515.7,374.597 1519.72,371.889 1523.75,369.207 \n",
       "  1527.77,366.552 1531.79,363.924 1535.82,361.322 1539.84,358.746 1543.87,356.197 1547.89,353.674 1551.92,351.177 1555.94,348.707 1559.96,346.262 1563.99,343.844 \n",
       "  1568.01,341.451 1572.04,339.084 1576.06,336.743 1580.09,334.427 1584.11,332.137 1588.14,329.872 1592.16,327.632 1596.18,325.417 1600.21,323.228 1604.23,321.063 \n",
       "  1608.26,318.922 1612.28,316.806 1616.31,314.715 1620.33,312.647 1624.35,310.604 1628.38,308.584 1632.4,306.589 1636.43,304.616 1640.45,302.667 1644.48,300.741 \n",
       "  1648.5,298.838 1652.52,296.958 1656.55,295.101 1660.57,293.266 1664.6,291.453 1668.62,289.662 1672.65,287.893 1676.67,286.145 1680.69,284.42 1684.72,282.715 \n",
       "  1688.74,281.031 1692.77,279.369 1696.79,277.727 1700.82,276.105 1704.84,274.504 1708.86,272.923 1712.89,271.362 1716.91,269.82 1720.94,268.298 1724.96,266.795 \n",
       "  1728.99,265.311 1733.01,263.846 1737.03,262.4 1741.06,260.972 1745.08,259.562 1749.11,258.171 1753.13,256.797 1757.16,255.441 1761.18,254.103 1765.21,252.781 \n",
       "  1769.23,251.477 1773.25,250.19 1777.28,248.919 1781.3,247.664 1785.33,246.426 1789.35,245.205 1793.38,243.999 1797.4,242.808 1801.42,241.633 1805.45,240.474 \n",
       "  1809.47,239.33 1813.5,238.2 1817.52,237.085 1821.55,235.985 1825.57,234.9 1829.59,233.828 1833.62,232.771 1837.64,231.727 1841.67,230.697 1845.69,229.681 \n",
       "  1849.72,228.678 1853.74,227.688 1857.76,226.711 1861.79,225.747 1865.81,224.796 1869.84,223.857 1873.86,222.931 1877.89,222.016 1881.91,221.114 1885.93,220.223 \n",
       "  1889.96,219.345 1893.98,218.477 1898.01,217.621 1902.03,216.777 1906.06,215.943 1910.08,215.121 1914.11,214.309 1918.13,213.508 1922.15,212.717 1926.18,211.937 \n",
       "  1930.2,211.167 1934.23,210.407 1938.25,209.657 1942.28,208.916 1946.3,208.186 1950.32,207.465 1954.35,206.753 1958.37,206.051 1962.4,205.358 1966.42,204.673 \n",
       "  1970.45,203.998 1974.47,203.332 1978.49,202.674 1982.52,202.025 1986.54,201.384 1990.57,200.752 1994.59,200.127 1998.62,199.511 2002.64,198.903 2006.66,198.302 \n",
       "  2010.69,197.71 2014.71,197.125 2018.74,196.547 2022.76,195.977 2026.79,195.415 2030.81,194.859 2034.83,194.311 2038.86,193.77 2042.88,193.235 2046.91,192.708 \n",
       "  2050.93,192.187 2054.96,191.673 2058.98,191.166 2063,190.664 2067.03,190.17 2071.05,189.681 2075.08,189.199 2079.1,188.723 2083.13,188.253 2087.15,187.789 \n",
       "  2091.18,187.33 2095.2,186.878 2099.22,186.431 2103.25,185.99 2107.27,185.554 2111.3,185.124 2115.32,184.699 2119.35,184.28 2123.37,183.866 2127.39,183.457 \n",
       "  2131.42,183.053 2135.44,182.654 2139.47,182.26 2143.49,181.871 2147.52,181.487 2151.54,181.107 2155.56,180.732 2159.59,180.362 2163.61,179.997 2167.64,179.635 \n",
       "  2171.66,179.279 2175.69,178.926 2179.71,178.579 2183.73,178.235 2187.76,177.895 2191.78,177.56 2195.81,177.229 2199.83,176.901 2203.86,176.578 2207.88,176.259 \n",
       "  2211.9,175.943 2215.93,175.631 2219.95,175.324 2223.98,175.019 2228,174.719 2232.03,174.422 2236.05,174.128 2240.07,173.839 2244.1,173.552 2248.12,173.269 \n",
       "  2252.15,172.989 2256.17,172.713 2260.2,172.44 2264.22,172.17 2268.25,171.904 2272.27,171.64 2276.29,171.38 2280.32,171.123 2284.34,170.869 2288.37,170.617 \n",
       "  2292.39,170.369 \n",
       "  \"/>\n",
       "<polyline clip-path=\"url(#clip112)\" style=\"stroke:#c271d2; stroke-linecap:round; stroke-linejoin:round; stroke-width:4; stroke-opacity:1; fill:none\" points=\"\n",
       "  280.231,1383.53 284.255,1382.44 288.28,1381.33 292.304,1380.18 296.328,1379.02 300.353,1377.82 304.377,1376.61 308.401,1375.36 312.426,1374.09 316.45,1372.8 \n",
       "  320.474,1371.48 324.499,1370.13 328.523,1368.76 332.547,1367.37 336.572,1365.95 340.596,1364.51 344.62,1363.04 348.645,1361.55 352.669,1360.04 356.693,1358.5 \n",
       "  360.717,1356.95 364.742,1355.36 368.766,1353.76 372.79,1352.13 376.815,1350.48 380.839,1348.81 384.863,1347.12 388.888,1345.4 392.912,1343.66 396.936,1341.9 \n",
       "  400.961,1340.12 404.985,1338.32 409.009,1336.49 413.034,1334.64 417.058,1332.78 421.082,1330.89 425.107,1328.98 429.131,1327.05 433.155,1325.09 437.18,1323.12 \n",
       "  441.204,1321.12 445.228,1319.11 449.253,1317.07 453.277,1315.02 457.301,1312.94 461.325,1310.84 465.35,1308.72 469.374,1306.58 473.398,1304.42 477.423,1302.24 \n",
       "  481.447,1300.04 485.471,1297.81 489.496,1295.57 493.52,1293.31 497.544,1291.02 501.569,1288.72 505.593,1286.39 509.617,1284.05 513.642,1281.68 517.666,1279.3 \n",
       "  521.69,1276.89 525.715,1274.47 529.739,1272.02 533.763,1269.56 537.788,1267.07 541.812,1264.56 545.836,1262.04 549.861,1259.49 553.885,1256.93 557.909,1254.34 \n",
       "  561.933,1251.74 565.958,1249.11 569.982,1246.47 574.006,1243.8 578.031,1241.12 582.055,1238.41 586.079,1235.69 590.104,1232.95 594.128,1230.19 598.152,1227.41 \n",
       "  602.177,1224.61 606.201,1221.79 610.225,1218.95 614.25,1216.1 618.274,1213.22 622.298,1210.33 626.323,1207.42 630.347,1204.49 634.371,1201.54 638.396,1198.57 \n",
       "  642.42,1195.58 646.444,1192.58 650.469,1189.56 654.493,1186.52 658.517,1183.46 662.541,1180.38 666.566,1177.29 670.59,1174.18 674.614,1171.05 678.639,1167.91 \n",
       "  682.663,1164.74 686.687,1161.56 690.712,1158.37 694.736,1155.15 698.76,1151.92 702.785,1148.67 706.809,1145.41 710.833,1142.13 714.858,1138.83 718.882,1135.52 \n",
       "  722.906,1132.19 726.931,1128.85 730.955,1125.49 734.979,1122.11 739.004,1118.72 743.028,1115.31 747.052,1111.89 751.077,1108.45 755.101,1104.99 759.125,1101.52 \n",
       "  763.149,1098.04 767.174,1094.54 771.198,1091.03 775.222,1087.5 779.247,1083.96 783.271,1080.4 787.295,1076.83 791.32,1073.25 795.344,1069.65 799.368,1066.03 \n",
       "  803.393,1062.41 807.417,1058.77 811.441,1055.11 815.466,1051.45 819.49,1047.77 823.514,1044.07 827.539,1040.37 831.563,1036.65 835.587,1032.91 839.612,1029.17 \n",
       "  843.636,1025.41 847.66,1021.64 851.685,1017.86 855.709,1014.06 859.733,1010.25 863.757,1006.43 867.782,1002.6 871.806,998.76 875.83,994.905 879.855,991.039 \n",
       "  883.879,987.161 887.903,983.272 891.928,979.371 895.952,975.46 899.976,971.537 904.001,967.603 908.025,963.659 912.049,959.704 916.074,955.739 920.098,951.763 \n",
       "  924.122,947.777 928.147,943.78 932.171,939.773 936.195,935.757 940.22,931.731 944.244,927.694 948.268,923.649 952.293,919.593 956.317,915.529 960.341,911.455 \n",
       "  964.365,907.372 968.39,903.28 972.414,899.179 976.438,895.069 980.463,890.951 984.487,886.824 988.511,882.689 992.536,878.545 996.56,874.393 1000.58,870.234 \n",
       "  1004.61,866.066 1008.63,861.891 1012.66,857.709 1016.68,853.518 1020.71,849.321 1024.73,845.117 1028.75,840.905 1032.78,836.687 1036.8,832.462 1040.83,828.23 \n",
       "  1044.85,823.992 1048.88,819.748 1052.9,815.498 1056.92,811.242 1060.95,806.981 1064.97,802.713 1069,798.441 1073.02,794.163 1077.05,789.881 1081.07,785.594 \n",
       "  1085.1,781.302 1089.12,777.006 1093.14,772.706 1097.17,768.401 1101.19,764.094 1105.22,759.782 1109.24,755.468 1113.27,751.15 1117.29,746.83 1121.31,742.507 \n",
       "  1125.34,738.182 1129.36,733.855 1133.39,729.526 1137.41,725.196 1141.44,720.864 1145.46,716.532 1149.48,712.199 1153.51,707.865 1157.53,703.532 1161.56,699.199 \n",
       "  1165.58,694.867 1169.61,690.535 1173.63,686.205 1177.65,681.877 1181.68,677.55 1185.7,673.226 1189.73,668.904 1193.75,664.586 1197.78,660.271 1201.8,655.96 \n",
       "  1205.82,651.653 1209.85,647.351 1213.87,643.054 1217.9,638.762 1221.92,634.476 1225.95,630.197 1229.97,625.924 1233.99,621.658 1238.02,617.4 1242.04,613.151 \n",
       "  1246.07,608.909 1250.09,604.677 1254.12,600.454 1258.14,596.242 1262.17,592.04 1266.19,587.848 1270.21,583.669 1274.24,579.501 1278.26,575.345 1282.29,571.203 \n",
       "  1286.31,567.074 1290.34,562.959 1294.36,558.859 1298.38,554.774 1302.41,550.704 1306.43,546.65 1310.46,542.613 1314.48,538.593 1318.51,534.591 1322.53,530.607 \n",
       "  1326.55,526.641 1330.58,522.695 1334.6,518.768 1338.63,514.861 1342.65,510.976 1346.68,507.111 1350.7,503.268 1354.72,499.447 1358.75,495.649 1362.77,491.874 \n",
       "  1366.8,488.122 1370.82,484.395 1374.85,480.692 1378.87,477.014 1382.89,473.362 1386.92,469.735 1390.94,466.134 1394.97,462.561 1398.99,459.014 1403.02,455.494 \n",
       "  1407.04,452.002 1411.07,448.539 1415.09,445.104 1419.11,441.697 1423.14,438.32 1427.16,434.972 1431.19,431.654 1435.21,428.366 1439.24,425.108 1443.26,421.881 \n",
       "  1447.28,418.684 1451.31,415.519 1455.33,412.384 1459.36,409.281 1463.38,406.209 1467.41,403.169 1471.43,400.161 1475.45,397.185 1479.48,394.241 1483.5,391.329 \n",
       "  1487.53,388.449 1491.55,385.601 1495.58,382.786 1499.6,380.003 1503.62,377.253 1507.65,374.535 1511.67,371.849 1515.7,369.196 1519.72,366.575 1523.75,363.986 \n",
       "  1527.77,361.43 1531.79,358.906 1535.82,356.414 1539.84,353.954 1543.87,351.525 1547.89,349.129 1551.92,346.764 1555.94,344.431 1559.96,342.129 1563.99,339.858 \n",
       "  1568.01,337.619 1572.04,335.41 1576.06,333.232 1580.09,331.084 1584.11,328.966 1588.14,326.879 1592.16,324.821 1596.18,322.793 1600.21,320.794 1604.23,318.824 \n",
       "  1608.26,316.883 1612.28,314.971 1616.31,313.087 1620.33,311.231 1624.35,309.403 1628.38,307.603 1632.4,305.829 1636.43,304.083 1640.45,302.363 1644.48,300.67 \n",
       "  1648.5,299.003 1652.52,297.362 1656.55,295.746 1660.57,294.155 1664.6,292.59 1668.62,291.049 1672.65,289.532 1676.67,288.039 1680.69,286.57 1684.72,285.125 \n",
       "  1688.74,283.702 1692.77,282.303 1696.79,280.926 1700.82,279.571 1704.84,278.238 1708.86,276.927 1712.89,275.637 1716.91,274.368 1720.94,273.119 1724.96,271.891 \n",
       "  1728.99,270.684 1733.01,269.496 1737.03,268.327 1741.06,267.178 1745.08,266.048 1749.11,264.937 1753.13,263.844 1757.16,262.769 1761.18,261.712 1765.21,260.672 \n",
       "  1769.23,259.65 1773.25,258.645 1777.28,257.656 1781.3,256.685 1785.33,255.729 1789.35,254.789 1793.38,253.865 1797.4,252.957 1801.42,252.063 1805.45,251.185 \n",
       "  1809.47,250.321 1813.5,249.472 1817.52,248.637 1821.55,247.816 1825.57,247.009 1829.59,246.216 1833.62,245.436 1837.64,244.668 1841.67,243.914 1845.69,243.173 \n",
       "  1849.72,242.443 1853.74,241.727 1857.76,241.022 1861.79,240.329 1865.81,239.647 1869.84,238.977 1873.86,238.318 1877.89,237.671 1881.91,237.034 1885.93,236.408 \n",
       "  1889.96,235.792 1893.98,235.186 1898.01,234.591 1902.03,234.006 1906.06,233.43 1910.08,232.864 1914.11,232.307 1918.13,231.76 1922.15,231.222 1926.18,230.692 \n",
       "  1930.2,230.172 1934.23,229.66 1938.25,229.157 1942.28,228.662 1946.3,228.175 1950.32,227.696 1954.35,227.225 1958.37,226.762 1962.4,226.306 1966.42,225.858 \n",
       "  1970.45,225.418 1974.47,224.984 1978.49,224.558 1982.52,224.139 1986.54,223.726 1990.57,223.321 1994.59,222.922 1998.62,222.529 2002.64,222.143 2006.66,221.763 \n",
       "  2010.69,221.389 2014.71,221.022 2018.74,220.66 2022.76,220.304 2026.79,219.954 2030.81,219.61 2034.83,219.271 2038.86,218.937 2042.88,218.609 2046.91,218.286 \n",
       "  2050.93,217.969 2054.96,217.656 2058.98,217.348 2063,217.046 2067.03,216.748 2071.05,216.455 2075.08,216.166 2079.1,215.882 2083.13,215.603 2087.15,215.328 \n",
       "  2091.18,215.057 2095.2,214.791 2099.22,214.528 2103.25,214.27 2107.27,214.016 2111.3,213.766 2115.32,213.52 2119.35,213.278 2123.37,213.039 2127.39,212.804 \n",
       "  2131.42,212.573 2135.44,212.345 2139.47,212.121 2143.49,211.9 2147.52,211.683 2151.54,211.469 2155.56,211.259 2159.59,211.051 2163.61,210.847 2167.64,210.646 \n",
       "  2171.66,210.448 2175.69,210.253 2179.71,210.061 2183.73,209.871 2187.76,209.685 2191.78,209.502 2195.81,209.321 2199.83,209.143 2203.86,208.968 2207.88,208.795 \n",
       "  2211.9,208.625 2215.93,208.457 2219.95,208.292 2223.98,208.13 2228,207.969 2232.03,207.812 2236.05,207.656 2240.07,207.503 2244.1,207.352 2248.12,207.203 \n",
       "  2252.15,207.057 2256.17,206.912 2260.2,206.77 2264.22,206.63 2268.25,206.492 2272.27,206.356 2276.29,206.222 2280.32,206.09 2284.34,205.959 2288.37,205.831 \n",
       "  2292.39,205.705 \n",
       "  \"/>\n",
       "<polyline clip-path=\"url(#clip112)\" style=\"stroke:#ac8d18; stroke-linecap:round; stroke-linejoin:round; stroke-width:4; stroke-opacity:1; fill:none\" points=\"\n",
       "  280.231,1384.13 284.255,1383.08 288.28,1381.98 292.304,1380.87 296.328,1379.74 300.353,1378.57 304.377,1377.38 308.401,1376.17 312.426,1374.93 316.45,1373.67 \n",
       "  320.474,1372.38 324.499,1371.06 328.523,1369.73 332.547,1368.36 336.572,1366.98 340.596,1365.57 344.62,1364.13 348.645,1362.67 352.669,1361.19 356.693,1359.69 \n",
       "  360.717,1358.16 364.742,1356.61 368.766,1355.04 372.79,1353.44 376.815,1351.82 380.839,1350.18 384.863,1348.51 388.888,1346.82 392.912,1345.11 396.936,1343.38 \n",
       "  400.961,1341.63 404.985,1339.85 409.009,1338.05 413.034,1336.23 417.058,1334.39 421.082,1332.52 425.107,1330.63 429.131,1328.72 433.155,1326.79 437.18,1324.84 \n",
       "  441.204,1322.86 445.228,1320.87 449.253,1318.85 453.277,1316.81 457.301,1314.75 461.325,1312.66 465.35,1310.56 469.374,1308.43 473.398,1306.28 477.423,1304.11 \n",
       "  481.447,1301.92 485.471,1299.71 489.496,1297.47 493.52,1295.22 497.544,1292.94 501.569,1290.64 505.593,1288.33 509.617,1285.99 513.642,1283.62 517.666,1281.24 \n",
       "  521.69,1278.84 525.715,1276.41 529.739,1273.97 533.763,1271.5 537.788,1269.02 541.812,1266.51 545.836,1263.98 549.861,1261.43 553.885,1258.86 557.909,1256.27 \n",
       "  561.933,1253.66 565.958,1251.03 569.982,1248.38 574.006,1245.71 578.031,1243.02 582.055,1240.32 586.079,1237.59 590.104,1234.84 594.128,1232.07 598.152,1229.28 \n",
       "  602.177,1226.47 606.201,1223.65 610.225,1220.8 614.25,1217.94 618.274,1215.05 622.298,1212.15 626.323,1209.23 630.347,1206.29 634.371,1203.33 638.396,1200.36 \n",
       "  642.42,1197.36 646.444,1194.35 650.469,1191.32 654.493,1188.27 658.517,1185.21 662.541,1182.12 666.566,1179.02 670.59,1175.91 674.614,1172.77 678.639,1169.62 \n",
       "  682.663,1166.45 686.687,1163.26 690.712,1160.06 694.736,1156.84 698.76,1153.61 702.785,1150.35 706.809,1147.09 710.833,1143.8 714.858,1140.5 718.882,1137.19 \n",
       "  722.906,1133.85 726.931,1130.51 730.955,1127.15 734.979,1123.77 739.004,1120.37 743.028,1116.97 747.052,1113.54 751.077,1110.11 755.101,1106.65 759.125,1103.19 \n",
       "  763.149,1099.7 767.174,1096.21 771.198,1092.7 775.222,1089.17 779.247,1085.64 783.271,1082.08 787.295,1078.52 791.32,1074.94 795.344,1071.34 799.368,1067.74 \n",
       "  803.393,1064.12 807.417,1060.48 811.441,1056.84 815.466,1053.18 819.49,1049.51 823.514,1045.82 827.539,1042.13 831.563,1038.42 835.587,1034.69 839.612,1030.96 \n",
       "  843.636,1027.21 847.66,1023.45 851.685,1019.68 855.709,1015.9 859.733,1012.1 863.757,1008.3 867.782,1004.48 871.806,1000.65 875.83,996.807 879.855,992.955 \n",
       "  883.879,989.091 887.903,985.216 891.928,981.331 895.952,977.434 899.976,973.527 904.001,969.609 908.025,965.68 912.049,961.741 916.074,957.791 920.098,953.831 \n",
       "  924.122,949.861 928.147,945.88 932.171,941.89 936.195,937.89 940.22,933.88 944.244,929.86 948.268,925.831 952.293,921.792 956.317,917.743 960.341,913.686 \n",
       "  964.365,909.619 968.39,905.543 972.414,901.458 976.438,897.364 980.463,893.261 984.487,889.149 988.511,885.029 992.536,880.9 996.56,876.763 1000.58,872.618 \n",
       "  1004.61,868.464 1008.63,864.303 1012.66,860.133 1016.68,855.955 1020.71,851.77 1024.73,847.577 1028.75,843.377 1032.78,839.169 1036.8,834.954 1040.83,830.732 \n",
       "  1044.85,826.502 1048.88,822.266 1052.9,818.023 1056.92,813.774 1060.95,809.518 1064.97,805.255 1069,800.986 1073.02,796.712 1077.05,792.431 1081.07,788.144 \n",
       "  1085.1,783.852 1089.12,779.555 1093.14,775.252 1097.17,770.944 1101.19,766.631 1105.22,762.313 1109.24,757.991 1113.27,753.664 1117.29,749.333 1121.31,744.998 \n",
       "  1125.34,740.659 1129.36,736.317 1133.39,731.971 1137.41,727.623 1141.44,723.271 1145.46,718.916 1149.48,714.56 1153.51,710.201 1157.53,705.84 1161.56,701.478 \n",
       "  1165.58,697.114 1169.61,692.749 1173.63,688.384 1177.65,684.018 1181.68,679.652 1185.7,675.286 1189.73,670.921 1193.75,666.557 1197.78,662.194 1201.8,657.832 \n",
       "  1205.82,653.473 1209.85,649.116 1213.87,644.762 1217.9,640.412 1221.92,636.065 1225.95,631.722 1229.97,627.383 1233.99,623.05 1238.02,618.723 1242.04,614.401 \n",
       "  1246.07,610.086 1250.09,605.778 1254.12,601.477 1258.14,597.185 1262.17,592.901 1266.19,588.626 1270.21,584.361 1274.24,580.107 1278.26,575.863 1282.29,571.631 \n",
       "  1286.31,567.411 1290.34,563.204 1294.36,559.01 1298.38,554.83 1302.41,550.665 1306.43,546.515 1310.46,542.381 1314.48,538.264 1318.51,534.164 1322.53,530.081 \n",
       "  1326.55,526.018 1330.58,521.973 1334.6,517.949 1338.63,513.945 1342.65,509.963 1346.68,506.002 1350.7,502.065 1354.72,498.15 1358.75,494.26 1362.77,490.394 \n",
       "  1366.8,486.553 1370.82,482.738 1374.85,478.95 1378.87,475.19 1382.89,471.457 1386.92,467.752 1390.94,464.077 1394.97,460.431 1398.99,456.815 1403.02,453.23 \n",
       "  1407.04,449.677 1411.07,446.155 1415.09,442.666 1419.11,439.21 1423.14,435.786 1427.16,432.397 1431.19,429.042 1435.21,425.721 1439.24,422.436 1443.26,419.185 \n",
       "  1447.28,415.971 1451.31,412.793 1455.33,409.65 1459.36,406.545 1463.38,403.476 1467.41,400.445 1471.43,397.451 1475.45,394.494 1479.48,391.575 1483.5,388.694 \n",
       "  1487.53,385.851 1491.55,383.046 1495.58,380.279 1499.6,377.55 1503.62,374.859 1507.65,372.206 1511.67,369.591 1515.7,367.015 1519.72,364.476 1523.75,361.976 \n",
       "  1527.77,359.513 1531.79,357.088 1535.82,354.7 1539.84,352.35 1543.87,350.037 1547.89,347.761 1551.92,345.522 1555.94,343.319 1559.96,341.152 1563.99,339.022 \n",
       "  1568.01,336.927 1572.04,334.868 1576.06,332.844 1580.09,330.854 1584.11,328.9 1588.14,326.979 1592.16,325.092 1596.18,323.239 1600.21,321.419 1604.23,319.631 \n",
       "  1608.26,317.876 1612.28,316.153 1616.31,314.462 1620.33,312.801 1624.35,311.172 1628.38,309.572 1632.4,308.003 1636.43,306.463 1640.45,304.953 1644.48,303.471 \n",
       "  1648.5,302.017 1652.52,300.591 1656.55,299.193 1660.57,297.822 1664.6,296.477 1668.62,295.159 1672.65,293.866 1676.67,292.599 1680.69,291.356 1684.72,290.138 \n",
       "  1688.74,288.944 1692.77,287.774 1696.79,286.627 1700.82,285.503 1704.84,284.402 1708.86,283.322 1712.89,282.265 1716.91,281.228 1720.94,280.212 1724.96,279.217 \n",
       "  1728.99,278.242 1733.01,277.287 1737.03,276.351 1741.06,275.434 1745.08,274.536 1749.11,273.656 1753.13,272.793 1757.16,271.949 1761.18,271.122 1765.21,270.311 \n",
       "  1769.23,269.517 1773.25,268.74 1777.28,267.978 1781.3,267.232 1785.33,266.501 1789.35,265.785 1793.38,265.084 1797.4,264.398 1801.42,263.725 1805.45,263.066 \n",
       "  1809.47,262.421 1813.5,261.788 1817.52,261.169 1821.55,260.563 1825.57,259.969 1829.59,259.387 1833.62,258.817 1837.64,258.258 1841.67,257.711 1845.69,257.176 \n",
       "  1849.72,256.651 1853.74,256.137 1857.76,255.633 1861.79,255.14 1865.81,254.657 1869.84,254.183 1873.86,253.719 1877.89,253.265 1881.91,252.82 1885.93,252.384 \n",
       "  1889.96,251.957 1893.98,251.538 1898.01,251.128 1902.03,250.726 1906.06,250.332 1910.08,249.947 1914.11,249.569 1918.13,249.198 1922.15,248.835 1926.18,248.48 \n",
       "  1930.2,248.131 1934.23,247.79 1938.25,247.455 1942.28,247.127 1946.3,246.805 1950.32,246.49 1954.35,246.182 1958.37,245.879 1962.4,245.582 1966.42,245.291 \n",
       "  1970.45,245.006 1974.47,244.727 1978.49,244.453 1982.52,244.185 1986.54,243.921 1990.57,243.663 1994.59,243.41 1998.62,243.162 2002.64,242.919 2006.66,242.681 \n",
       "  2010.69,242.447 2014.71,242.218 2018.74,241.993 2022.76,241.772 2026.79,241.556 2030.81,241.344 2034.83,241.136 2038.86,240.932 2042.88,240.732 2046.91,240.536 \n",
       "  2050.93,240.344 2054.96,240.155 2058.98,239.97 2063,239.788 2067.03,239.61 2071.05,239.435 2075.08,239.264 2079.1,239.095 2083.13,238.93 2087.15,238.768 \n",
       "  2091.18,238.609 2095.2,238.453 2099.22,238.3 2103.25,238.15 2107.27,238.003 2111.3,237.858 2115.32,237.716 2119.35,237.577 2123.37,237.44 2127.39,237.306 \n",
       "  2131.42,237.175 2135.44,237.045 2139.47,236.918 2143.49,236.794 2147.52,236.672 2151.54,236.552 2155.56,236.434 2159.59,236.318 2163.61,236.204 2167.64,236.093 \n",
       "  2171.66,235.983 2175.69,235.876 2179.71,235.77 2183.73,235.666 2187.76,235.565 2191.78,235.465 2195.81,235.366 2199.83,235.27 2203.86,235.175 2207.88,235.082 \n",
       "  2211.9,234.991 2215.93,234.901 2219.95,234.813 2223.98,234.726 2228,234.641 2232.03,234.557 2236.05,234.475 2240.07,234.394 2244.1,234.315 2248.12,234.237 \n",
       "  2252.15,234.161 2256.17,234.085 2260.2,234.011 2264.22,233.939 2268.25,233.867 2272.27,233.797 2276.29,233.728 2280.32,233.66 2284.34,233.594 2288.37,233.528 \n",
       "  2292.39,233.464 \n",
       "  \"/>\n",
       "<polyline clip-path=\"url(#clip112)\" style=\"stroke:#00a9ad; stroke-linecap:round; stroke-linejoin:round; stroke-width:4; stroke-opacity:1; fill:none\" points=\"\n",
       "  280.231,1384.24 284.255,1383.41 288.28,1382.45 292.304,1381.46 296.328,1380.27 300.353,1379.13 304.377,1377.88 308.401,1376.73 312.426,1375.52 316.45,1374.33 \n",
       "  320.474,1372.98 324.499,1371.73 328.523,1370.41 332.547,1369.06 336.572,1367.7 340.596,1366.3 344.62,1364.89 348.645,1363.45 352.669,1361.99 356.693,1360.51 \n",
       "  360.717,1359 364.742,1357.47 368.766,1355.91 372.79,1354.33 376.815,1352.73 380.839,1351.11 384.863,1349.46 388.888,1347.79 392.912,1346.1 396.936,1344.38 \n",
       "  400.961,1342.64 404.985,1340.88 409.009,1339.09 413.034,1337.28 417.058,1335.45 421.082,1333.6 425.107,1331.72 429.131,1329.82 433.155,1327.9 437.18,1325.96 \n",
       "  441.204,1323.99 445.228,1322 449.253,1319.99 453.277,1317.96 457.301,1315.9 461.325,1313.83 465.35,1311.73 469.374,1309.6 473.398,1307.46 477.423,1305.29 \n",
       "  481.447,1303.1 485.471,1300.89 489.496,1298.66 493.52,1296.4 497.544,1294.13 501.569,1291.83 505.593,1289.51 509.617,1287.17 513.642,1284.8 517.666,1282.42 \n",
       "  521.69,1280.01 525.715,1277.59 529.739,1275.14 533.763,1272.67 537.788,1270.18 541.812,1267.67 545.836,1265.14 549.861,1262.58 553.885,1260.01 557.909,1257.42 \n",
       "  561.933,1254.8 565.958,1252.17 569.982,1249.51 574.006,1246.84 578.031,1244.14 582.055,1241.43 586.079,1238.7 590.104,1235.94 594.128,1233.17 598.152,1230.38 \n",
       "  602.177,1227.57 606.201,1224.74 610.225,1221.89 614.25,1219.02 618.274,1216.13 622.298,1213.23 626.323,1210.31 630.347,1207.37 634.371,1204.41 638.396,1201.43 \n",
       "  642.42,1198.43 646.444,1195.42 650.469,1192.39 654.493,1189.34 658.517,1186.28 662.541,1183.2 666.566,1180.1 670.59,1176.98 674.614,1173.85 678.639,1170.7 \n",
       "  682.663,1167.54 686.687,1164.35 690.712,1161.15 694.736,1157.94 698.76,1154.71 702.785,1151.46 706.809,1148.2 710.833,1144.92 714.858,1141.63 718.882,1138.32 \n",
       "  722.906,1135 726.931,1131.66 730.955,1128.31 734.979,1124.94 739.004,1121.56 743.028,1118.16 747.052,1114.75 751.077,1111.32 755.101,1107.88 759.125,1104.42 \n",
       "  763.149,1100.96 767.174,1097.47 771.198,1093.98 775.222,1090.46 779.247,1086.94 783.271,1083.4 787.295,1079.85 791.32,1076.29 795.344,1072.71 799.368,1069.12 \n",
       "  803.393,1065.52 807.417,1061.9 811.441,1058.27 815.466,1054.63 819.49,1050.97 823.514,1047.31 827.539,1043.63 831.563,1039.94 835.587,1036.23 839.612,1032.52 \n",
       "  843.636,1028.79 847.66,1025.05 851.685,1021.3 855.709,1017.53 859.733,1013.76 863.757,1009.97 867.782,1006.18 871.806,1002.37 875.83,998.546 879.855,994.715 \n",
       "  883.879,990.872 887.903,987.019 891.928,983.154 895.952,979.279 899.976,975.393 904.001,971.497 908.025,967.589 912.049,963.672 916.074,959.744 920.098,955.806 \n",
       "  924.122,951.858 928.147,947.899 932.171,943.931 936.195,939.952 940.22,935.964 944.244,931.966 948.268,927.959 952.293,923.942 956.317,919.915 960.341,915.879 \n",
       "  964.365,911.833 968.39,907.779 972.414,903.715 976.438,899.642 980.463,895.56 984.487,891.47 988.511,887.37 992.536,883.262 996.56,879.145 1000.58,875.02 \n",
       "  1004.61,870.886 1008.63,866.744 1012.66,862.593 1016.68,858.435 1020.71,854.268 1024.73,850.094 1028.75,845.911 1032.78,841.721 1036.8,837.523 1040.83,833.317 \n",
       "  1044.85,829.104 1048.88,824.884 1052.9,820.656 1056.92,816.422 1060.95,812.18 1064.97,807.931 1069,803.675 1073.02,799.413 1077.05,795.144 1081.07,790.868 \n",
       "  1085.1,786.587 1089.12,782.299 1093.14,778.005 1097.17,773.705 1101.19,769.399 1105.22,765.087 1109.24,760.77 1113.27,756.448 1117.29,752.12 1121.31,747.787 \n",
       "  1125.34,743.45 1129.36,739.107 1133.39,734.76 1137.41,730.409 1141.44,726.054 1145.46,721.695 1149.48,717.331 1153.51,712.965 1157.53,708.595 1161.56,704.222 \n",
       "  1165.58,699.846 1169.61,695.467 1173.63,691.086 1177.65,686.703 1181.68,682.319 1185.7,677.932 1189.73,673.545 1193.75,669.156 1197.78,664.767 1201.8,660.378 \n",
       "  1205.82,655.989 1209.85,651.6 1213.87,647.212 1217.9,642.826 1221.92,638.441 1225.95,634.058 1229.97,629.677 1233.99,625.3 1238.02,620.925 1242.04,616.555 \n",
       "  1246.07,612.189 1250.09,607.828 1254.12,603.472 1258.14,599.123 1262.17,594.78 1266.19,590.444 1270.21,586.115 1274.24,581.795 1278.26,577.484 1282.29,573.183 \n",
       "  1286.31,568.892 1290.34,564.612 1294.36,560.343 1298.38,556.087 1302.41,551.844 1306.43,547.615 1310.46,543.4 1314.48,539.201 1318.51,535.018 1322.53,530.852 \n",
       "  1326.55,526.704 1330.58,522.574 1334.6,518.464 1338.63,514.374 1342.65,510.306 1346.68,506.259 1350.7,502.235 1354.72,498.235 1358.75,494.259 1362.77,490.309 \n",
       "  1366.8,486.385 1370.82,482.488 1374.85,478.619 1378.87,474.779 1382.89,470.968 1386.92,467.188 1390.94,463.439 1394.97,459.722 1398.99,456.039 1403.02,452.388 \n",
       "  1407.04,448.773 1411.07,445.192 1415.09,441.647 1419.11,438.139 1423.14,434.667 1427.16,431.234 1431.19,427.839 1435.21,424.483 1439.24,421.166 1443.26,417.89 \n",
       "  1447.28,414.654 1451.31,411.459 1455.33,408.306 1459.36,405.194 1463.38,402.125 1467.41,399.098 1471.43,396.114 1475.45,393.173 1479.48,390.276 1483.5,387.422 \n",
       "  1487.53,384.611 1491.55,381.844 1495.58,379.121 1499.6,376.442 1503.62,373.807 1507.65,371.215 1511.67,368.668 1515.7,366.164 1519.72,363.703 1523.75,361.286 \n",
       "  1527.77,358.912 1531.79,356.582 1535.82,354.294 1539.84,352.048 1543.87,349.845 1547.89,347.684 1551.92,345.564 1555.94,343.486 1559.96,341.449 1563.99,339.452 \n",
       "  1568.01,337.495 1572.04,335.577 1576.06,333.699 1580.09,331.86 1584.11,330.059 1588.14,328.295 1592.16,326.569 1596.18,324.88 1600.21,323.226 1604.23,321.609 \n",
       "  1608.26,320.026 1612.28,318.478 1616.31,316.965 1620.33,315.484 1624.35,314.037 1628.38,312.622 1632.4,311.239 1636.43,309.887 1640.45,308.566 1644.48,307.275 \n",
       "  1648.5,306.014 1652.52,304.781 1656.55,303.577 1660.57,302.401 1664.6,301.252 1668.62,300.131 1672.65,299.035 1676.67,297.965 1680.69,296.92 1684.72,295.9 \n",
       "  1688.74,294.904 1692.77,293.932 1696.79,292.983 1700.82,292.057 1704.84,291.152 1708.86,290.27 1712.89,289.408 1716.91,288.567 1720.94,287.746 1724.96,286.945 \n",
       "  1728.99,286.164 1733.01,285.401 1737.03,284.657 1741.06,283.93 1745.08,283.221 1749.11,282.53 1753.13,281.855 1757.16,281.196 1761.18,280.554 1765.21,279.927 \n",
       "  1769.23,279.315 1773.25,278.718 1777.28,278.135 1781.3,277.567 1785.33,277.012 1789.35,276.471 1793.38,275.943 1797.4,275.428 1801.42,274.925 1805.45,274.435 \n",
       "  1809.47,273.956 1813.5,273.489 1817.52,273.033 1821.55,272.588 1825.57,272.154 1829.59,271.731 1833.62,271.318 1837.64,270.914 1841.67,270.521 1845.69,270.136 \n",
       "  1849.72,269.761 1853.74,269.395 1857.76,269.038 1861.79,268.69 1865.81,268.349 1869.84,268.017 1873.86,267.693 1877.89,267.377 1881.91,267.068 1885.93,266.766 \n",
       "  1889.96,266.472 1893.98,266.184 1898.01,265.904 1902.03,265.63 1906.06,265.362 1910.08,265.101 1914.11,264.846 1918.13,264.597 1922.15,264.354 1926.18,264.116 \n",
       "  1930.2,263.884 1934.23,263.658 1938.25,263.436 1942.28,263.22 1946.3,263.009 1950.32,262.803 1954.35,262.602 1958.37,262.405 1962.4,262.213 1966.42,262.025 \n",
       "  1970.45,261.842 1974.47,261.663 1978.49,261.488 1982.52,261.316 1986.54,261.149 1990.57,260.986 1994.59,260.826 1998.62,260.67 2002.64,260.518 2006.66,260.369 \n",
       "  2010.69,260.223 2014.71,260.081 2018.74,259.942 2022.76,259.806 2026.79,259.673 2030.81,259.543 2034.83,259.416 2038.86,259.292 2042.88,259.17 2046.91,259.051 \n",
       "  2050.93,258.935 2054.96,258.822 2058.98,258.711 2063,258.602 2067.03,258.496 2071.05,258.392 2075.08,258.29 2079.1,258.191 2083.13,258.094 2087.15,257.999 \n",
       "  2091.18,257.906 2095.2,257.815 2099.22,257.726 2103.25,257.639 2107.27,257.553 2111.3,257.47 2115.32,257.388 2119.35,257.308 2123.37,257.23 2127.39,257.154 \n",
       "  2131.42,257.079 2135.44,257.006 2139.47,256.934 2143.49,256.864 2147.52,256.795 2151.54,256.728 2155.56,256.662 2159.59,256.598 2163.61,256.535 2167.64,256.473 \n",
       "  2171.66,256.412 2175.69,256.353 2179.71,256.295 2183.73,256.238 2187.76,256.183 2191.78,256.128 2195.81,256.075 2199.83,256.023 2203.86,255.972 2207.88,255.921 \n",
       "  2211.9,255.872 2215.93,255.824 2219.95,255.777 2223.98,255.731 2228,255.686 2232.03,255.642 2236.05,255.598 2240.07,255.556 2244.1,255.514 2248.12,255.473 \n",
       "  2252.15,255.433 2256.17,255.394 2260.2,255.356 2264.22,255.318 2268.25,255.281 2272.27,255.245 2276.29,255.209 2280.32,255.175 2284.34,255.14 2288.37,255.107 \n",
       "  2292.39,255.074 \n",
       "  \"/>\n",
       "<path clip-path=\"url(#clip110)\" d=\"\n",
       "M290.963 455.989 L568.01 455.989 L568.01 93.1086 L290.963 93.1086  Z\n",
       "  \" fill=\"#ffffff\" fill-rule=\"evenodd\" fill-opacity=\"1\"/>\n",
       "<polyline clip-path=\"url(#clip110)\" style=\"stroke:#000000; stroke-linecap:round; stroke-linejoin:round; stroke-width:4; stroke-opacity:1; fill:none\" points=\"\n",
       "  290.963,455.989 568.01,455.989 568.01,93.1086 290.963,93.1086 290.963,455.989 \n",
       "  \"/>\n",
       "<polyline clip-path=\"url(#clip110)\" style=\"stroke:#009af9; stroke-linecap:round; stroke-linejoin:round; stroke-width:4; stroke-opacity:1; fill:none\" points=\"\n",
       "  314.661,144.949 456.854,144.949 \n",
       "  \"/>\n",
       "<path clip-path=\"url(#clip110)\" d=\"M500.087 130.082 Q500.087 131.324 499.267 132.12 Q498.471 132.916 497.44 132.916 Q496.55 132.916 496.082 132.401 Q495.613 131.886 495.613 131.23 Q495.613 130.293 496.34 129.52 Q497.066 128.747 498.12 128.583 Q497.347 128.021 496.105 128.021 Q494.068 128.021 492.264 129.59 Q491.468 130.316 490.601 131.651 Q489.734 132.963 489.57 133.525 L488.048 139.779 Q487.907 140.482 487.041 143.855 Q486.198 147.204 486.127 147.344 Q485.893 148 485.378 148.352 Q484.863 148.703 484.347 148.703 Q483.762 148.703 483.363 148.352 Q482.965 148 482.965 147.391 Q482.965 147.298 483.036 146.946 Q483.106 146.595 483.223 146.103 Q483.34 145.611 483.387 145.33 L486.174 134.251 Q486.689 132.237 486.807 131.605 Q486.947 130.949 486.947 130.223 Q486.947 128.958 486.549 128.489 Q486.151 128.021 485.448 128.021 Q484.23 128.021 483.434 129.473 Q482.637 130.925 481.958 133.736 Q481.747 134.509 481.607 134.673 Q481.49 134.837 481.138 134.837 Q480.553 134.813 480.553 134.345 Q480.553 134.228 480.74 133.478 Q480.928 132.705 481.279 131.581 Q481.654 130.433 482.052 129.707 Q482.286 129.215 482.497 128.888 Q482.708 128.56 483.129 128.044 Q483.551 127.529 484.183 127.248 Q484.816 126.967 485.589 126.967 Q487.275 126.967 488.47 127.998 Q489.688 129.028 489.969 130.644 Q490.554 129.801 491.28 129.075 Q492.006 128.325 493.341 127.646 Q494.677 126.967 496.105 126.967 Q497.885 126.967 498.986 127.88 Q500.087 128.77 500.087 130.082 Z\" fill=\"#000000\" fill-rule=\"evenodd\" fill-opacity=\"1\" /><path clip-path=\"url(#clip110)\" d=\"M505.001 161.985 Q505.001 161.378 505.05 161.198 Q505.116 161.017 505.378 160.738 L511.822 153.557 Q515.347 149.589 515.347 146.13 Q515.347 143.884 514.166 142.277 Q513.002 140.67 510.854 140.67 Q509.379 140.67 508.132 141.572 Q506.886 142.474 506.313 144.08 Q506.411 144.048 506.755 144.048 Q507.591 144.048 508.051 144.572 Q508.526 145.097 508.526 145.802 Q508.526 146.704 507.936 147.146 Q507.362 147.573 506.788 147.573 Q506.558 147.573 506.247 147.524 Q505.952 147.474 505.476 147.015 Q505.001 146.54 505.001 145.704 Q505.001 143.359 506.772 141.49 Q508.559 139.621 511.28 139.621 Q514.363 139.621 516.38 141.457 Q518.413 143.277 518.413 146.13 Q518.413 147.13 518.101 148.048 Q517.806 148.95 517.396 149.655 Q517.003 150.36 515.92 151.491 Q514.838 152.623 513.969 153.426 Q513.1 154.229 511.149 155.935 L507.591 159.394 L513.641 159.394 Q516.593 159.394 516.822 159.132 Q517.15 158.656 517.56 156.148 L518.413 156.148 L517.462 161.985 L505.001 161.985 Z\" fill=\"#000000\" fill-rule=\"evenodd\" fill-opacity=\"1\" /><path clip-path=\"url(#clip110)\" d=\"M521.76 157.459 Q521.76 156.459 522.334 155.984 Q522.908 155.508 523.646 155.508 Q524.416 155.508 524.957 156.017 Q525.515 156.508 525.515 157.377 Q525.515 158.312 524.859 158.837 Q524.22 159.361 523.301 159.23 Q524.105 160.575 525.581 161.181 Q527.073 161.788 528.45 161.788 Q529.893 161.788 531.057 160.542 Q532.237 159.296 532.237 156.246 Q532.237 153.656 531.221 152.164 Q530.22 150.672 528.237 150.672 L526.761 150.672 Q526.253 150.672 526.105 150.622 Q525.958 150.573 525.958 150.294 Q525.958 149.967 526.466 149.901 Q526.974 149.901 527.778 149.803 Q529.729 149.737 530.762 148.048 Q531.696 146.474 531.696 144.228 Q531.696 142.179 530.712 141.326 Q529.745 140.457 528.483 140.457 Q527.302 140.457 526.007 140.949 Q524.712 141.441 524.007 142.539 Q526.089 142.539 526.089 144.228 Q526.089 144.966 525.613 145.458 Q525.154 145.933 524.384 145.933 Q523.646 145.933 523.154 145.474 Q522.662 144.999 522.662 144.195 Q522.662 142.277 524.367 140.949 Q526.089 139.621 528.614 139.621 Q531.106 139.621 532.942 140.932 Q534.795 142.244 534.795 144.261 Q534.795 146.245 533.483 147.868 Q532.172 149.491 530.089 150.163 Q532.647 150.672 534.172 152.409 Q535.697 154.131 535.697 156.246 Q535.697 158.869 533.631 160.804 Q531.565 162.722 528.548 162.722 Q525.761 162.722 523.761 161.214 Q521.76 159.706 521.76 157.459 Z\" fill=\"#000000\" fill-rule=\"evenodd\" fill-opacity=\"1\" /><polyline clip-path=\"url(#clip110)\" style=\"stroke:#e26f46; stroke-linecap:round; stroke-linejoin:round; stroke-width:4; stroke-opacity:1; fill:none\" points=\"\n",
       "  314.661,196.789 456.854,196.789 \n",
       "  \"/>\n",
       "<path clip-path=\"url(#clip110)\" d=\"M500.087 181.811 Q500.087 183.052 499.267 183.848 Q498.471 184.645 497.44 184.645 Q496.55 184.645 496.082 184.129 Q495.613 183.614 495.613 182.958 Q495.613 182.021 496.34 181.248 Q497.066 180.475 498.12 180.312 Q497.347 179.749 496.105 179.749 Q494.068 179.749 492.264 181.319 Q491.468 182.045 490.601 183.38 Q489.734 184.692 489.57 185.254 L488.048 191.507 Q487.907 192.21 487.041 195.583 Q486.198 198.932 486.127 199.073 Q485.893 199.729 485.378 200.08 Q484.863 200.431 484.347 200.431 Q483.762 200.431 483.363 200.08 Q482.965 199.729 482.965 199.12 Q482.965 199.026 483.036 198.675 Q483.106 198.323 483.223 197.832 Q483.34 197.34 483.387 197.059 L486.174 185.98 Q486.689 183.965 486.807 183.333 Q486.947 182.677 486.947 181.951 Q486.947 180.686 486.549 180.218 Q486.151 179.749 485.448 179.749 Q484.23 179.749 483.434 181.202 Q482.637 182.654 481.958 185.464 Q481.747 186.237 481.607 186.401 Q481.49 186.565 481.138 186.565 Q480.553 186.542 480.553 186.073 Q480.553 185.956 480.74 185.207 Q480.928 184.434 481.279 183.31 Q481.654 182.162 482.052 181.436 Q482.286 180.944 482.497 180.616 Q482.708 180.288 483.129 179.773 Q483.551 179.258 484.183 178.976 Q484.816 178.695 485.589 178.695 Q487.275 178.695 488.47 179.726 Q489.688 180.757 489.969 182.373 Q490.554 181.529 491.28 180.803 Q492.006 180.054 493.341 179.375 Q494.677 178.695 496.105 178.695 Q497.885 178.695 498.986 179.609 Q500.087 180.499 500.087 181.811 Z\" fill=\"#000000\" fill-rule=\"evenodd\" fill-opacity=\"1\" /><path clip-path=\"url(#clip110)\" d=\"M505.001 209.411 Q505.001 208.411 505.575 207.935 Q506.149 207.46 506.886 207.46 Q507.657 207.46 508.198 207.968 Q508.756 208.46 508.756 209.329 Q508.756 210.263 508.1 210.788 Q507.46 211.313 506.542 211.182 Q507.345 212.526 508.821 213.133 Q510.313 213.739 511.69 213.739 Q513.133 213.739 514.297 212.493 Q515.478 211.247 515.478 208.198 Q515.478 205.607 514.461 204.115 Q513.461 202.623 511.477 202.623 L510.002 202.623 Q509.493 202.623 509.346 202.574 Q509.198 202.525 509.198 202.246 Q509.198 201.918 509.706 201.852 Q510.215 201.852 511.018 201.754 Q512.969 201.689 514.002 200 Q514.937 198.426 514.937 196.18 Q514.937 194.13 513.953 193.278 Q512.986 192.409 511.723 192.409 Q510.543 192.409 509.247 192.9 Q507.952 193.392 507.247 194.491 Q509.329 194.491 509.329 196.18 Q509.329 196.917 508.854 197.409 Q508.395 197.885 507.624 197.885 Q506.886 197.885 506.395 197.426 Q505.903 196.95 505.903 196.147 Q505.903 194.228 507.608 192.9 Q509.329 191.572 511.854 191.572 Q514.346 191.572 516.183 192.884 Q518.035 194.196 518.035 196.212 Q518.035 198.196 516.724 199.819 Q515.412 201.443 513.33 202.115 Q515.888 202.623 517.412 204.361 Q518.937 206.083 518.937 208.198 Q518.937 210.821 516.871 212.756 Q514.806 214.674 511.789 214.674 Q509.001 214.674 507.001 213.166 Q505.001 211.657 505.001 209.411 Z\" fill=\"#000000\" fill-rule=\"evenodd\" fill-opacity=\"1\" /><path clip-path=\"url(#clip110)\" d=\"M519.601 208.394 L519.601 207.361 L529.914 191.605 Q530.176 191.195 530.586 191.212 Q530.963 191.212 531.045 191.359 Q531.127 191.507 531.127 192.081 L531.127 207.361 L534.488 207.361 L534.488 208.394 L531.127 208.394 L531.127 211.313 Q531.127 212.28 531.52 212.592 Q531.93 212.903 533.668 212.903 L534.373 212.903 L534.373 213.936 Q532.996 213.838 529.815 213.838 Q526.651 213.838 525.274 213.936 L525.274 212.903 L525.979 212.903 Q527.717 212.903 528.127 212.608 Q528.536 212.297 528.536 211.313 L528.536 208.394 L519.601 208.394 M520.552 207.361 L528.733 207.361 L528.733 194.835 L520.552 207.361 Z\" fill=\"#000000\" fill-rule=\"evenodd\" fill-opacity=\"1\" /><polyline clip-path=\"url(#clip110)\" style=\"stroke:#3da44d; stroke-linecap:round; stroke-linejoin:round; stroke-width:4; stroke-opacity:1; fill:none\" points=\"\n",
       "  314.661,248.629 456.854,248.629 \n",
       "  \"/>\n",
       "<path clip-path=\"url(#clip110)\" d=\"M500.087 233.651 Q500.087 234.892 499.267 235.688 Q498.471 236.485 497.44 236.485 Q496.55 236.485 496.082 235.969 Q495.613 235.454 495.613 234.798 Q495.613 233.861 496.34 233.088 Q497.066 232.315 498.12 232.152 Q497.347 231.589 496.105 231.589 Q494.068 231.589 492.264 233.159 Q491.468 233.885 490.601 235.22 Q489.734 236.532 489.57 237.094 L488.048 243.347 Q487.907 244.05 487.041 247.423 Q486.198 250.772 486.127 250.913 Q485.893 251.569 485.378 251.92 Q484.863 252.271 484.347 252.271 Q483.762 252.271 483.363 251.92 Q482.965 251.569 482.965 250.96 Q482.965 250.866 483.036 250.515 Q483.106 250.163 483.223 249.672 Q483.34 249.18 483.387 248.899 L486.174 237.82 Q486.689 235.805 486.807 235.173 Q486.947 234.517 486.947 233.791 Q486.947 232.526 486.549 232.058 Q486.151 231.589 485.448 231.589 Q484.23 231.589 483.434 233.042 Q482.637 234.494 481.958 237.304 Q481.747 238.077 481.607 238.241 Q481.49 238.405 481.138 238.405 Q480.553 238.382 480.553 237.913 Q480.553 237.796 480.74 237.047 Q480.928 236.274 481.279 235.15 Q481.654 234.002 482.052 233.276 Q482.286 232.784 482.497 232.456 Q482.708 232.128 483.129 231.613 Q483.551 231.098 484.183 230.816 Q484.816 230.535 485.589 230.535 Q487.275 230.535 488.47 231.566 Q489.688 232.597 489.969 234.213 Q490.554 233.369 491.28 232.643 Q492.006 231.894 493.341 231.215 Q494.677 230.535 496.105 230.535 Q497.885 230.535 498.986 231.449 Q500.087 232.339 500.087 233.651 Z\" fill=\"#000000\" fill-rule=\"evenodd\" fill-opacity=\"1\" /><path clip-path=\"url(#clip110)\" d=\"M505.001 260.234 L505.001 259.201 L515.314 243.445 Q515.576 243.035 515.986 243.052 Q516.363 243.052 516.445 243.199 Q516.527 243.347 516.527 243.921 L516.527 259.201 L519.888 259.201 L519.888 260.234 L516.527 260.234 L516.527 263.153 Q516.527 264.12 516.921 264.432 Q517.33 264.743 519.068 264.743 L519.773 264.743 L519.773 265.776 Q518.396 265.678 515.215 265.678 Q512.051 265.678 510.674 265.776 L510.674 264.743 L511.379 264.743 Q513.117 264.743 513.527 264.448 Q513.937 264.137 513.937 263.153 L513.937 260.234 L505.001 260.234 M505.952 259.201 L514.133 259.201 L514.133 246.675 L505.952 259.201 Z\" fill=\"#000000\" fill-rule=\"evenodd\" fill-opacity=\"1\" /><path clip-path=\"url(#clip110)\" d=\"M522.567 260.366 Q522.567 259.365 523.108 258.988 Q523.649 258.595 524.223 258.595 Q524.993 258.595 525.436 259.087 Q525.895 259.562 525.895 260.234 Q525.895 260.907 525.436 261.398 Q524.993 261.874 524.223 261.874 Q523.846 261.874 523.649 261.808 Q524.092 263.35 525.436 264.464 Q526.797 265.579 528.584 265.579 Q530.83 265.579 532.175 263.399 Q532.978 261.989 532.978 258.792 Q532.978 255.971 532.371 254.561 Q531.437 252.414 529.518 252.414 Q526.797 252.414 525.19 254.758 Q524.993 255.053 524.764 255.07 Q524.436 255.07 524.354 254.889 Q524.288 254.693 524.288 254.184 L524.288 244.249 Q524.288 243.445 524.616 243.445 Q524.747 243.445 525.026 243.544 Q527.141 244.478 529.486 244.494 Q531.896 244.494 534.06 243.511 Q534.224 243.412 534.322 243.412 Q534.65 243.412 534.667 243.789 Q534.667 243.921 534.388 244.314 Q534.126 244.691 533.552 245.2 Q532.978 245.691 532.24 246.167 Q531.502 246.642 530.42 246.97 Q529.355 247.282 528.174 247.282 Q526.764 247.282 525.321 246.839 L525.321 253.381 Q527.059 251.676 529.584 251.676 Q532.273 251.676 534.126 253.84 Q535.978 256.004 535.978 259.021 Q535.978 262.185 533.781 264.35 Q531.601 266.514 528.65 266.514 Q525.961 266.514 524.255 264.596 Q522.567 262.677 522.567 260.366 Z\" fill=\"#000000\" fill-rule=\"evenodd\" fill-opacity=\"1\" /><polyline clip-path=\"url(#clip110)\" style=\"stroke:#c271d2; stroke-linecap:round; stroke-linejoin:round; stroke-width:4; stroke-opacity:1; fill:none\" points=\"\n",
       "  314.661,300.469 456.854,300.469 \n",
       "  \"/>\n",
       "<path clip-path=\"url(#clip110)\" d=\"M500.087 285.602 Q500.087 286.844 499.267 287.64 Q498.471 288.436 497.44 288.436 Q496.55 288.436 496.082 287.921 Q495.613 287.406 495.613 286.75 Q495.613 285.813 496.34 285.04 Q497.066 284.267 498.12 284.103 Q497.347 283.541 496.105 283.541 Q494.068 283.541 492.264 285.11 Q491.468 285.836 490.601 287.171 Q489.734 288.483 489.57 289.045 L488.048 295.299 Q487.907 296.002 487.041 299.375 Q486.198 302.724 486.127 302.864 Q485.893 303.52 485.378 303.872 Q484.863 304.223 484.347 304.223 Q483.762 304.223 483.363 303.872 Q482.965 303.52 482.965 302.911 Q482.965 302.818 483.036 302.466 Q483.106 302.115 483.223 301.623 Q483.34 301.131 483.387 300.85 L486.174 289.771 Q486.689 287.757 486.807 287.125 Q486.947 286.469 486.947 285.743 Q486.947 284.478 486.549 284.009 Q486.151 283.541 485.448 283.541 Q484.23 283.541 483.434 284.993 Q482.637 286.445 481.958 289.256 Q481.747 290.029 481.607 290.193 Q481.49 290.357 481.138 290.357 Q480.553 290.333 480.553 289.865 Q480.553 289.748 480.74 288.998 Q480.928 288.225 481.279 287.101 Q481.654 285.953 482.052 285.227 Q482.286 284.735 482.497 284.408 Q482.708 284.08 483.129 283.564 Q483.551 283.049 484.183 282.768 Q484.816 282.487 485.589 282.487 Q487.275 282.487 488.47 283.518 Q489.688 284.548 489.969 286.164 Q490.554 285.321 491.28 284.595 Q492.006 283.845 493.341 283.166 Q494.677 282.487 496.105 282.487 Q497.885 282.487 498.986 283.4 Q500.087 284.29 500.087 285.602 Z\" fill=\"#000000\" fill-rule=\"evenodd\" fill-opacity=\"1\" /><path clip-path=\"url(#clip110)\" d=\"M505.001 312.094 Q505.001 311.094 505.542 310.717 Q506.083 310.323 506.657 310.323 Q507.427 310.323 507.87 310.815 Q508.329 311.291 508.329 311.963 Q508.329 312.635 507.87 313.127 Q507.427 313.602 506.657 313.602 Q506.28 313.602 506.083 313.537 Q506.526 315.078 507.87 316.193 Q509.231 317.308 511.018 317.308 Q513.264 317.308 514.609 315.127 Q515.412 313.717 515.412 310.52 Q515.412 307.7 514.806 306.29 Q513.871 304.142 511.953 304.142 Q509.231 304.142 507.624 306.487 Q507.427 306.782 507.198 306.798 Q506.87 306.798 506.788 306.618 Q506.722 306.421 506.722 305.913 L506.722 295.977 Q506.722 295.174 507.05 295.174 Q507.182 295.174 507.46 295.272 Q509.575 296.207 511.92 296.223 Q514.33 296.223 516.494 295.239 Q516.658 295.141 516.757 295.141 Q517.085 295.141 517.101 295.518 Q517.101 295.649 516.822 296.043 Q516.56 296.42 515.986 296.928 Q515.412 297.42 514.674 297.895 Q513.937 298.371 512.854 298.699 Q511.789 299.01 510.608 299.01 Q509.198 299.01 507.755 298.568 L507.755 305.109 Q509.493 303.404 512.018 303.404 Q514.707 303.404 516.56 305.568 Q518.413 307.733 518.413 310.75 Q518.413 313.914 516.216 316.078 Q514.035 318.242 511.084 318.242 Q508.395 318.242 506.69 316.324 Q505.001 314.406 505.001 312.094 Z\" fill=\"#000000\" fill-rule=\"evenodd\" fill-opacity=\"1\" /><path clip-path=\"url(#clip110)\" d=\"M521.76 306.897 Q521.76 301.617 524.449 298.387 Q527.138 295.141 530.598 295.141 Q532.614 295.141 533.729 296.174 Q534.86 297.19 534.86 298.764 Q534.86 299.633 534.352 300.01 Q533.844 300.387 533.319 300.387 Q532.713 300.387 532.237 299.978 Q531.762 299.568 531.762 298.83 Q531.762 297.321 533.614 297.321 Q532.745 295.977 530.663 295.977 Q530.024 295.977 529.368 296.174 Q528.712 296.354 527.86 296.977 Q527.007 297.6 526.351 298.584 Q525.695 299.568 525.236 301.42 Q524.777 303.273 524.777 305.683 L524.777 306.487 Q526.154 303.158 528.974 303.175 Q531.794 303.175 533.746 305.323 Q535.697 307.47 535.697 310.651 Q535.697 313.914 533.664 316.078 Q531.631 318.242 528.778 318.242 Q527.499 318.242 526.335 317.701 Q525.187 317.177 524.105 315.963 Q523.039 314.75 522.4 312.422 Q521.76 310.094 521.76 306.897 M524.843 309.913 Q524.843 313.209 525.449 314.783 Q525.548 315.045 525.761 315.406 Q525.99 315.767 526.367 316.242 Q526.761 316.701 527.4 317.013 Q528.04 317.308 528.778 317.308 Q531.024 317.308 532.106 315.127 Q532.68 313.914 532.68 310.618 Q532.68 307.257 532.073 306.028 Q531.04 303.945 528.942 303.945 Q527.532 303.945 526.548 304.913 Q525.581 305.88 525.203 307.175 Q524.843 308.471 524.843 309.913 Z\" fill=\"#000000\" fill-rule=\"evenodd\" fill-opacity=\"1\" /><polyline clip-path=\"url(#clip110)\" style=\"stroke:#ac8d18; stroke-linecap:round; stroke-linejoin:round; stroke-width:4; stroke-opacity:1; fill:none\" points=\"\n",
       "  314.661,352.309 456.854,352.309 \n",
       "  \"/>\n",
       "<path clip-path=\"url(#clip110)\" d=\"M500.087 337.347 Q500.087 338.588 499.267 339.385 Q498.471 340.181 497.44 340.181 Q496.55 340.181 496.082 339.666 Q495.613 339.15 495.613 338.495 Q495.613 337.558 496.34 336.785 Q497.066 336.012 498.12 335.848 Q497.347 335.286 496.105 335.286 Q494.068 335.286 492.264 336.855 Q491.468 337.581 490.601 338.916 Q489.734 340.228 489.57 340.79 L488.048 347.044 Q487.907 347.747 487.041 351.119 Q486.198 354.469 486.127 354.609 Q485.893 355.265 485.378 355.616 Q484.863 355.968 484.347 355.968 Q483.762 355.968 483.363 355.616 Q482.965 355.265 482.965 354.656 Q482.965 354.562 483.036 354.211 Q483.106 353.86 483.223 353.368 Q483.34 352.876 483.387 352.595 L486.174 341.516 Q486.689 339.502 486.807 338.869 Q486.947 338.214 486.947 337.487 Q486.947 336.223 486.549 335.754 Q486.151 335.286 485.448 335.286 Q484.23 335.286 483.434 336.738 Q482.637 338.19 481.958 341.001 Q481.747 341.774 481.607 341.938 Q481.49 342.102 481.138 342.102 Q480.553 342.078 480.553 341.61 Q480.553 341.493 480.74 340.743 Q480.928 339.97 481.279 338.846 Q481.654 337.698 482.052 336.972 Q482.286 336.48 482.497 336.152 Q482.708 335.825 483.129 335.309 Q483.551 334.794 484.183 334.513 Q484.816 334.232 485.589 334.232 Q487.275 334.232 488.47 335.262 Q489.688 336.293 489.969 337.909 Q490.554 337.066 491.28 336.34 Q492.006 335.59 493.341 334.911 Q494.677 334.232 496.105 334.232 Q497.885 334.232 498.986 335.145 Q500.087 336.035 500.087 337.347 Z\" fill=\"#000000\" fill-rule=\"evenodd\" fill-opacity=\"1\" /><path clip-path=\"url(#clip110)\" d=\"M505.001 358.832 Q505.001 353.552 507.69 350.322 Q510.379 347.076 513.838 347.076 Q515.855 347.076 516.97 348.109 Q518.101 349.125 518.101 350.699 Q518.101 351.568 517.593 351.945 Q517.085 352.323 516.56 352.323 Q515.953 352.323 515.478 351.913 Q515.002 351.503 515.002 350.765 Q515.002 349.257 516.855 349.257 Q515.986 347.912 513.904 347.912 Q513.264 347.912 512.609 348.109 Q511.953 348.289 511.1 348.912 Q510.248 349.535 509.592 350.519 Q508.936 351.503 508.477 353.356 Q508.018 355.208 508.018 357.618 L508.018 358.422 Q509.395 355.093 512.215 355.11 Q515.035 355.11 516.986 357.258 Q518.937 359.406 518.937 362.586 Q518.937 365.849 516.904 368.013 Q514.871 370.178 512.018 370.178 Q510.739 370.178 509.575 369.636 Q508.428 369.112 507.345 367.899 Q506.28 366.685 505.64 364.357 Q505.001 362.029 505.001 358.832 M508.083 361.848 Q508.083 365.144 508.69 366.718 Q508.788 366.98 509.001 367.341 Q509.231 367.702 509.608 368.177 Q510.002 368.636 510.641 368.948 Q511.28 369.243 512.018 369.243 Q514.264 369.243 515.347 367.062 Q515.92 365.849 515.92 362.554 Q515.92 359.192 515.314 357.963 Q514.281 355.88 512.182 355.88 Q510.772 355.88 509.788 356.848 Q508.821 357.815 508.444 359.11 Q508.083 360.406 508.083 361.848 Z\" fill=\"#000000\" fill-rule=\"evenodd\" fill-opacity=\"1\" /><path clip-path=\"url(#clip110)\" d=\"M521.032 353.651 L522.131 346.748 L522.967 346.748 Q523.065 347.158 523.229 347.338 Q523.41 347.519 524.361 347.666 Q525.328 347.814 527.279 347.814 L535.428 347.814 Q535.428 348.584 535.133 348.994 L530.591 355.372 Q529.148 357.389 528.509 361.111 Q528.132 363.603 528.148 366.62 L528.148 368.325 Q528.148 370.178 526.59 370.178 Q525.049 370.178 525.049 368.325 Q525.049 361.914 529.181 355.7 Q529.624 355.061 531.247 352.782 Q532.886 350.503 532.952 350.404 L526 350.404 Q522.951 350.404 522.705 350.601 Q522.377 350.896 521.868 353.651 L521.032 353.651 Z\" fill=\"#000000\" fill-rule=\"evenodd\" fill-opacity=\"1\" /><polyline clip-path=\"url(#clip110)\" style=\"stroke:#00a9ad; stroke-linecap:round; stroke-linejoin:round; stroke-width:4; stroke-opacity:1; fill:none\" points=\"\n",
       "  314.661,404.149 456.854,404.149 \n",
       "  \"/>\n",
       "<path clip-path=\"url(#clip110)\" d=\"M500.087 389.187 Q500.087 390.428 499.267 391.225 Q498.471 392.021 497.44 392.021 Q496.55 392.021 496.082 391.506 Q495.613 390.99 495.613 390.335 Q495.613 389.398 496.34 388.625 Q497.066 387.852 498.12 387.688 Q497.347 387.126 496.105 387.126 Q494.068 387.126 492.264 388.695 Q491.468 389.421 490.601 390.756 Q489.734 392.068 489.57 392.63 L488.048 398.884 Q487.907 399.587 487.041 402.959 Q486.198 406.309 486.127 406.449 Q485.893 407.105 485.378 407.456 Q484.863 407.808 484.347 407.808 Q483.762 407.808 483.363 407.456 Q482.965 407.105 482.965 406.496 Q482.965 406.402 483.036 406.051 Q483.106 405.7 483.223 405.208 Q483.34 404.716 483.387 404.435 L486.174 393.356 Q486.689 391.342 486.807 390.709 Q486.947 390.054 486.947 389.327 Q486.947 388.063 486.549 387.594 Q486.151 387.126 485.448 387.126 Q484.23 387.126 483.434 388.578 Q482.637 390.03 481.958 392.841 Q481.747 393.614 481.607 393.778 Q481.49 393.942 481.138 393.942 Q480.553 393.918 480.553 393.45 Q480.553 393.333 480.74 392.583 Q480.928 391.81 481.279 390.686 Q481.654 389.538 482.052 388.812 Q482.286 388.32 482.497 387.992 Q482.708 387.665 483.129 387.149 Q483.551 386.634 484.183 386.353 Q484.816 386.072 485.589 386.072 Q487.275 386.072 488.47 387.102 Q489.688 388.133 489.969 389.749 Q490.554 388.906 491.28 388.18 Q492.006 387.43 493.341 386.751 Q494.677 386.072 496.105 386.072 Q497.885 386.072 498.986 386.985 Q500.087 387.875 500.087 389.187 Z\" fill=\"#000000\" fill-rule=\"evenodd\" fill-opacity=\"1\" /><path clip-path=\"url(#clip110)\" d=\"M505.001 405.491 L506.099 398.588 L506.936 398.588 Q507.034 398.998 507.198 399.178 Q507.378 399.359 508.329 399.506 Q509.297 399.654 511.248 399.654 L519.396 399.654 Q519.396 400.424 519.101 400.834 L514.56 407.212 Q513.117 409.229 512.477 412.951 Q512.1 415.443 512.117 418.46 L512.117 420.165 Q512.117 422.018 510.559 422.018 Q509.018 422.018 509.018 420.165 Q509.018 413.754 513.15 407.54 Q513.592 406.901 515.215 404.622 Q516.855 402.343 516.921 402.244 L509.969 402.244 Q506.919 402.244 506.673 402.441 Q506.345 402.736 505.837 405.491 L505.001 405.491 Z\" fill=\"#000000\" fill-rule=\"evenodd\" fill-opacity=\"1\" /><path clip-path=\"url(#clip110)\" d=\"M518.813 416.213 Q518.813 412.459 523.65 410.032 Q521.568 408.622 521.191 408.212 Q519.715 406.573 519.715 404.523 Q519.715 402.179 521.486 400.556 Q523.273 398.916 525.798 398.916 Q528.208 398.916 530.028 400.31 Q531.848 401.703 531.848 403.917 Q531.848 407.032 527.782 409.13 Q530.471 410.803 531.11 411.508 Q532.75 413.328 532.75 415.64 Q532.75 418.328 530.684 420.181 Q528.618 422.018 525.765 422.018 Q522.978 422.018 520.896 420.394 Q518.813 418.771 518.813 416.213 M520.486 416.213 Q520.486 418.296 522.043 419.689 Q523.617 421.083 525.798 421.083 Q527.913 421.083 529.487 419.87 Q531.077 418.656 531.077 416.853 Q531.077 416.148 530.831 415.541 Q530.602 414.935 530.126 414.459 Q529.667 413.967 529.372 413.754 Q529.093 413.525 528.552 413.147 L524.421 410.541 Q520.486 412.721 520.486 416.213 M521.191 403.212 Q521.191 404.818 522.879 405.933 L527.044 408.622 Q530.372 406.671 530.372 403.917 Q530.372 402.13 529.011 400.949 Q527.651 399.752 525.765 399.752 Q523.912 399.752 522.552 400.736 Q521.191 401.703 521.191 403.212 Z\" fill=\"#000000\" fill-rule=\"evenodd\" fill-opacity=\"1\" /></svg>\n"
      ]
     },
     "metadata": {},
     "output_type": "display_data"
    },
    {
     "data": {
      "text/plain": [
       "\"/home/data/shared-data/transfer-matrix/corr-len-output/corl-tmp-long_8_0.5_0.006.png\""
      ]
     },
     "execution_count": 42,
     "metadata": {},
     "output_type": "execute_result"
    }
   ],
   "source": [
    "p = plot(dpi=600)\n",
    "xlabel!(p, \"T\")\n",
    "ylabel!(p, \"correlation length ratio\")\n",
    "for i in 2:Int(temp_range.MaxSpins[1]-1)\n",
    "    plot!(p, temp_range.temp, temp_range[!,\"r$i$(i+1)\"], label=latexstring(\"\\$r_{$(i), $(i+1)}\\$\"))\n",
    "end\n",
    "display(p)\n",
    "savefig(p, \"corr-len-output/corl-tmp-long_$(MAX_SPINS_CHAIN)_$(TEMP0)_$(TEMP_INC).png\") "
   ]
  },
  {
   "cell_type": "code",
   "execution_count": null,
   "id": "e8776626",
   "metadata": {
    "scrolled": true
   },
   "outputs": [],
   "source": []
  }
 ],
 "metadata": {
  "kernelspec": {
   "display_name": "Julia 1.8.1",
   "language": "julia",
   "name": "julia-1.8"
  },
  "language_info": {
   "file_extension": ".jl",
   "mimetype": "application/julia",
   "name": "julia",
   "version": "1.8.1"
  }
 },
 "nbformat": 4,
 "nbformat_minor": 5
}
