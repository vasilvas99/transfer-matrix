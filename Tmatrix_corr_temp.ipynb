{
 "cells": [
  {
   "cell_type": "code",
   "execution_count": 1,
   "id": "7db12b85",
   "metadata": {
    "scrolled": true
   },
   "outputs": [],
   "source": [
    "# Parameters for final calculation. Can be re-defined in a later cell\n",
    "MAX_SPINS_CHAIN = 13;\n",
    "TEMP0 = 2.0;\n",
    "TEMP_INC = 0.025;\n",
    "MAX_ITER = 40;"
   ]
  },
  {
   "cell_type": "code",
   "execution_count": 2,
   "id": "fe8ef83a",
   "metadata": {
    "scrolled": true
   },
   "outputs": [
    {
     "name": "stderr",
     "output_type": "stream",
     "text": [
      "\u001b[32m\u001b[1m    Updating\u001b[22m\u001b[39m registry at `C:\\Users\\Vasil\\.julia\\registries\\General`\n",
      "\u001b[32m\u001b[1m    Updating\u001b[22m\u001b[39m git-repo `https://github.com/JuliaRegistries/General.git`\n",
      "\u001b[32m\u001b[1m   Resolving\u001b[22m\u001b[39m package versions...\n",
      "\u001b[32m\u001b[1m  No Changes\u001b[22m\u001b[39m to `C:\\Users\\Vasil\\.julia\\environments\\v1.6\\Project.toml`\n",
      "\u001b[32m\u001b[1m  No Changes\u001b[22m\u001b[39m to `C:\\Users\\Vasil\\.julia\\environments\\v1.6\\Manifest.toml`\n",
      "\u001b[32m\u001b[1m   Resolving\u001b[22m\u001b[39m package versions...\n",
      "\u001b[32m\u001b[1m  No Changes\u001b[22m\u001b[39m to `C:\\Users\\Vasil\\.julia\\environments\\v1.6\\Project.toml`\n",
      "\u001b[32m\u001b[1m  No Changes\u001b[22m\u001b[39m to `C:\\Users\\Vasil\\.julia\\environments\\v1.6\\Manifest.toml`\n",
      "\u001b[32m\u001b[1m   Resolving\u001b[22m\u001b[39m package versions...\n",
      "\u001b[32m\u001b[1m  No Changes\u001b[22m\u001b[39m to `C:\\Users\\Vasil\\.julia\\environments\\v1.6\\Project.toml`\n",
      "\u001b[32m\u001b[1m  No Changes\u001b[22m\u001b[39m to `C:\\Users\\Vasil\\.julia\\environments\\v1.6\\Manifest.toml`\n",
      "\u001b[32m\u001b[1m   Resolving\u001b[22m\u001b[39m package versions...\n",
      "\u001b[32m\u001b[1m  No Changes\u001b[22m\u001b[39m to `C:\\Users\\Vasil\\.julia\\environments\\v1.6\\Project.toml`\n",
      "\u001b[32m\u001b[1m  No Changes\u001b[22m\u001b[39m to `C:\\Users\\Vasil\\.julia\\environments\\v1.6\\Manifest.toml`\n",
      "\u001b[32m\u001b[1m   Resolving\u001b[22m\u001b[39m package versions...\n",
      "\u001b[32m\u001b[1m  No Changes\u001b[22m\u001b[39m to `C:\\Users\\Vasil\\.julia\\environments\\v1.6\\Project.toml`\n",
      "\u001b[32m\u001b[1m  No Changes\u001b[22m\u001b[39m to `C:\\Users\\Vasil\\.julia\\environments\\v1.6\\Manifest.toml`\n",
      "\n",
      "(process:2688): GLib-GIO-WARNING **: 14:58:25.655: Unexpectedly, UWP app `BluskySoftwareInc.AudiotonicPro_2.0.4.0_x86__61yk12x6sxn40' (AUMId `BluskySoftwareInc.AudiotonicPro_61yk12x6sxn40!audacity') supports 49 extensions but has no verbs\n"
     ]
    },
    {
     "data": {
      "text/plain": [
       "true"
      ]
     },
     "execution_count": 2,
     "metadata": {},
     "output_type": "execute_result"
    }
   ],
   "source": [
    "if !@isdefined(PACKAGES)\n",
    "    using Pkg;\n",
    "    Pkg.add(\"Arpack\");\n",
    "    Pkg.add(\"CSV\");\n",
    "    Pkg.add(\"DataFrames\");\n",
    "    Pkg.add(\"Plots\");\n",
    "    Pkg.add(\"LaTeXStrings\");\n",
    "    using CSV;\n",
    "    using DataFrames;\n",
    "    using LinearAlgebra;\n",
    "    using Arpack;\n",
    "    using Plots;\n",
    "    using LaTeXStrings;\n",
    "    using Distributed;\n",
    "    PACKAGES = true;\n",
    "end"
   ]
  },
  {
   "cell_type": "code",
   "execution_count": 3,
   "id": "4f6d6cd2",
   "metadata": {
    "scrolled": true
   },
   "outputs": [
    {
     "data": {
      "text/plain": [
       "spin_state (generic function with 1 method)"
      ]
     },
     "execution_count": 3,
     "metadata": {},
     "output_type": "execute_result"
    }
   ],
   "source": [
    "function spin_state(num_spins, chain_configuration, spin_number)\n",
    "    if spin_number > num_spins\n",
    "         throw(DomainError(spin_number, \"Spin number should be <= num_spins\"))\n",
    "    end\n",
    "    spin_number -= 1 # start counting of bits from 1\n",
    "    mask = 1 << spin_number\n",
    "    state = chain_configuration & mask\n",
    "    return state != 0 ? 1 : -1\n",
    "end"
   ]
  },
  {
   "cell_type": "code",
   "execution_count": 4,
   "id": "fbf1c3d0",
   "metadata": {
    "scrolled": true
   },
   "outputs": [
    {
     "data": {
      "text/plain": [
       "inter_chain_contribution (generic function with 1 method)"
      ]
     },
     "execution_count": 4,
     "metadata": {},
     "output_type": "execute_result"
    }
   ],
   "source": [
    "function inter_chain_contribution(num_spins, ch1, ch2)\n",
    "    hij = 0\n",
    "    for i in 1:num_spins\n",
    "        hij += spin_state(num_spins, ch1, i)*spin_state(num_spins, ch2, i)\n",
    "    end\n",
    "    return hij\n",
    "end"
   ]
  },
  {
   "cell_type": "code",
   "execution_count": 5,
   "id": "12d0004f",
   "metadata": {
    "scrolled": true
   },
   "outputs": [
    {
     "data": {
      "text/plain": [
       "chain_contribution (generic function with 1 method)"
      ]
     },
     "execution_count": 5,
     "metadata": {},
     "output_type": "execute_result"
    }
   ],
   "source": [
    "function chain_contribution(num_spins, chain_conf)\n",
    "    hij = 0\n",
    "    for i in 1:num_spins\n",
    "        hij += (spin_state(num_spins, chain_conf, i)\n",
    "        *spin_state(num_spins, chain_conf, i%num_spins + 1))\n",
    "    end\n",
    "    return hij\n",
    "end"
   ]
  },
  {
   "cell_type": "code",
   "execution_count": 6,
   "id": "f20d8c35",
   "metadata": {
    "scrolled": true
   },
   "outputs": [
    {
     "data": {
      "text/plain": [
       "hamiltonian (generic function with 1 method)"
      ]
     },
     "execution_count": 6,
     "metadata": {},
     "output_type": "execute_result"
    }
   ],
   "source": [
    "function hamiltonian(n, ch1, ch2, jnn)\n",
    "    hij = (\n",
    "        0.5*jnn*chain_contribution(n, ch1)\n",
    "        + 0.5*jnn*chain_contribution(n, ch2)\n",
    "        + jnn*inter_chain_contribution(n, ch1, ch2)\n",
    "    )\n",
    "    return hij\n",
    "end"
   ]
  },
  {
   "cell_type": "code",
   "execution_count": 7,
   "id": "520e27e1",
   "metadata": {
    "scrolled": true
   },
   "outputs": [
    {
     "data": {
      "text/plain": [
       "tm_element (generic function with 1 method)"
      ]
     },
     "execution_count": 7,
     "metadata": {},
     "output_type": "execute_result"
    }
   ],
   "source": [
    "function tm_element(n, ch1, ch2, jnn, temp)\n",
    "    return exp(-hamiltonian(n, ch1, ch2, jnn)/temp)\n",
    "end"
   ]
  },
  {
   "cell_type": "code",
   "execution_count": 8,
   "id": "b3a76b4d",
   "metadata": {
    "scrolled": false
   },
   "outputs": [
    {
     "data": {
      "text/plain": [
       "tm_n (generic function with 1 method)"
      ]
     },
     "execution_count": 8,
     "metadata": {},
     "output_type": "execute_result"
    }
   ],
   "source": [
    "function tm_n(n, temp)\n",
    "    n_states = 2^n\n",
    "    jnn = -1\n",
    "    \n",
    "    # fastest way to calculate a matrix in Julia is with a list-comprehension\n",
    "    tm_block = [tm_element(n, ch1, ch2, jnn, temp) for ch1 = 1:n_states, ch2 = 1:n_states]\n",
    "    \n",
    "    return tm_block\n",
    "end"
   ]
  },
  {
   "cell_type": "code",
   "execution_count": 9,
   "id": "e0b27e07",
   "metadata": {
    "scrolled": true
   },
   "outputs": [
    {
     "data": {
      "text/plain": [
       "corr_len (generic function with 1 method)"
      ]
     },
     "execution_count": 9,
     "metadata": {},
     "output_type": "execute_result"
    }
   ],
   "source": [
    "function corr_len(n_spins, temp)\n",
    "    tm_block = tm_n(n_spins, temp)\n",
    "    if n_spins > 2\n",
    "        # Arnoldi iteration can't find the smallest eigenvalue (only the n_states-1 largest),\n",
    "        # thus if n = 1, and n_states = 2 => the second eigenvalue won't be found\n",
    "        # ref: https://en.wikipedia.org/wiki/Arnoldi_iteration#Finding_eigenvalues_with_the_Arnoldi_iteration\n",
    "        eig_val, eig_vec = eigs(tm_block, nev=2); # first and second largest eigenvalues\n",
    "        cln = 1.0/(log(eig_val[1]/abs(eig_val[2])))\n",
    "    else\n",
    "        # the built-in Julia method finds ALL eigenvalues (not just the k largest), \n",
    "        # but is slower than ARPACK (ok for 2x2 matrices)\n",
    "        eig_val = sort(eigvals(tm_block), rev=true)\n",
    "        cln = 1.0/(log(eig_val[1]/abs(eig_val[2])))\n",
    "    end\n",
    "    \n",
    "    return cln\n",
    "end"
   ]
  },
  {
   "cell_type": "code",
   "execution_count": 10,
   "id": "874590b6",
   "metadata": {
    "scrolled": false
   },
   "outputs": [
    {
     "data": {
      "text/plain": [
       "38.09513540501129"
      ]
     },
     "execution_count": 10,
     "metadata": {},
     "output_type": "execute_result"
    }
   ],
   "source": [
    "corr_len(8, 2) # expected 38.09513540501129"
   ]
  },
  {
   "cell_type": "code",
   "execution_count": 11,
   "id": "a229c618",
   "metadata": {
    "scrolled": true
   },
   "outputs": [
    {
     "data": {
      "text/plain": [
       "calculate_ratios (generic function with 1 method)"
      ]
     },
     "execution_count": 11,
     "metadata": {},
     "output_type": "execute_result"
    }
   ],
   "source": [
    "function calculate_ratios(n_spins, temp)\n",
    "    r = [(corr_len(i, temp)*(i+1))/(corr_len(i+1, temp)*i) for i = 2:n_spins-1]\n",
    "    return r\n",
    "end"
   ]
  },
  {
   "cell_type": "code",
   "execution_count": 15,
   "id": "7bc48c88",
   "metadata": {},
   "outputs": [
    {
     "data": {
      "text/plain": [
       "calculate_df_row (generic function with 1 method)"
      ]
     },
     "execution_count": 15,
     "metadata": {},
     "output_type": "execute_result"
    }
   ],
   "source": [
    "function calculate_df_row(n_spins, temp0, tempinc, i)\n",
    "    t = temp0+tempinc*i\n",
    "    ratios = calculate_ratios(n_spins, t)\n",
    "    row = [n_spins, t]\n",
    "    append!(row, ratios)\n",
    "    return row\n",
    "end"
   ]
  },
  {
   "cell_type": "code",
   "execution_count": 13,
   "id": "47c09020",
   "metadata": {
    "scrolled": false
   },
   "outputs": [
    {
     "data": {
      "text/plain": [
       "calculate_temp_range (generic function with 1 method)"
      ]
     },
     "execution_count": 13,
     "metadata": {},
     "output_type": "execute_result"
    }
   ],
   "source": [
    "function calculate_temp_range(; n_spins, temp0, tempinc, max_iter)\n",
    "    column_names =  [\"r$i$(i+1)\" for i = 2:n_spins-1]\n",
    "    prepend!(column_names, [\"MaxSpins\", \"temp\"])\n",
    "    rows = DataFrame([Float64[] for i in 1:length(column_names)], column_names)\n",
    "    \n",
    "    addprocs(nprocs()-1)\n",
    "    r = pmap(i -> calculate_df_row(n_spins, temp0, tempinc, i), 0:max_iter+1)\n",
    "    \n",
    "    for row in r\n",
    "        push!(rows, row)\n",
    "    end\n",
    "    \n",
    "    return rows\n",
    "end"
   ]
  },
  {
   "cell_type": "code",
   "execution_count": 16,
   "id": "42d5fb92",
   "metadata": {
    "scrolled": true
   },
   "outputs": [
    {
     "ename": "LoadError",
     "evalue": "On worker 2:\nUndefVarError: #calculate_df_row not defined\nStacktrace:\n  [1] \u001b[0m\u001b[1mdeserialize_datatype\u001b[22m\n\u001b[90m    @ \u001b[39m\u001b[90mC:\\buildbot\\worker\\package_win64\\build\\usr\\share\\julia\\stdlib\\v1.6\\Serialization\\src\\\u001b[39m\u001b[90;4mSerialization.jl:1288\u001b[0m\n  [2] \u001b[0m\u001b[1mhandle_deserialize\u001b[22m\n\u001b[90m    @ \u001b[39m\u001b[90mC:\\buildbot\\worker\\package_win64\\build\\usr\\share\\julia\\stdlib\\v1.6\\Serialization\\src\\\u001b[39m\u001b[90;4mSerialization.jl:835\u001b[0m\n  [3] \u001b[0m\u001b[1mdeserialize\u001b[22m\n\u001b[90m    @ \u001b[39m\u001b[90mC:\\buildbot\\worker\\package_win64\\build\\usr\\share\\julia\\stdlib\\v1.6\\Serialization\\src\\\u001b[39m\u001b[90;4mSerialization.jl:782\u001b[0m\n  [4] \u001b[0m\u001b[1mhandle_deserialize\u001b[22m\n\u001b[90m    @ \u001b[39m\u001b[90mC:\\buildbot\\worker\\package_win64\\build\\usr\\share\\julia\\stdlib\\v1.6\\Serialization\\src\\\u001b[39m\u001b[90;4mSerialization.jl:842\u001b[0m\n  [5] \u001b[0m\u001b[1mdeserialize\u001b[22m\n\u001b[90m    @ \u001b[39m\u001b[90mC:\\buildbot\\worker\\package_win64\\build\\usr\\share\\julia\\stdlib\\v1.6\\Serialization\\src\\\u001b[39m\u001b[90;4mSerialization.jl:782\u001b[0m\u001b[90m [inlined]\u001b[39m\n  [6] \u001b[0m\u001b[1mdeserialize_global_from_main\u001b[22m\n\u001b[90m    @ \u001b[39m\u001b[90mC:\\buildbot\\worker\\package_win64\\build\\usr\\share\\julia\\stdlib\\v1.6\\Distributed\\src\\\u001b[39m\u001b[90;4mclusterserialize.jl:160\u001b[0m\n  [7] \u001b[0m\u001b[1m#3\u001b[22m\n\u001b[90m    @ \u001b[39m\u001b[90mC:\\buildbot\\worker\\package_win64\\build\\usr\\share\\julia\\stdlib\\v1.6\\Distributed\\src\\\u001b[39m\u001b[90;4mclusterserialize.jl:72\u001b[0m\u001b[90m [inlined]\u001b[39m\n  [8] \u001b[0m\u001b[1mforeach\u001b[22m\n\u001b[90m    @ \u001b[39m\u001b[90m.\\\u001b[39m\u001b[90;4mabstractarray.jl:2141\u001b[0m\n  [9] \u001b[0m\u001b[1mdeserialize\u001b[22m\n\u001b[90m    @ \u001b[39m\u001b[90mC:\\buildbot\\worker\\package_win64\\build\\usr\\share\\julia\\stdlib\\v1.6\\Distributed\\src\\\u001b[39m\u001b[90;4mclusterserialize.jl:72\u001b[0m\n [10] \u001b[0m\u001b[1mhandle_deserialize\u001b[22m\n\u001b[90m    @ \u001b[39m\u001b[90mC:\\buildbot\\worker\\package_win64\\build\\usr\\share\\julia\\stdlib\\v1.6\\Serialization\\src\\\u001b[39m\u001b[90;4mSerialization.jl:928\u001b[0m\n [11] \u001b[0m\u001b[1mdeserialize\u001b[22m\n\u001b[90m    @ \u001b[39m\u001b[90mC:\\buildbot\\worker\\package_win64\\build\\usr\\share\\julia\\stdlib\\v1.6\\Serialization\\src\\\u001b[39m\u001b[90;4mSerialization.jl:782\u001b[0m\n [12] \u001b[0m\u001b[1mdeserialize_datatype\u001b[22m\n\u001b[90m    @ \u001b[39m\u001b[90mC:\\buildbot\\worker\\package_win64\\build\\usr\\share\\julia\\stdlib\\v1.6\\Serialization\\src\\\u001b[39m\u001b[90;4mSerialization.jl:0\u001b[0m\n [13] \u001b[0m\u001b[1mhandle_deserialize\u001b[22m\n\u001b[90m    @ \u001b[39m\u001b[90mC:\\buildbot\\worker\\package_win64\\build\\usr\\share\\julia\\stdlib\\v1.6\\Serialization\\src\\\u001b[39m\u001b[90;4mSerialization.jl:837\u001b[0m\n [14] \u001b[0m\u001b[1mdeserialize\u001b[22m\n\u001b[90m    @ \u001b[39m\u001b[90mC:\\buildbot\\worker\\package_win64\\build\\usr\\share\\julia\\stdlib\\v1.6\\Serialization\\src\\\u001b[39m\u001b[90;4mSerialization.jl:782\u001b[0m\n [15] \u001b[0m\u001b[1mhandle_deserialize\u001b[22m\n\u001b[90m    @ \u001b[39m\u001b[90mC:\\buildbot\\worker\\package_win64\\build\\usr\\share\\julia\\stdlib\\v1.6\\Serialization\\src\\\u001b[39m\u001b[90;4mSerialization.jl:842\u001b[0m\n [16] \u001b[0m\u001b[1mdeserialize\u001b[22m\n\u001b[90m    @ \u001b[39m\u001b[90mC:\\buildbot\\worker\\package_win64\\build\\usr\\share\\julia\\stdlib\\v1.6\\Serialization\\src\\\u001b[39m\u001b[90;4mSerialization.jl:782\u001b[0m\u001b[90m [inlined]\u001b[39m\n [17] \u001b[0m\u001b[1mdeserialize_msg\u001b[22m\n\u001b[90m    @ \u001b[39m\u001b[90mC:\\buildbot\\worker\\package_win64\\build\\usr\\share\\julia\\stdlib\\v1.6\\Distributed\\src\\\u001b[39m\u001b[90;4mmessages.jl:87\u001b[0m\n [18] \u001b[0m\u001b[1m#invokelatest#2\u001b[22m\n\u001b[90m    @ \u001b[39m\u001b[90m.\\\u001b[39m\u001b[90;4messentials.jl:708\u001b[0m\u001b[90m [inlined]\u001b[39m\n [19] \u001b[0m\u001b[1minvokelatest\u001b[22m\n\u001b[90m    @ \u001b[39m\u001b[90m.\\\u001b[39m\u001b[90;4messentials.jl:706\u001b[0m\u001b[90m [inlined]\u001b[39m\n [20] \u001b[0m\u001b[1mmessage_handler_loop\u001b[22m\n\u001b[90m    @ \u001b[39m\u001b[90mC:\\buildbot\\worker\\package_win64\\build\\usr\\share\\julia\\stdlib\\v1.6\\Distributed\\src\\\u001b[39m\u001b[90;4mprocess_messages.jl:169\u001b[0m\n [21] \u001b[0m\u001b[1mprocess_tcp_streams\u001b[22m\n\u001b[90m    @ \u001b[39m\u001b[90mC:\\buildbot\\worker\\package_win64\\build\\usr\\share\\julia\\stdlib\\v1.6\\Distributed\\src\\\u001b[39m\u001b[90;4mprocess_messages.jl:126\u001b[0m\n [22] \u001b[0m\u001b[1m#99\u001b[22m\n\u001b[90m    @ \u001b[39m\u001b[90m.\\\u001b[39m\u001b[90;4mtask.jl:411\u001b[0m",
     "output_type": "error",
     "traceback": [
      "On worker 2:\nUndefVarError: #calculate_df_row not defined\nStacktrace:\n  [1] \u001b[0m\u001b[1mdeserialize_datatype\u001b[22m\n\u001b[90m    @ \u001b[39m\u001b[90mC:\\buildbot\\worker\\package_win64\\build\\usr\\share\\julia\\stdlib\\v1.6\\Serialization\\src\\\u001b[39m\u001b[90;4mSerialization.jl:1288\u001b[0m\n  [2] \u001b[0m\u001b[1mhandle_deserialize\u001b[22m\n\u001b[90m    @ \u001b[39m\u001b[90mC:\\buildbot\\worker\\package_win64\\build\\usr\\share\\julia\\stdlib\\v1.6\\Serialization\\src\\\u001b[39m\u001b[90;4mSerialization.jl:835\u001b[0m\n  [3] \u001b[0m\u001b[1mdeserialize\u001b[22m\n\u001b[90m    @ \u001b[39m\u001b[90mC:\\buildbot\\worker\\package_win64\\build\\usr\\share\\julia\\stdlib\\v1.6\\Serialization\\src\\\u001b[39m\u001b[90;4mSerialization.jl:782\u001b[0m\n  [4] \u001b[0m\u001b[1mhandle_deserialize\u001b[22m\n\u001b[90m    @ \u001b[39m\u001b[90mC:\\buildbot\\worker\\package_win64\\build\\usr\\share\\julia\\stdlib\\v1.6\\Serialization\\src\\\u001b[39m\u001b[90;4mSerialization.jl:842\u001b[0m\n  [5] \u001b[0m\u001b[1mdeserialize\u001b[22m\n\u001b[90m    @ \u001b[39m\u001b[90mC:\\buildbot\\worker\\package_win64\\build\\usr\\share\\julia\\stdlib\\v1.6\\Serialization\\src\\\u001b[39m\u001b[90;4mSerialization.jl:782\u001b[0m\u001b[90m [inlined]\u001b[39m\n  [6] \u001b[0m\u001b[1mdeserialize_global_from_main\u001b[22m\n\u001b[90m    @ \u001b[39m\u001b[90mC:\\buildbot\\worker\\package_win64\\build\\usr\\share\\julia\\stdlib\\v1.6\\Distributed\\src\\\u001b[39m\u001b[90;4mclusterserialize.jl:160\u001b[0m\n  [7] \u001b[0m\u001b[1m#3\u001b[22m\n\u001b[90m    @ \u001b[39m\u001b[90mC:\\buildbot\\worker\\package_win64\\build\\usr\\share\\julia\\stdlib\\v1.6\\Distributed\\src\\\u001b[39m\u001b[90;4mclusterserialize.jl:72\u001b[0m\u001b[90m [inlined]\u001b[39m\n  [8] \u001b[0m\u001b[1mforeach\u001b[22m\n\u001b[90m    @ \u001b[39m\u001b[90m.\\\u001b[39m\u001b[90;4mabstractarray.jl:2141\u001b[0m\n  [9] \u001b[0m\u001b[1mdeserialize\u001b[22m\n\u001b[90m    @ \u001b[39m\u001b[90mC:\\buildbot\\worker\\package_win64\\build\\usr\\share\\julia\\stdlib\\v1.6\\Distributed\\src\\\u001b[39m\u001b[90;4mclusterserialize.jl:72\u001b[0m\n [10] \u001b[0m\u001b[1mhandle_deserialize\u001b[22m\n\u001b[90m    @ \u001b[39m\u001b[90mC:\\buildbot\\worker\\package_win64\\build\\usr\\share\\julia\\stdlib\\v1.6\\Serialization\\src\\\u001b[39m\u001b[90;4mSerialization.jl:928\u001b[0m\n [11] \u001b[0m\u001b[1mdeserialize\u001b[22m\n\u001b[90m    @ \u001b[39m\u001b[90mC:\\buildbot\\worker\\package_win64\\build\\usr\\share\\julia\\stdlib\\v1.6\\Serialization\\src\\\u001b[39m\u001b[90;4mSerialization.jl:782\u001b[0m\n [12] \u001b[0m\u001b[1mdeserialize_datatype\u001b[22m\n\u001b[90m    @ \u001b[39m\u001b[90mC:\\buildbot\\worker\\package_win64\\build\\usr\\share\\julia\\stdlib\\v1.6\\Serialization\\src\\\u001b[39m\u001b[90;4mSerialization.jl:0\u001b[0m\n [13] \u001b[0m\u001b[1mhandle_deserialize\u001b[22m\n\u001b[90m    @ \u001b[39m\u001b[90mC:\\buildbot\\worker\\package_win64\\build\\usr\\share\\julia\\stdlib\\v1.6\\Serialization\\src\\\u001b[39m\u001b[90;4mSerialization.jl:837\u001b[0m\n [14] \u001b[0m\u001b[1mdeserialize\u001b[22m\n\u001b[90m    @ \u001b[39m\u001b[90mC:\\buildbot\\worker\\package_win64\\build\\usr\\share\\julia\\stdlib\\v1.6\\Serialization\\src\\\u001b[39m\u001b[90;4mSerialization.jl:782\u001b[0m\n [15] \u001b[0m\u001b[1mhandle_deserialize\u001b[22m\n\u001b[90m    @ \u001b[39m\u001b[90mC:\\buildbot\\worker\\package_win64\\build\\usr\\share\\julia\\stdlib\\v1.6\\Serialization\\src\\\u001b[39m\u001b[90;4mSerialization.jl:842\u001b[0m\n [16] \u001b[0m\u001b[1mdeserialize\u001b[22m\n\u001b[90m    @ \u001b[39m\u001b[90mC:\\buildbot\\worker\\package_win64\\build\\usr\\share\\julia\\stdlib\\v1.6\\Serialization\\src\\\u001b[39m\u001b[90;4mSerialization.jl:782\u001b[0m\u001b[90m [inlined]\u001b[39m\n [17] \u001b[0m\u001b[1mdeserialize_msg\u001b[22m\n\u001b[90m    @ \u001b[39m\u001b[90mC:\\buildbot\\worker\\package_win64\\build\\usr\\share\\julia\\stdlib\\v1.6\\Distributed\\src\\\u001b[39m\u001b[90;4mmessages.jl:87\u001b[0m\n [18] \u001b[0m\u001b[1m#invokelatest#2\u001b[22m\n\u001b[90m    @ \u001b[39m\u001b[90m.\\\u001b[39m\u001b[90;4messentials.jl:708\u001b[0m\u001b[90m [inlined]\u001b[39m\n [19] \u001b[0m\u001b[1minvokelatest\u001b[22m\n\u001b[90m    @ \u001b[39m\u001b[90m.\\\u001b[39m\u001b[90;4messentials.jl:706\u001b[0m\u001b[90m [inlined]\u001b[39m\n [20] \u001b[0m\u001b[1mmessage_handler_loop\u001b[22m\n\u001b[90m    @ \u001b[39m\u001b[90mC:\\buildbot\\worker\\package_win64\\build\\usr\\share\\julia\\stdlib\\v1.6\\Distributed\\src\\\u001b[39m\u001b[90;4mprocess_messages.jl:169\u001b[0m\n [21] \u001b[0m\u001b[1mprocess_tcp_streams\u001b[22m\n\u001b[90m    @ \u001b[39m\u001b[90mC:\\buildbot\\worker\\package_win64\\build\\usr\\share\\julia\\stdlib\\v1.6\\Distributed\\src\\\u001b[39m\u001b[90;4mprocess_messages.jl:126\u001b[0m\n [22] \u001b[0m\u001b[1m#99\u001b[22m\n\u001b[90m    @ \u001b[39m\u001b[90m.\\\u001b[39m\u001b[90;4mtask.jl:411\u001b[0m",
      "",
      "Stacktrace:",
      "  [1] (::Base.var\"#837#839\")(x::Task)",
      "    @ Base .\\asyncmap.jl:177",
      "  [2] foreach(f::Base.var\"#837#839\", itr::Vector{Any})",
      "    @ Base .\\abstractarray.jl:2141",
      "  [3] maptwice(wrapped_f::Function, chnl::Channel{Any}, worker_tasks::Vector{Any}, c::UnitRange{Int64})",
      "    @ Base .\\asyncmap.jl:177",
      "  [4] wrap_n_exec_twice",
      "    @ .\\asyncmap.jl:153 [inlined]",
      "  [5] #async_usemap#822",
      "    @ .\\asyncmap.jl:103 [inlined]",
      "  [6] #asyncmap#821",
      "    @ .\\asyncmap.jl:81 [inlined]",
      "  [7] pmap(f::Function, p::WorkerPool, c::UnitRange{Int64}; distributed::Bool, batch_size::Int64, on_error::Nothing, retry_delays::Vector{Any}, retry_check::Nothing)",
      "    @ Distributed C:\\buildbot\\worker\\package_win64\\build\\usr\\share\\julia\\stdlib\\v1.6\\Distributed\\src\\pmap.jl:126",
      "  [8] pmap",
      "    @ C:\\buildbot\\worker\\package_win64\\build\\usr\\share\\julia\\stdlib\\v1.6\\Distributed\\src\\pmap.jl:101 [inlined]",
      "  [9] #pmap#215",
      "    @ C:\\buildbot\\worker\\package_win64\\build\\usr\\share\\julia\\stdlib\\v1.6\\Distributed\\src\\pmap.jl:156 [inlined]",
      " [10] pmap",
      "    @ C:\\buildbot\\worker\\package_win64\\build\\usr\\share\\julia\\stdlib\\v1.6\\Distributed\\src\\pmap.jl:156 [inlined]",
      " [11] calculate_temp_range(; n_spins::Int64, temp0::Float64, tempinc::Float64, max_iter::Int64)",
      "    @ Main .\\In[13]:7",
      " [12] top-level scope",
      "    @ .\\timing.jl:210 [inlined]",
      " [13] top-level scope",
      "    @ .\\In[16]:0",
      " [14] eval",
      "    @ .\\boot.jl:360 [inlined]",
      " [15] include_string(mapexpr::typeof(REPL.softscope), mod::Module, code::String, filename::String)",
      "    @ Base .\\loading.jl:1116"
     ]
    }
   ],
   "source": [
    "@time temp_range = calculate_temp_range(n_spins=MAX_SPINS_CHAIN, temp0=TEMP0, tempinc=TEMP_INC, max_iter=MAX_ITER)"
   ]
  },
  {
   "cell_type": "code",
   "execution_count": null,
   "id": "3950043c",
   "metadata": {
    "scrolled": false
   },
   "outputs": [],
   "source": [
    "CSV.write(\"corr-len-output/corl-tmp-long_N$(MAX_SPINS_CHAIN)_T0$(TEMP0)_INC$(TEMP_INC).dat\", temp_range, delim=\"\\t\")"
   ]
  },
  {
   "cell_type": "code",
   "execution_count": null,
   "id": "ba92fdc8",
   "metadata": {
    "scrolled": true
   },
   "outputs": [],
   "source": [
    "p = plot(dpi=600)\n",
    "xlabel!(p, \"T\")\n",
    "ylabel!(p, \"correlation length ratio\")\n",
    "for i in 2:Int(temp_range.MaxSpins[1]-1)\n",
    "    plot!(p, temp_range.temp, temp_range[!,\"r$i$(i+1)\"], label=latexstring(\"\\$r_{$(i), $(i+1)}\\$\"))\n",
    "end\n",
    "display(p)\n",
    "savefig(p, \"corr-len-output/corl-tmp-long_N$(MAX_SPINS_CHAIN)_T0$(TEMP0)_INC$(TEMP_INC).png\") "
   ]
  }
 ],
 "metadata": {
  "kernelspec": {
   "display_name": "Julia nteract 1.6.2",
   "language": "julia",
   "name": "julia-nteract-1.6"
  },
  "language_info": {
   "file_extension": ".jl",
   "mimetype": "application/julia",
   "name": "julia",
   "version": "1.6.2"
  }
 },
 "nbformat": 4,
 "nbformat_minor": 5
}
