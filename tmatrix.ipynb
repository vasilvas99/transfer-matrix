{
 "cells": [
  {
   "cell_type": "code",
   "execution_count": 1,
   "metadata": {},
   "outputs": [
    {
     "name": "stderr",
     "output_type": "stream",
     "text": [
      "\u001b[32m\u001b[1m    Updating\u001b[22m\u001b[39m registry at `~/.julia/registries/General.toml`\n"
     ]
    },
    {
     "name": "stderr",
     "output_type": "stream",
     "text": [
      "\u001b[32m\u001b[1m   Resolving\u001b[22m\u001b[39m package versions...\n"
     ]
    },
    {
     "name": "stderr",
     "output_type": "stream",
     "text": [
      "\u001b[32m\u001b[1m  No Changes\u001b[22m\u001b[39m to `~/.julia/environments/v1.7/Project.toml`\n",
      "\u001b[32m\u001b[1m  No Changes\u001b[22m\u001b[39m to `~/.julia/environments/v1.7/Manifest.toml`\n"
     ]
    },
    {
     "data": {
      "text/plain": [
       "true"
      ]
     },
     "metadata": {},
     "output_type": "display_data"
    }
   ],
   "source": [
    "if !@isdefined(PACKAGES)\n",
    "    using Pkg;\n",
    "    Pkg.add(\"Arpack\");\n",
    "    using Arpack;\n",
    "    PACKAGES = true\n",
    "end"
   ]
  },
  {
   "cell_type": "markdown",
   "metadata": {},
   "source": [
    "We will encode a chain in the Ising model as a binary number.\n",
    "\n",
    "0 - spin down\n",
    "1 - spin up\n",
    "\n",
    "For example in an 8-spin chain we would like to know the value of the 3-rd spin (counting right to left/least significant to most significant bit, starting from 0):\n",
    "\n",
    "```\n",
    "10100110\n",
    "    ^\n",
    "    |\n",
    "    ------ 3-rd most significant bit\n",
    "```\n",
    "This can be achieved via bit-mask testing.\n",
    "\n",
    "```\n",
    "Let\n",
    "mask = 00000001\n",
    "spin_no = 3\n",
    "\n",
    "mask = mask << spin_no\n",
    "mask = 00001000\n",
    "\n",
    "Using the bitwise-and operation then:\n",
    "  10100110\n",
    "& \n",
    "  00001000\n",
    "------------\n",
    "  00000000 == -> spin down\n",
    "```\n",
    "\n",
    "If the results is zero the bit was unset (spin down), otherwise it was set (spin up).\n",
    "\n",
    "Putting into practice:"
   ]
  },
  {
   "cell_type": "code",
   "execution_count": 2,
   "metadata": {},
   "outputs": [
    {
     "name": "stdout",
     "output_type": "stream",
     "text": [
      "10100110\n",
      "&\n"
     ]
    },
    {
     "name": "stdout",
     "output_type": "stream",
     "text": [
      "00001000\n",
      "--------\n",
      "00000000\n"
     ]
    },
    {
     "data": {
      "text/plain": [
       "\"down\""
      ]
     },
     "metadata": {},
     "output_type": "display_data"
    }
   ],
   "source": [
    "# Example\n",
    "state = 0b10100110\n",
    "spin_num = 3\n",
    "mask = 1 << spin_num\n",
    "println(bitstring((state)))\n",
    "println(\"&\")\n",
    "println(bitstring(Int8(mask)))\n",
    "println(\"--------\")\n",
    "ss = state & mask\n",
    "println(bitstring(Int8(ss)))\n",
    "ss != 0 ? \"up\" : \"down\""
   ]
  },
  {
   "cell_type": "markdown",
   "metadata": {},
   "source": [
    "To make counting easier later, we shall offset all the bits by 1, i.e. the least significant bit having an index of 1 instead of 0"
   ]
  },
  {
   "cell_type": "code",
   "execution_count": 3,
   "metadata": {},
   "outputs": [
    {
     "data": {
      "text/plain": [
       "spin_state (generic function with 1 method)"
      ]
     },
     "metadata": {},
     "output_type": "display_data"
    }
   ],
   "source": [
    "function spin_state(chain_configuration, spin_number)\n",
    "    spin_number -= 1 # start counting of bits from 1\n",
    "    mask = 1 << spin_number\n",
    "    state = chain_configuration & mask\n",
    "    return state != 0 ? 1 : -1\n",
    "end"
   ]
  },
  {
   "cell_type": "code",
   "execution_count": 4,
   "metadata": {},
   "outputs": [
    {
     "data": {
      "text/plain": [
       "R (generic function with 1 method)"
      ]
     },
     "metadata": {},
     "output_type": "display_data"
    }
   ],
   "source": [
    "function R(i, p)\n",
    "    return (1.0/i)^p\n",
    "end"
   ]
  },
  {
   "cell_type": "markdown",
   "metadata": {},
   "source": [
    "This implementation should be much faster than using loops since bit-shifts are low-level single instruction operations"
   ]
  },
  {
   "cell_type": "markdown",
   "metadata": {},
   "source": [
    "Now, we can define a function that takes two binary encoded neighbouring chains and calculates the hamiltonian:\n",
    "\n",
    "$$\n",
    "    H = -J \\sum_{ij} s_i \\cdot s_j - h \\sum_{i} s_i\n",
    "$$"
   ]
  },
  {
   "cell_type": "code",
   "execution_count": 5,
   "metadata": {},
   "outputs": [
    {
     "data": {
      "text/plain": [
       "hamiltonian (generic function with 1 method)"
      ]
     },
     "metadata": {},
     "output_type": "display_data"
    }
   ],
   "source": [
    "function hamiltonian(\n",
    "                     chain_size, # number of spins in chain\n",
    "                     interaction_range, # range of interactions in chain\n",
    "                     p, # interaction exponent\n",
    "                     right_chain, # encoded i-th chain\n",
    "                     left_chain, # encoded i+1-th chain\n",
    "                     Rs, # side-to-side interaction strength,\n",
    "                     M, # external magnetic field\n",
    "                     )\n",
    "    \n",
    "    h = 0.0 # start with 0 hamiltonian\n",
    "    for spin_num in 1:chain_size # calculate neighbouring row (side-to-side) interactions\n",
    "        #println(spin_state(right_chain, spin_num))\n",
    "        h += spin_state(right_chain, spin_num)*spin_state(left_chain, spin_num)\n",
    "    end\n",
    "    h *= Rs\n",
    "\n",
    "    for inter_offset in 1:interaction_range # calculate in-chain NN interactions for both chains\n",
    "        h_temp = 0.0 # hamiltonian for given interaction offset\n",
    "        for spin_num in 1:chain_size\n",
    "            nbr_num = spin_num + inter_offset # index of iteracting neighbour\n",
    "            if nbr_num > chain_size\n",
    "                nbr_num = nbr_num % chain_size\n",
    "            end\n",
    "            h_temp += spin_state(right_chain, spin_num)*spin_state(right_chain, nbr_num) + spin_state(left_chain, spin_num)*spin_state(left_chain, nbr_num)\n",
    "        end\n",
    "        h += 0.5 * R(inter_offset, p) * h_temp # devide by 2 because of double-counting of chains\n",
    "    end\n",
    "    \n",
    "    h_temp = 0.0\n",
    "    for spin_num in 1:chain_size # external field interaction\n",
    "        h_temp += spin_state(right_chain, spin_num) + spin_state(left_chain, spin_num)\n",
    "    end\n",
    "\n",
    "    h += 0.5 * M * h_temp\n",
    "    \n",
    "    return h\n",
    "end"
   ]
  },
  {
   "cell_type": "code",
   "execution_count": 6,
   "metadata": {},
   "outputs": [
    {
     "data": {
      "text/plain": [
       "generate_transfer_matrix (generic function with 1 method)"
      ]
     },
     "metadata": {},
     "output_type": "display_data"
    }
   ],
   "source": [
    "function generate_transfer_matrix(chain_size, interaction_range, p, Rs, M, temperature)\n",
    "    n  = 2^chain_size\n",
    "    t_mtx = zeros((n, n))\n",
    "    for i in 1:n\n",
    "        for j in 1:n\n",
    "            h_n = hamiltonian(chain_size, interaction_range, p, i, j, Rs, M)\n",
    "            t_mtx[i, j] = exp(h_n/temperature)\n",
    "        end\n",
    "    end\n",
    "    return t_mtx\n",
    "end"
   ]
  },
  {
   "cell_type": "code",
   "execution_count": 7,
   "metadata": {},
   "outputs": [],
   "source": [
    "ch_size = 8\n",
    "int_range = 1\n",
    "p = 2\n",
    "Rs = 1\n",
    "M = 0\n",
    "T = 2\n",
    "transfer_mtx = generate_transfer_matrix(ch_size, int_range, p, Rs, M, T);"
   ]
  },
  {
   "cell_type": "code",
   "execution_count": 8,
   "metadata": {},
   "outputs": [
    {
     "data": {
      "text/plain": [
       "10-element Vector{Float64}:\n",
       "  3709.959215993373\n",
       " -3613.8396165338017\n",
       "  1513.108055242081\n",
       " -1320.2010755163271\n",
       " -1320.2010755163246\n",
       "   803.8016131810996\n",
       "   803.8016131810986\n",
       "   803.8016131810986\n",
       "   803.8016131810975\n",
       "  -761.0346661450451"
      ]
     },
     "metadata": {},
     "output_type": "display_data"
    }
   ],
   "source": [
    "eig_val, eig_vec = eigs(transfer_mtx, nev=10);\n",
    "eig_val"
   ]
  }
 ],
 "metadata": {
  "kernelspec": {
   "display_name": "Julia 1.7.3",
   "language": "julia",
   "name": "julia-1.7"
  },
  "language_info": {
   "file_extension": ".jl",
   "mimetype": "application/julia",
   "name": "julia",
   "version": "1.7.3"
  },
  "orig_nbformat": 4
 },
 "nbformat": 4,
 "nbformat_minor": 2
}
