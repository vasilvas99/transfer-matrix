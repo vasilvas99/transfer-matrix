{
 "cells": [
  {
   "cell_type": "markdown",
   "id": "92a4884b",
   "metadata": {},
   "source": [
    "# Симетричен блок на трансфер-матрицата"
   ]
  },
  {
   "cell_type": "markdown",
   "id": "81d4976e",
   "metadata": {},
   "source": [
    "Ще използваме библиотека, която позволява произволно индексиране на масиви, за да можем да работим с 0-базирано броене"
   ]
  },
  {
   "cell_type": "code",
   "execution_count": 25,
   "id": "626fde5e",
   "metadata": {},
   "outputs": [],
   "source": [
    "if !@isdefined(PACKAGES_INSTALLED)\n",
    "    using Pkg;\n",
    "    Pkg.add(\"OffsetArrays\");\n",
    "    using OffsetArrays;\n",
    "    PACKAGES_INSTALLED = true;\n",
    "end"
   ]
  },
  {
   "cell_type": "markdown",
   "id": "a99bf43d",
   "metadata": {},
   "source": [
    "Работим с целочислена аритметика и векторите на състоянията представяме като цели числа, за които състоянието на бит на определена позиция отговоря на спин надолу или нагоре във верижката от спинове за тази позиция.\n",
    "\n",
    "Така можем да имплементираме операцията транслиране _translation_steps_ - стъпки на верижката от спинове изцяло с побитови операции, без да използваме цикли. Това спестява значително изчислително време.\n",
    "\n",
    "За целта, нека translation_steps = 2 и работим с 4-битови числа с цел простота на записа:\n",
    "``` \n",
    "~0 <=> 0b1111\n",
    "0b1111 << 2 = 0b1100\n",
    "~0b1100 = 0b00011\n",
    "```\n",
    "Имаме битова маска, която ни позволява след това с опреация AND да вземем последните два бита на дадено число.\n",
    "\n",
    "След като имаме нужните битове остава да ги \"наместим\" на правилните места. Последните _translation_steps_ - бита стават първите, а останалите биват изместени толкова стпъки назад.\n"
   ]
  },
  {
   "cell_type": "code",
   "execution_count": 26,
   "id": "e5941773",
   "metadata": {},
   "outputs": [
    {
     "data": {
      "text/plain": [
       "translate (generic function with 1 method)"
      ]
     },
     "execution_count": 26,
     "metadata": {},
     "output_type": "execute_result"
    }
   ],
   "source": [
    "function translate(vec, translation_steps, N)\n",
    "    translation_steps %= N\n",
    "    head_mask = ~(~0 << translation_steps) # generate the mask that is all zeroes except the last translation_steps bits\n",
    "    head = vec & head_mask # get the last the last translation_steps of the state vector\n",
    "    tail = vec >> translation_steps # get the first (n_conf-translation_steps) bits of the vector\n",
    "    final = (head << (N-translation_steps)) | tail # combine accordingly\n",
    "    return final\n",
    "end"
   ]
  },
  {
   "cell_type": "markdown",
   "id": "98e6a95d",
   "metadata": {},
   "source": [
    "Итеративно тази функция можем да запишем и като:"
   ]
  },
  {
   "cell_type": "code",
   "execution_count": 27,
   "id": "c3cf6ca4",
   "metadata": {},
   "outputs": [
    {
     "data": {
      "text/plain": [
       "translate_loopy (generic function with 1 method)"
      ]
     },
     "execution_count": 27,
     "metadata": {},
     "output_type": "execute_result"
    }
   ],
   "source": [
    "function translate_loopy(vec, translation_steps, N)\n",
    "    divisor = 2^(N-1)\n",
    "    for __ in 1:translation_steps\n",
    "        v_temp = vec ÷ 2\n",
    "        vec = v_temp + divisor*(vec-v_temp*2)\n",
    "    end\n",
    "    return vec\n",
    "end"
   ]
  },
  {
   "cell_type": "markdown",
   "id": "f849c908",
   "metadata": {},
   "source": [
    "Необходима ни е и функция, с която при прилагане на транслационна стъпка да проверяваме дали полученият вектор принадлежи на вече намерен симетричен клас. Тук трябва да стане итеративно, но можем да се възползваме от вградените възможности на Julia за оптимизирано търсене на елемент в обхват, който изпълнява дадено условие. Така получаваме по-компактна и по-бърза функция (binary search)"
   ]
  },
  {
   "cell_type": "code",
   "execution_count": 28,
   "id": "14064df8",
   "metadata": {},
   "outputs": [
    {
     "data": {
      "text/plain": [
       "find_class (generic function with 1 method)"
      ]
     },
     "execution_count": 28,
     "metadata": {},
     "output_type": "execute_result"
    }
   ],
   "source": [
    "function find_class(translated_vec, vec)\n",
    "    res = findfirst(j -> j == translated_vec, 1:vec-1)\n",
    "    return res === nothing ? -1 : res\n",
    "end"
   ]
  },
  {
   "cell_type": "markdown",
   "id": "670ab497",
   "metadata": {},
   "source": [
    "Ако работата в линейно време е приемлива, можем да изпозлваме по-разширен вариант на горната функция:"
   ]
  },
  {
   "cell_type": "code",
   "execution_count": 29,
   "id": "92a26694",
   "metadata": {},
   "outputs": [
    {
     "data": {
      "text/plain": [
       "find_class_loopy (generic function with 1 method)"
      ]
     },
     "execution_count": 29,
     "metadata": {},
     "output_type": "execute_result"
    }
   ],
   "source": [
    "function find_class_loopy(translated_vec, vec)\n",
    "    for j in 1:vec-1\n",
    "        if j == translated_vec\n",
    "            return j\n",
    "        end\n",
    "    end\n",
    "    return -1\n",
    "end"
   ]
  },
  {
   "cell_type": "markdown",
   "id": "1d13484b",
   "metadata": {},
   "source": [
    "Ще са ни необходими и две функции, с които съоветно да добавим първия вектор към новооткрит симетричен клас или да добавим настоящия към вече намерен такъв"
   ]
  },
  {
   "cell_type": "code",
   "execution_count": 30,
   "id": "16a09d39",
   "metadata": {},
   "outputs": [
    {
     "data": {
      "text/plain": [
       "add_new_class (generic function with 1 method)"
      ]
     },
     "execution_count": 30,
     "metadata": {},
     "output_type": "execute_result"
    }
   ],
   "source": [
    "function add_new_class(vec, classes, num_vectors_class)\n",
    "    classes[vec] = vec\n",
    "    num_vectors_class[vec] = 1\n",
    "end"
   ]
  },
  {
   "cell_type": "code",
   "execution_count": 31,
   "id": "664d567c",
   "metadata": {},
   "outputs": [
    {
     "data": {
      "text/plain": [
       "set_class (generic function with 1 method)"
      ]
     },
     "execution_count": 31,
     "metadata": {},
     "output_type": "execute_result"
    }
   ],
   "source": [
    "function set_class(vec, class, classes, num_vectors_class)\n",
    "    classes[vec] = classes[class]\n",
    "    num_vectors_class[classes[class]] += 1\n",
    "end"
   ]
  },
  {
   "cell_type": "markdown",
   "id": "6b956c7a",
   "metadata": {},
   "source": [
    "Комбинирайки всичко по-горе получаваме следната крайна имплементация за генериране на класовете на симетрия\n"
   ]
  },
  {
   "cell_type": "code",
   "execution_count": 32,
   "id": "5ea8ecf3",
   "metadata": {},
   "outputs": [
    {
     "data": {
      "text/plain": [
       "classify (generic function with 1 method)"
      ]
     },
     "execution_count": 32,
     "metadata": {},
     "output_type": "execute_result"
    }
   ],
   "source": [
    "function classify(n_spins, tr_steps)    \n",
    "    l = n_spins ÷ tr_steps\n",
    "    n_conf = 2^n_spins\n",
    "\n",
    "    classes = OffsetVector(zeros(Int64, n_conf+1), 0:n_conf)\n",
    "    num_vecs_class = OffsetVector(zeros(Int64, n_conf+1), 0:n_conf)\n",
    "    n_classes = 2 \n",
    "\n",
    "    classes[0] = 0\n",
    "    classes[1] = 1\n",
    "    num_vecs_class[1] = 1\n",
    "    num_vecs_class[0] = 1\n",
    "\n",
    "    new_class_found = false\n",
    " \n",
    "    for vec in 2:n_conf-2\n",
    "        vec_temp = vec\n",
    "\n",
    "        for _ in 1:l-1\n",
    "            vec_temp = translate(vec_temp, tr_steps, n_spins)\n",
    "            class = find_class(vec_temp, vec)\n",
    "            if class != -1 # vector belongs to an already found class, update the class\n",
    "                set_class(vec, class, classes, num_vecs_class)\n",
    "                new_class_found = false\n",
    "                break\n",
    "            else # vector belongs to a new class, continue \n",
    "                new_class_found = true\n",
    "            end\n",
    "        end\n",
    "        \n",
    "        if new_class_found\n",
    "            add_new_class(vec, classes, num_vecs_class)\n",
    "            n_classes += 1 \n",
    "        end\n",
    "\n",
    "    end \n",
    "    \n",
    "    classes[n_conf-1] = n_conf - 1\n",
    "    num_vecs_class[n_conf-1] = 1\n",
    "    n_classes += 1\n",
    "    \n",
    "    return (classes, num_vecs_class)\n",
    "    \n",
    "end"
   ]
  },
  {
   "cell_type": "markdown",
   "id": "1f9aa279",
   "metadata": {},
   "source": [
    "Ще добавим към настоящата имплементация и функции за принтиране/записване във файл на блока"
   ]
  },
  {
   "cell_type": "code",
   "execution_count": 33,
   "id": "f2a65473",
   "metadata": {},
   "outputs": [
    {
     "data": {
      "text/plain": [
       "print_classes (generic function with 1 method)"
      ]
     },
     "execution_count": 33,
     "metadata": {},
     "output_type": "execute_result"
    }
   ],
   "source": [
    "function print_classes(classes, num_vecs_class)\n",
    "    for i in 0:length(classes)-1\n",
    "        if num_vecs_class[i] > 0\n",
    "            println(string(num_vecs_class[i]) * \"\\t\" * string(classes[i]))\n",
    "        end\n",
    "    end\n",
    "end"
   ]
  },
  {
   "cell_type": "code",
   "execution_count": 34,
   "id": "ed6ebaea",
   "metadata": {},
   "outputs": [
    {
     "data": {
      "text/plain": [
       "write_to_file (generic function with 1 method)"
      ]
     },
     "execution_count": 34,
     "metadata": {},
     "output_type": "execute_result"
    }
   ],
   "source": [
    "function write_to_file(classes, num_vecs_class, filepath)\n",
    "    f = open(filepath, \"w\")\n",
    "    for i in 0:length(classes)-1\n",
    "        if num_vecs_class[i] > 0\n",
    "            write(f, string(num_vecs_class[i]) * \"\\t\" * string(classes[i])*\"\\n\")\n",
    "        end\n",
    "    end\n",
    "    close(f)\n",
    "end"
   ]
  },
  {
   "cell_type": "code",
   "execution_count": 35,
   "id": "4357eb4d",
   "metadata": {},
   "outputs": [
    {
     "name": "stdout",
     "output_type": "stream",
     "text": [
      "1\t0\n",
      "4\t1\n",
      "4\t3\n",
      "2\t5\n",
      "4\t7\n",
      "1\t15\n"
     ]
    }
   ],
   "source": [
    "classes_t, num_vecs_class_t = classify(4, 1)\n",
    "print_classes(classes_t, num_vecs_class_t)"
   ]
  },
  {
   "cell_type": "code",
   "execution_count": 36,
   "id": "61a04b02",
   "metadata": {},
   "outputs": [],
   "source": [
    "n_t = 4\n",
    "tr_t = 2\n",
    "classes_t, num_vecs_class_t = classify(n_t, tr_t)\n",
    "write_to_file(classes_t, num_vecs_class_t, \"symblock_julia_n\"*string(n_t)*\"_tr\"*string(tr_t)*\".dat\")"
   ]
  }
 ],
 "metadata": {
  "kernelspec": {
   "display_name": "Julia 1.8.1",
   "language": "julia",
   "name": "julia-1.8"
  },
  "language_info": {
   "file_extension": ".jl",
   "mimetype": "application/julia",
   "name": "julia",
   "version": "1.8.1"
  }
 },
 "nbformat": 4,
 "nbformat_minor": 5
}
